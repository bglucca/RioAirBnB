{
 "cells": [
  {
   "cell_type": "markdown",
   "metadata": {},
   "source": [
    "# Questions\n",
    "\n",
    "How to make search experience easier through data?\n",
    "\n",
    "- Where are the cheapest options located? (Where to look)\n",
    "- Can we pre-segment listings by their characteristics? (Offer Groups of listings)\n",
    "- Are the location prices and cluster prices associated to market concentration? (Avoid skewed prices)\n",
    "- What are usual amenities that the customer should expect from listings in Rio? (Set expectations)"
   ]
  },
  {
   "cell_type": "code",
   "execution_count": 105,
   "metadata": {},
   "outputs": [],
   "source": [
    "# Wrangling\n",
    "import pandas as pd\n",
    "import numpy as np\n",
    "\n",
    "# Modelling\n",
    "from kmodes.kmodes import KModes\n",
    "\n",
    "# Viz\n",
    "import matplotlib.pyplot as plt\n",
    "import seaborn as sns\n",
    "\n",
    "# Text\n",
    "import unidecode\n",
    "import re"
   ]
  },
  {
   "cell_type": "code",
   "execution_count": 106,
   "metadata": {},
   "outputs": [],
   "source": [
    "# Setting a bigger standard figure size\n",
    "sns.set(rc={\"figure.figsize\":(15, 10)})"
   ]
  },
  {
   "cell_type": "code",
   "execution_count": 107,
   "metadata": {},
   "outputs": [],
   "source": [
    "df = pd.read_csv('data/listings.csv.gz', compression='gzip')"
   ]
  },
  {
   "cell_type": "code",
   "execution_count": 108,
   "metadata": {},
   "outputs": [
    {
     "data": {
      "text/plain": [
       "Index(['id', 'listing_url', 'scrape_id', 'last_scraped', 'source', 'name',\n",
       "       'description', 'neighborhood_overview', 'picture_url', 'host_id',\n",
       "       'host_url', 'host_name', 'host_since', 'host_location', 'host_about',\n",
       "       'host_response_time', 'host_response_rate', 'host_acceptance_rate',\n",
       "       'host_is_superhost', 'host_thumbnail_url', 'host_picture_url',\n",
       "       'host_neighbourhood', 'host_listings_count',\n",
       "       'host_total_listings_count', 'host_verifications',\n",
       "       'host_has_profile_pic', 'host_identity_verified', 'neighbourhood',\n",
       "       'neighbourhood_cleansed', 'neighbourhood_group_cleansed', 'latitude',\n",
       "       'longitude', 'property_type', 'room_type', 'accommodates', 'bathrooms',\n",
       "       'bathrooms_text', 'bedrooms', 'beds', 'amenities', 'price',\n",
       "       'minimum_nights', 'maximum_nights', 'minimum_minimum_nights',\n",
       "       'maximum_minimum_nights', 'minimum_maximum_nights',\n",
       "       'maximum_maximum_nights', 'minimum_nights_avg_ntm',\n",
       "       'maximum_nights_avg_ntm', 'calendar_updated', 'has_availability',\n",
       "       'availability_30', 'availability_60', 'availability_90',\n",
       "       'availability_365', 'calendar_last_scraped', 'number_of_reviews',\n",
       "       'number_of_reviews_ltm', 'number_of_reviews_l30d', 'first_review',\n",
       "       'last_review', 'review_scores_rating', 'review_scores_accuracy',\n",
       "       'review_scores_cleanliness', 'review_scores_checkin',\n",
       "       'review_scores_communication', 'review_scores_location',\n",
       "       'review_scores_value', 'license', 'instant_bookable',\n",
       "       'calculated_host_listings_count',\n",
       "       'calculated_host_listings_count_entire_homes',\n",
       "       'calculated_host_listings_count_private_rooms',\n",
       "       'calculated_host_listings_count_shared_rooms', 'reviews_per_month'],\n",
       "      dtype='object')"
      ]
     },
     "execution_count": 108,
     "metadata": {},
     "output_type": "execute_result"
    }
   ],
   "source": [
    "df.columns"
   ]
  },
  {
   "cell_type": "code",
   "execution_count": 110,
   "metadata": {},
   "outputs": [
    {
     "data": {
      "text/html": [
       "<div>\n",
       "<style scoped>\n",
       "    .dataframe tbody tr th:only-of-type {\n",
       "        vertical-align: middle;\n",
       "    }\n",
       "\n",
       "    .dataframe tbody tr th {\n",
       "        vertical-align: top;\n",
       "    }\n",
       "\n",
       "    .dataframe thead th {\n",
       "        text-align: right;\n",
       "    }\n",
       "</style>\n",
       "<table border=\"1\" class=\"dataframe\">\n",
       "  <thead>\n",
       "    <tr style=\"text-align: right;\">\n",
       "      <th></th>\n",
       "      <th>id</th>\n",
       "      <th>listing_url</th>\n",
       "      <th>scrape_id</th>\n",
       "      <th>last_scraped</th>\n",
       "      <th>source</th>\n",
       "      <th>name</th>\n",
       "      <th>description</th>\n",
       "      <th>neighborhood_overview</th>\n",
       "      <th>picture_url</th>\n",
       "      <th>host_id</th>\n",
       "      <th>host_url</th>\n",
       "      <th>host_name</th>\n",
       "      <th>host_since</th>\n",
       "      <th>host_location</th>\n",
       "      <th>host_about</th>\n",
       "      <th>host_response_time</th>\n",
       "      <th>host_response_rate</th>\n",
       "      <th>host_acceptance_rate</th>\n",
       "      <th>host_is_superhost</th>\n",
       "      <th>host_thumbnail_url</th>\n",
       "      <th>host_picture_url</th>\n",
       "      <th>host_neighbourhood</th>\n",
       "      <th>host_listings_count</th>\n",
       "      <th>host_total_listings_count</th>\n",
       "      <th>host_verifications</th>\n",
       "      <th>host_has_profile_pic</th>\n",
       "      <th>host_identity_verified</th>\n",
       "      <th>neighbourhood</th>\n",
       "      <th>neighbourhood_cleansed</th>\n",
       "      <th>neighbourhood_group_cleansed</th>\n",
       "      <th>latitude</th>\n",
       "      <th>longitude</th>\n",
       "      <th>property_type</th>\n",
       "      <th>room_type</th>\n",
       "      <th>accommodates</th>\n",
       "      <th>bathrooms</th>\n",
       "      <th>bathrooms_text</th>\n",
       "      <th>bedrooms</th>\n",
       "      <th>beds</th>\n",
       "      <th>amenities</th>\n",
       "      <th>price</th>\n",
       "      <th>minimum_nights</th>\n",
       "      <th>maximum_nights</th>\n",
       "      <th>minimum_minimum_nights</th>\n",
       "      <th>maximum_minimum_nights</th>\n",
       "      <th>minimum_maximum_nights</th>\n",
       "      <th>maximum_maximum_nights</th>\n",
       "      <th>minimum_nights_avg_ntm</th>\n",
       "      <th>maximum_nights_avg_ntm</th>\n",
       "      <th>calendar_updated</th>\n",
       "      <th>has_availability</th>\n",
       "      <th>availability_30</th>\n",
       "      <th>availability_60</th>\n",
       "      <th>availability_90</th>\n",
       "      <th>availability_365</th>\n",
       "      <th>calendar_last_scraped</th>\n",
       "      <th>number_of_reviews</th>\n",
       "      <th>number_of_reviews_ltm</th>\n",
       "      <th>number_of_reviews_l30d</th>\n",
       "      <th>first_review</th>\n",
       "      <th>last_review</th>\n",
       "      <th>review_scores_rating</th>\n",
       "      <th>review_scores_accuracy</th>\n",
       "      <th>review_scores_cleanliness</th>\n",
       "      <th>review_scores_checkin</th>\n",
       "      <th>review_scores_communication</th>\n",
       "      <th>review_scores_location</th>\n",
       "      <th>review_scores_value</th>\n",
       "      <th>license</th>\n",
       "      <th>instant_bookable</th>\n",
       "      <th>calculated_host_listings_count</th>\n",
       "      <th>calculated_host_listings_count_entire_homes</th>\n",
       "      <th>calculated_host_listings_count_private_rooms</th>\n",
       "      <th>calculated_host_listings_count_shared_rooms</th>\n",
       "      <th>reviews_per_month</th>\n",
       "    </tr>\n",
       "  </thead>\n",
       "  <tbody>\n",
       "    <tr>\n",
       "      <th>0</th>\n",
       "      <td>53344884</td>\n",
       "      <td>https://www.airbnb.com/rooms/53344884</td>\n",
       "      <td>20220921172238</td>\n",
       "      <td>2022-09-22</td>\n",
       "      <td>city scrape</td>\n",
       "      <td>Suntuoso apartamento em Copacabana posto 6</td>\n",
       "      <td>suntuoso apartamento de frente para o mar &lt;br ...</td>\n",
       "      <td>NaN</td>\n",
       "      <td>https://a0.muscache.com/pictures/miso/Hosting-...</td>\n",
       "      <td>431412286</td>\n",
       "      <td>https://www.airbnb.com/users/show/431412286</td>\n",
       "      <td>Carlos Henrique</td>\n",
       "      <td>2021-11-11</td>\n",
       "      <td>NaN</td>\n",
       "      <td>NaN</td>\n",
       "      <td>within an hour</td>\n",
       "      <td>100%</td>\n",
       "      <td>100%</td>\n",
       "      <td>f</td>\n",
       "      <td>https://a0.muscache.com/im/pictures/user/f4bec...</td>\n",
       "      <td>https://a0.muscache.com/im/pictures/user/f4bec...</td>\n",
       "      <td>NaN</td>\n",
       "      <td>10.0</td>\n",
       "      <td>10.0</td>\n",
       "      <td>['email', 'phone']</td>\n",
       "      <td>t</td>\n",
       "      <td>t</td>\n",
       "      <td>NaN</td>\n",
       "      <td>Copacabana</td>\n",
       "      <td>NaN</td>\n",
       "      <td>-22.98299</td>\n",
       "      <td>-43.18904</td>\n",
       "      <td>Entire condo</td>\n",
       "      <td>Entire home/apt</td>\n",
       "      <td>6</td>\n",
       "      <td>NaN</td>\n",
       "      <td>4.5 baths</td>\n",
       "      <td>3.0</td>\n",
       "      <td>5.0</td>\n",
       "      <td>[\"Air conditioning\", \"Washer\", \"Security camer...</td>\n",
       "      <td>$3,500.00</td>\n",
       "      <td>3</td>\n",
       "      <td>365</td>\n",
       "      <td>3</td>\n",
       "      <td>3</td>\n",
       "      <td>365</td>\n",
       "      <td>365</td>\n",
       "      <td>3.0</td>\n",
       "      <td>365.0</td>\n",
       "      <td>NaN</td>\n",
       "      <td>t</td>\n",
       "      <td>30</td>\n",
       "      <td>60</td>\n",
       "      <td>90</td>\n",
       "      <td>365</td>\n",
       "      <td>2022-09-22</td>\n",
       "      <td>0</td>\n",
       "      <td>0</td>\n",
       "      <td>0</td>\n",
       "      <td>NaN</td>\n",
       "      <td>NaN</td>\n",
       "      <td>NaN</td>\n",
       "      <td>NaN</td>\n",
       "      <td>NaN</td>\n",
       "      <td>NaN</td>\n",
       "      <td>NaN</td>\n",
       "      <td>NaN</td>\n",
       "      <td>NaN</td>\n",
       "      <td>NaN</td>\n",
       "      <td>t</td>\n",
       "      <td>10</td>\n",
       "      <td>8</td>\n",
       "      <td>2</td>\n",
       "      <td>0</td>\n",
       "      <td>NaN</td>\n",
       "    </tr>\n",
       "    <tr>\n",
       "      <th>1</th>\n",
       "      <td>7801456</td>\n",
       "      <td>https://www.airbnb.com/rooms/7801456</td>\n",
       "      <td>20220921172238</td>\n",
       "      <td>2022-09-22</td>\n",
       "      <td>city scrape</td>\n",
       "      <td>Ipanema Vieira Souto - Linda Vista</td>\n",
       "      <td>Flat luxuoso com a melhor localização do Rio d...</td>\n",
       "      <td>Ipanema é considerado o berço do rio, cheio de...</td>\n",
       "      <td>https://a0.muscache.com/pictures/99276394/dc9c...</td>\n",
       "      <td>40650139</td>\n",
       "      <td>https://www.airbnb.com/users/show/40650139</td>\n",
       "      <td>Carlos Alberto</td>\n",
       "      <td>2015-08-05</td>\n",
       "      <td>Rio de Janeiro, Brazil</td>\n",
       "      <td>22 anos, Brasileiro, Solteiro, residencia fixa...</td>\n",
       "      <td>a few days or more</td>\n",
       "      <td>13%</td>\n",
       "      <td>100%</td>\n",
       "      <td>f</td>\n",
       "      <td>https://a0.muscache.com/im/users/40650139/prof...</td>\n",
       "      <td>https://a0.muscache.com/im/users/40650139/prof...</td>\n",
       "      <td>Ipanema</td>\n",
       "      <td>6.0</td>\n",
       "      <td>6.0</td>\n",
       "      <td>['email', 'phone']</td>\n",
       "      <td>t</td>\n",
       "      <td>t</td>\n",
       "      <td>Rio de Janeiro, Brazil</td>\n",
       "      <td>Ipanema</td>\n",
       "      <td>NaN</td>\n",
       "      <td>-22.98723</td>\n",
       "      <td>-43.20452</td>\n",
       "      <td>Entire serviced apartment</td>\n",
       "      <td>Entire home/apt</td>\n",
       "      <td>4</td>\n",
       "      <td>NaN</td>\n",
       "      <td>2 baths</td>\n",
       "      <td>2.0</td>\n",
       "      <td>3.0</td>\n",
       "      <td>[\"Cable TV\", \"Air conditioning\", \"Fire extingu...</td>\n",
       "      <td>$5,000.00</td>\n",
       "      <td>2</td>\n",
       "      <td>900</td>\n",
       "      <td>2</td>\n",
       "      <td>2</td>\n",
       "      <td>900</td>\n",
       "      <td>900</td>\n",
       "      <td>2.0</td>\n",
       "      <td>900.0</td>\n",
       "      <td>NaN</td>\n",
       "      <td>t</td>\n",
       "      <td>30</td>\n",
       "      <td>60</td>\n",
       "      <td>90</td>\n",
       "      <td>365</td>\n",
       "      <td>2022-09-22</td>\n",
       "      <td>0</td>\n",
       "      <td>0</td>\n",
       "      <td>0</td>\n",
       "      <td>NaN</td>\n",
       "      <td>NaN</td>\n",
       "      <td>NaN</td>\n",
       "      <td>NaN</td>\n",
       "      <td>NaN</td>\n",
       "      <td>NaN</td>\n",
       "      <td>NaN</td>\n",
       "      <td>NaN</td>\n",
       "      <td>NaN</td>\n",
       "      <td>NaN</td>\n",
       "      <td>t</td>\n",
       "      <td>5</td>\n",
       "      <td>5</td>\n",
       "      <td>0</td>\n",
       "      <td>0</td>\n",
       "      <td>NaN</td>\n",
       "    </tr>\n",
       "    <tr>\n",
       "      <th>2</th>\n",
       "      <td>14333905</td>\n",
       "      <td>https://www.airbnb.com/rooms/14333905</td>\n",
       "      <td>20220921172238</td>\n",
       "      <td>2022-09-22</td>\n",
       "      <td>city scrape</td>\n",
       "      <td>Casa compartilhada</td>\n",
       "      <td>A 15 min. do complexo esportivo de Deodoro, Ca...</td>\n",
       "      <td>NaN</td>\n",
       "      <td>https://a0.muscache.com/pictures/15235501-16c4...</td>\n",
       "      <td>87749071</td>\n",
       "      <td>https://www.airbnb.com/users/show/87749071</td>\n",
       "      <td>Lindenberg</td>\n",
       "      <td>2016-08-03</td>\n",
       "      <td>Rio de Janeiro, Brazil</td>\n",
       "      <td>NaN</td>\n",
       "      <td>NaN</td>\n",
       "      <td>NaN</td>\n",
       "      <td>NaN</td>\n",
       "      <td>f</td>\n",
       "      <td>https://a0.muscache.com/im/pictures/user/409ec...</td>\n",
       "      <td>https://a0.muscache.com/im/pictures/user/409ec...</td>\n",
       "      <td>NaN</td>\n",
       "      <td>1.0</td>\n",
       "      <td>1.0</td>\n",
       "      <td>['email', 'phone']</td>\n",
       "      <td>t</td>\n",
       "      <td>f</td>\n",
       "      <td>NaN</td>\n",
       "      <td>Pavuna</td>\n",
       "      <td>NaN</td>\n",
       "      <td>-22.80869</td>\n",
       "      <td>-43.38642</td>\n",
       "      <td>Entire home</td>\n",
       "      <td>Entire home/apt</td>\n",
       "      <td>12</td>\n",
       "      <td>NaN</td>\n",
       "      <td>1 bath</td>\n",
       "      <td>2.0</td>\n",
       "      <td>4.0</td>\n",
       "      <td>[\"Cable TV\", \"Air conditioning\", \"Hair dryer\",...</td>\n",
       "      <td>$681.00</td>\n",
       "      <td>1</td>\n",
       "      <td>1125</td>\n",
       "      <td>1</td>\n",
       "      <td>1</td>\n",
       "      <td>1125</td>\n",
       "      <td>1125</td>\n",
       "      <td>1.0</td>\n",
       "      <td>1125.0</td>\n",
       "      <td>NaN</td>\n",
       "      <td>t</td>\n",
       "      <td>30</td>\n",
       "      <td>60</td>\n",
       "      <td>90</td>\n",
       "      <td>365</td>\n",
       "      <td>2022-09-22</td>\n",
       "      <td>0</td>\n",
       "      <td>0</td>\n",
       "      <td>0</td>\n",
       "      <td>NaN</td>\n",
       "      <td>NaN</td>\n",
       "      <td>NaN</td>\n",
       "      <td>NaN</td>\n",
       "      <td>NaN</td>\n",
       "      <td>NaN</td>\n",
       "      <td>NaN</td>\n",
       "      <td>NaN</td>\n",
       "      <td>NaN</td>\n",
       "      <td>NaN</td>\n",
       "      <td>t</td>\n",
       "      <td>1</td>\n",
       "      <td>1</td>\n",
       "      <td>0</td>\n",
       "      <td>0</td>\n",
       "      <td>NaN</td>\n",
       "    </tr>\n",
       "    <tr>\n",
       "      <th>3</th>\n",
       "      <td>44708736</td>\n",
       "      <td>https://www.airbnb.com/rooms/44708736</td>\n",
       "      <td>20220921172238</td>\n",
       "      <td>2022-09-22</td>\n",
       "      <td>city scrape</td>\n",
       "      <td>Aluguel de Lancha no Rio de Janeiro</td>\n",
       "      <td>Iate Intermarine 440 Full Gold c/ Fly p/ até 1...</td>\n",
       "      <td>A Marina da Glória fica no bairro do Flamengo ...</td>\n",
       "      <td>https://a0.muscache.com/pictures/210e9877-2854...</td>\n",
       "      <td>97164727</td>\n",
       "      <td>https://www.airbnb.com/users/show/97164727</td>\n",
       "      <td>Jorge Quito</td>\n",
       "      <td>2016-09-28</td>\n",
       "      <td>Rio de Janeiro, Brazil</td>\n",
       "      <td>Olá, eu sou Jorge!\\nSou de Salvador e moro no ...</td>\n",
       "      <td>within an hour</td>\n",
       "      <td>100%</td>\n",
       "      <td>100%</td>\n",
       "      <td>f</td>\n",
       "      <td>https://a0.muscache.com/im/pictures/user/c3e6f...</td>\n",
       "      <td>https://a0.muscache.com/im/pictures/user/c3e6f...</td>\n",
       "      <td>NaN</td>\n",
       "      <td>4.0</td>\n",
       "      <td>4.0</td>\n",
       "      <td>['email', 'phone']</td>\n",
       "      <td>t</td>\n",
       "      <td>t</td>\n",
       "      <td>Flamengo, Rio de Janeiro, Brazil</td>\n",
       "      <td>Glória</td>\n",
       "      <td>NaN</td>\n",
       "      <td>-22.91988</td>\n",
       "      <td>-43.17034</td>\n",
       "      <td>Boat</td>\n",
       "      <td>Entire home/apt</td>\n",
       "      <td>12</td>\n",
       "      <td>NaN</td>\n",
       "      <td>2 baths</td>\n",
       "      <td>2.0</td>\n",
       "      <td>3.0</td>\n",
       "      <td>[\"Single level home\", \"Wifi \\u2013 30 Mbps\", \"...</td>\n",
       "      <td>$8,999.00</td>\n",
       "      <td>1</td>\n",
       "      <td>1</td>\n",
       "      <td>1</td>\n",
       "      <td>1</td>\n",
       "      <td>1</td>\n",
       "      <td>1</td>\n",
       "      <td>1.0</td>\n",
       "      <td>1.0</td>\n",
       "      <td>NaN</td>\n",
       "      <td>t</td>\n",
       "      <td>30</td>\n",
       "      <td>60</td>\n",
       "      <td>90</td>\n",
       "      <td>179</td>\n",
       "      <td>2022-09-22</td>\n",
       "      <td>2</td>\n",
       "      <td>0</td>\n",
       "      <td>0</td>\n",
       "      <td>2021-01-10</td>\n",
       "      <td>2021-08-02</td>\n",
       "      <td>5.0</td>\n",
       "      <td>5.0</td>\n",
       "      <td>5.0</td>\n",
       "      <td>5.0</td>\n",
       "      <td>5.0</td>\n",
       "      <td>5.0</td>\n",
       "      <td>5.0</td>\n",
       "      <td>NaN</td>\n",
       "      <td>f</td>\n",
       "      <td>2</td>\n",
       "      <td>2</td>\n",
       "      <td>0</td>\n",
       "      <td>0</td>\n",
       "      <td>0.1</td>\n",
       "    </tr>\n",
       "    <tr>\n",
       "      <th>4</th>\n",
       "      <td>35351763</td>\n",
       "      <td>https://www.airbnb.com/rooms/35351763</td>\n",
       "      <td>20220921172238</td>\n",
       "      <td>2022-09-22</td>\n",
       "      <td>city scrape</td>\n",
       "      <td>Uma grande família</td>\n",
       "      <td>Estou oferecendo minha casa ,minha família meu...</td>\n",
       "      <td>São Mateus</td>\n",
       "      <td>https://a0.muscache.com/pictures/44713611-925b...</td>\n",
       "      <td>249666532</td>\n",
       "      <td>https://www.airbnb.com/users/show/249666532</td>\n",
       "      <td>Jorgina</td>\n",
       "      <td>2019-03-18</td>\n",
       "      <td>State of Rio de Janeiro, Brazil</td>\n",
       "      <td>NaN</td>\n",
       "      <td>NaN</td>\n",
       "      <td>NaN</td>\n",
       "      <td>NaN</td>\n",
       "      <td>f</td>\n",
       "      <td>https://a0.muscache.com/im/pictures/user/57882...</td>\n",
       "      <td>https://a0.muscache.com/im/pictures/user/57882...</td>\n",
       "      <td>NaN</td>\n",
       "      <td>1.0</td>\n",
       "      <td>1.0</td>\n",
       "      <td>['email', 'phone']</td>\n",
       "      <td>t</td>\n",
       "      <td>f</td>\n",
       "      <td>Parque Sao Nicolau, Rio de Janeiro, Brazil</td>\n",
       "      <td>Pavuna</td>\n",
       "      <td>NaN</td>\n",
       "      <td>-22.81321</td>\n",
       "      <td>-43.38573</td>\n",
       "      <td>Earthen home</td>\n",
       "      <td>Entire home/apt</td>\n",
       "      <td>1</td>\n",
       "      <td>NaN</td>\n",
       "      <td>1 bath</td>\n",
       "      <td>2.0</td>\n",
       "      <td>3.0</td>\n",
       "      <td>[\"Air conditioning\", \"First aid kit\", \"Iron\", ...</td>\n",
       "      <td>$500.00</td>\n",
       "      <td>1</td>\n",
       "      <td>2</td>\n",
       "      <td>1</td>\n",
       "      <td>1</td>\n",
       "      <td>2</td>\n",
       "      <td>2</td>\n",
       "      <td>1.0</td>\n",
       "      <td>2.0</td>\n",
       "      <td>NaN</td>\n",
       "      <td>t</td>\n",
       "      <td>30</td>\n",
       "      <td>60</td>\n",
       "      <td>90</td>\n",
       "      <td>179</td>\n",
       "      <td>2022-09-22</td>\n",
       "      <td>0</td>\n",
       "      <td>0</td>\n",
       "      <td>0</td>\n",
       "      <td>NaN</td>\n",
       "      <td>NaN</td>\n",
       "      <td>NaN</td>\n",
       "      <td>NaN</td>\n",
       "      <td>NaN</td>\n",
       "      <td>NaN</td>\n",
       "      <td>NaN</td>\n",
       "      <td>NaN</td>\n",
       "      <td>NaN</td>\n",
       "      <td>NaN</td>\n",
       "      <td>t</td>\n",
       "      <td>1</td>\n",
       "      <td>1</td>\n",
       "      <td>0</td>\n",
       "      <td>0</td>\n",
       "      <td>NaN</td>\n",
       "    </tr>\n",
       "  </tbody>\n",
       "</table>\n",
       "</div>"
      ],
      "text/plain": [
       "         id                            listing_url       scrape_id  \\\n",
       "0  53344884  https://www.airbnb.com/rooms/53344884  20220921172238   \n",
       "1   7801456   https://www.airbnb.com/rooms/7801456  20220921172238   \n",
       "2  14333905  https://www.airbnb.com/rooms/14333905  20220921172238   \n",
       "3  44708736  https://www.airbnb.com/rooms/44708736  20220921172238   \n",
       "4  35351763  https://www.airbnb.com/rooms/35351763  20220921172238   \n",
       "\n",
       "  last_scraped       source                                        name  \\\n",
       "0   2022-09-22  city scrape  Suntuoso apartamento em Copacabana posto 6   \n",
       "1   2022-09-22  city scrape          Ipanema Vieira Souto - Linda Vista   \n",
       "2   2022-09-22  city scrape                          Casa compartilhada   \n",
       "3   2022-09-22  city scrape         Aluguel de Lancha no Rio de Janeiro   \n",
       "4   2022-09-22  city scrape                          Uma grande família   \n",
       "\n",
       "                                         description  \\\n",
       "0  suntuoso apartamento de frente para o mar <br ...   \n",
       "1  Flat luxuoso com a melhor localização do Rio d...   \n",
       "2  A 15 min. do complexo esportivo de Deodoro, Ca...   \n",
       "3  Iate Intermarine 440 Full Gold c/ Fly p/ até 1...   \n",
       "4  Estou oferecendo minha casa ,minha família meu...   \n",
       "\n",
       "                               neighborhood_overview  \\\n",
       "0                                                NaN   \n",
       "1  Ipanema é considerado o berço do rio, cheio de...   \n",
       "2                                                NaN   \n",
       "3  A Marina da Glória fica no bairro do Flamengo ...   \n",
       "4                                         São Mateus   \n",
       "\n",
       "                                         picture_url    host_id  \\\n",
       "0  https://a0.muscache.com/pictures/miso/Hosting-...  431412286   \n",
       "1  https://a0.muscache.com/pictures/99276394/dc9c...   40650139   \n",
       "2  https://a0.muscache.com/pictures/15235501-16c4...   87749071   \n",
       "3  https://a0.muscache.com/pictures/210e9877-2854...   97164727   \n",
       "4  https://a0.muscache.com/pictures/44713611-925b...  249666532   \n",
       "\n",
       "                                      host_url        host_name  host_since  \\\n",
       "0  https://www.airbnb.com/users/show/431412286  Carlos Henrique  2021-11-11   \n",
       "1   https://www.airbnb.com/users/show/40650139   Carlos Alberto  2015-08-05   \n",
       "2   https://www.airbnb.com/users/show/87749071       Lindenberg  2016-08-03   \n",
       "3   https://www.airbnb.com/users/show/97164727      Jorge Quito  2016-09-28   \n",
       "4  https://www.airbnb.com/users/show/249666532          Jorgina  2019-03-18   \n",
       "\n",
       "                     host_location  \\\n",
       "0                              NaN   \n",
       "1           Rio de Janeiro, Brazil   \n",
       "2           Rio de Janeiro, Brazil   \n",
       "3           Rio de Janeiro, Brazil   \n",
       "4  State of Rio de Janeiro, Brazil   \n",
       "\n",
       "                                          host_about  host_response_time  \\\n",
       "0                                                NaN      within an hour   \n",
       "1  22 anos, Brasileiro, Solteiro, residencia fixa...  a few days or more   \n",
       "2                                                NaN                 NaN   \n",
       "3  Olá, eu sou Jorge!\\nSou de Salvador e moro no ...      within an hour   \n",
       "4                                                NaN                 NaN   \n",
       "\n",
       "  host_response_rate host_acceptance_rate host_is_superhost  \\\n",
       "0               100%                 100%                 f   \n",
       "1                13%                 100%                 f   \n",
       "2                NaN                  NaN                 f   \n",
       "3               100%                 100%                 f   \n",
       "4                NaN                  NaN                 f   \n",
       "\n",
       "                                  host_thumbnail_url  \\\n",
       "0  https://a0.muscache.com/im/pictures/user/f4bec...   \n",
       "1  https://a0.muscache.com/im/users/40650139/prof...   \n",
       "2  https://a0.muscache.com/im/pictures/user/409ec...   \n",
       "3  https://a0.muscache.com/im/pictures/user/c3e6f...   \n",
       "4  https://a0.muscache.com/im/pictures/user/57882...   \n",
       "\n",
       "                                    host_picture_url host_neighbourhood  \\\n",
       "0  https://a0.muscache.com/im/pictures/user/f4bec...                NaN   \n",
       "1  https://a0.muscache.com/im/users/40650139/prof...            Ipanema   \n",
       "2  https://a0.muscache.com/im/pictures/user/409ec...                NaN   \n",
       "3  https://a0.muscache.com/im/pictures/user/c3e6f...                NaN   \n",
       "4  https://a0.muscache.com/im/pictures/user/57882...                NaN   \n",
       "\n",
       "   host_listings_count  host_total_listings_count  host_verifications  \\\n",
       "0                 10.0                       10.0  ['email', 'phone']   \n",
       "1                  6.0                        6.0  ['email', 'phone']   \n",
       "2                  1.0                        1.0  ['email', 'phone']   \n",
       "3                  4.0                        4.0  ['email', 'phone']   \n",
       "4                  1.0                        1.0  ['email', 'phone']   \n",
       "\n",
       "  host_has_profile_pic host_identity_verified  \\\n",
       "0                    t                      t   \n",
       "1                    t                      t   \n",
       "2                    t                      f   \n",
       "3                    t                      t   \n",
       "4                    t                      f   \n",
       "\n",
       "                                neighbourhood neighbourhood_cleansed  \\\n",
       "0                                         NaN             Copacabana   \n",
       "1                      Rio de Janeiro, Brazil                Ipanema   \n",
       "2                                         NaN                 Pavuna   \n",
       "3            Flamengo, Rio de Janeiro, Brazil                 Glória   \n",
       "4  Parque Sao Nicolau, Rio de Janeiro, Brazil                 Pavuna   \n",
       "\n",
       "   neighbourhood_group_cleansed  latitude  longitude  \\\n",
       "0                           NaN -22.98299  -43.18904   \n",
       "1                           NaN -22.98723  -43.20452   \n",
       "2                           NaN -22.80869  -43.38642   \n",
       "3                           NaN -22.91988  -43.17034   \n",
       "4                           NaN -22.81321  -43.38573   \n",
       "\n",
       "               property_type        room_type  accommodates  bathrooms  \\\n",
       "0               Entire condo  Entire home/apt             6        NaN   \n",
       "1  Entire serviced apartment  Entire home/apt             4        NaN   \n",
       "2                Entire home  Entire home/apt            12        NaN   \n",
       "3                       Boat  Entire home/apt            12        NaN   \n",
       "4               Earthen home  Entire home/apt             1        NaN   \n",
       "\n",
       "  bathrooms_text  bedrooms  beds  \\\n",
       "0      4.5 baths       3.0   5.0   \n",
       "1        2 baths       2.0   3.0   \n",
       "2         1 bath       2.0   4.0   \n",
       "3        2 baths       2.0   3.0   \n",
       "4         1 bath       2.0   3.0   \n",
       "\n",
       "                                           amenities      price  \\\n",
       "0  [\"Air conditioning\", \"Washer\", \"Security camer...  $3,500.00   \n",
       "1  [\"Cable TV\", \"Air conditioning\", \"Fire extingu...  $5,000.00   \n",
       "2  [\"Cable TV\", \"Air conditioning\", \"Hair dryer\",...    $681.00   \n",
       "3  [\"Single level home\", \"Wifi \\u2013 30 Mbps\", \"...  $8,999.00   \n",
       "4  [\"Air conditioning\", \"First aid kit\", \"Iron\", ...    $500.00   \n",
       "\n",
       "   minimum_nights  maximum_nights  minimum_minimum_nights  \\\n",
       "0               3             365                       3   \n",
       "1               2             900                       2   \n",
       "2               1            1125                       1   \n",
       "3               1               1                       1   \n",
       "4               1               2                       1   \n",
       "\n",
       "   maximum_minimum_nights  minimum_maximum_nights  maximum_maximum_nights  \\\n",
       "0                       3                     365                     365   \n",
       "1                       2                     900                     900   \n",
       "2                       1                    1125                    1125   \n",
       "3                       1                       1                       1   \n",
       "4                       1                       2                       2   \n",
       "\n",
       "   minimum_nights_avg_ntm  maximum_nights_avg_ntm  calendar_updated  \\\n",
       "0                     3.0                   365.0               NaN   \n",
       "1                     2.0                   900.0               NaN   \n",
       "2                     1.0                  1125.0               NaN   \n",
       "3                     1.0                     1.0               NaN   \n",
       "4                     1.0                     2.0               NaN   \n",
       "\n",
       "  has_availability  availability_30  availability_60  availability_90  \\\n",
       "0                t               30               60               90   \n",
       "1                t               30               60               90   \n",
       "2                t               30               60               90   \n",
       "3                t               30               60               90   \n",
       "4                t               30               60               90   \n",
       "\n",
       "   availability_365 calendar_last_scraped  number_of_reviews  \\\n",
       "0               365            2022-09-22                  0   \n",
       "1               365            2022-09-22                  0   \n",
       "2               365            2022-09-22                  0   \n",
       "3               179            2022-09-22                  2   \n",
       "4               179            2022-09-22                  0   \n",
       "\n",
       "   number_of_reviews_ltm  number_of_reviews_l30d first_review last_review  \\\n",
       "0                      0                       0          NaN         NaN   \n",
       "1                      0                       0          NaN         NaN   \n",
       "2                      0                       0          NaN         NaN   \n",
       "3                      0                       0   2021-01-10  2021-08-02   \n",
       "4                      0                       0          NaN         NaN   \n",
       "\n",
       "   review_scores_rating  review_scores_accuracy  review_scores_cleanliness  \\\n",
       "0                   NaN                     NaN                        NaN   \n",
       "1                   NaN                     NaN                        NaN   \n",
       "2                   NaN                     NaN                        NaN   \n",
       "3                   5.0                     5.0                        5.0   \n",
       "4                   NaN                     NaN                        NaN   \n",
       "\n",
       "   review_scores_checkin  review_scores_communication  review_scores_location  \\\n",
       "0                    NaN                          NaN                     NaN   \n",
       "1                    NaN                          NaN                     NaN   \n",
       "2                    NaN                          NaN                     NaN   \n",
       "3                    5.0                          5.0                     5.0   \n",
       "4                    NaN                          NaN                     NaN   \n",
       "\n",
       "   review_scores_value  license instant_bookable  \\\n",
       "0                  NaN      NaN                t   \n",
       "1                  NaN      NaN                t   \n",
       "2                  NaN      NaN                t   \n",
       "3                  5.0      NaN                f   \n",
       "4                  NaN      NaN                t   \n",
       "\n",
       "   calculated_host_listings_count  \\\n",
       "0                              10   \n",
       "1                               5   \n",
       "2                               1   \n",
       "3                               2   \n",
       "4                               1   \n",
       "\n",
       "   calculated_host_listings_count_entire_homes  \\\n",
       "0                                            8   \n",
       "1                                            5   \n",
       "2                                            1   \n",
       "3                                            2   \n",
       "4                                            1   \n",
       "\n",
       "   calculated_host_listings_count_private_rooms  \\\n",
       "0                                             2   \n",
       "1                                             0   \n",
       "2                                             0   \n",
       "3                                             0   \n",
       "4                                             0   \n",
       "\n",
       "   calculated_host_listings_count_shared_rooms  reviews_per_month  \n",
       "0                                            0                NaN  \n",
       "1                                            0                NaN  \n",
       "2                                            0                NaN  \n",
       "3                                            0                0.1  \n",
       "4                                            0                NaN  "
      ]
     },
     "metadata": {},
     "output_type": "display_data"
    }
   ],
   "source": [
    "with pd.option_context('display.max_columns',None):\n",
    "    display(df.head())"
   ]
  },
  {
   "cell_type": "markdown",
   "metadata": {},
   "source": [
    "# Sanity Checks"
   ]
  },
  {
   "cell_type": "markdown",
   "metadata": {},
   "source": [
    "## Empty Values"
   ]
  },
  {
   "cell_type": "code",
   "execution_count": 111,
   "metadata": {},
   "outputs": [],
   "source": [
    "# Proportion of nan values\n",
    "\n",
    "col_na_proportion = df.isna().mean()"
   ]
  },
  {
   "cell_type": "code",
   "execution_count": 112,
   "metadata": {},
   "outputs": [
    {
     "data": {
      "text/plain": [
       "neighborhood_overview           0.473\n",
       "host_location                   0.182\n",
       "host_about                      0.515\n",
       "host_response_time              0.133\n",
       "host_response_rate              0.133\n",
       "host_acceptance_rate            0.134\n",
       "host_neighbourhood              0.407\n",
       "neighbourhood                   0.473\n",
       "neighbourhood_group_cleansed    1.000\n",
       "bathrooms                       1.000\n",
       "calendar_updated                1.000\n",
       "first_review                    0.266\n",
       "last_review                     0.266\n",
       "review_scores_rating            0.266\n",
       "review_scores_accuracy          0.274\n",
       "review_scores_cleanliness       0.274\n",
       "review_scores_checkin           0.274\n",
       "review_scores_communication     0.274\n",
       "review_scores_location          0.274\n",
       "review_scores_value             0.274\n",
       "license                         1.000\n",
       "reviews_per_month               0.266\n",
       "dtype: float64"
      ]
     },
     "execution_count": 112,
     "metadata": {},
     "output_type": "execute_result"
    }
   ],
   "source": [
    "col_na_proportion[col_na_proportion > 0.1].round(3) # Arbitrary minimum NA boundary of 10% of rows"
   ]
  },
  {
   "cell_type": "markdown",
   "metadata": {},
   "source": [
    "- Some columns are complely empty\n",
    "- About half of the listings don't have any description about the host\n",
    "- Approx. 1 out of 4 listings don't have a review\n",
    "\n",
    "- Bathrooms columns was actually replaced with bathrooms_text"
   ]
  },
  {
   "cell_type": "markdown",
   "metadata": {},
   "source": [
    "## Subsetting to relevant features"
   ]
  },
  {
   "cell_type": "code",
   "execution_count": 113,
   "metadata": {},
   "outputs": [],
   "source": [
    "# Subsetting to columns that will be relevant for us to work with\n",
    "# Ignoring relevant columns that are completely empty (bathrooms)\n",
    "subset_cols = ['id',\n",
    "                'host_id',\n",
    "                'host_total_listings_count',\n",
    "                'listing_url',\n",
    "                'last_scraped',\n",
    "                'source',\n",
    "                'name',\n",
    "                'description',\n",
    "                'neighbourhood_cleansed',\n",
    "                'property_type',\n",
    "                'room_type',\n",
    "                'accommodates',\n",
    "                'bathrooms_text',\n",
    "                'bedrooms',\n",
    "                'beds',\n",
    "                'amenities',\n",
    "                'price',\n",
    "                'minimum_nights']"
   ]
  },
  {
   "cell_type": "code",
   "execution_count": 114,
   "metadata": {},
   "outputs": [],
   "source": [
    "df_subset = df[subset_cols].copy() # Generating a copy to avoid object reference problems when creating new cols"
   ]
  },
  {
   "cell_type": "code",
   "execution_count": 115,
   "metadata": {},
   "outputs": [
    {
     "data": {
      "text/plain": [
       "id                           0.000000\n",
       "host_id                      0.000000\n",
       "host_total_listings_count    0.000190\n",
       "listing_url                  0.000000\n",
       "last_scraped                 0.000000\n",
       "source                       0.000000\n",
       "name                         0.000721\n",
       "description                  0.031366\n",
       "neighbourhood_cleansed       0.000000\n",
       "property_type                0.000000\n",
       "room_type                    0.000000\n",
       "accommodates                 0.000000\n",
       "bathrooms_text               0.001896\n",
       "bedrooms                     0.049723\n",
       "beds                         0.008951\n",
       "amenities                    0.000000\n",
       "price                        0.000000\n",
       "minimum_nights               0.000000\n",
       "dtype: float64"
      ]
     },
     "execution_count": 115,
     "metadata": {},
     "output_type": "execute_result"
    }
   ],
   "source": [
    "df_subset.isna().mean()"
   ]
  },
  {
   "cell_type": "markdown",
   "metadata": {},
   "source": [
    "## Subset - Type handling"
   ]
  },
  {
   "cell_type": "code",
   "execution_count": 116,
   "metadata": {},
   "outputs": [
    {
     "data": {
      "text/plain": [
       "id                             int64\n",
       "host_id                        int64\n",
       "host_total_listings_count    float64\n",
       "listing_url                   object\n",
       "last_scraped                  object\n",
       "source                        object\n",
       "name                          object\n",
       "description                   object\n",
       "neighbourhood_cleansed        object\n",
       "property_type                 object\n",
       "room_type                     object\n",
       "accommodates                   int64\n",
       "bathrooms_text                object\n",
       "bedrooms                     float64\n",
       "beds                         float64\n",
       "amenities                     object\n",
       "price                         object\n",
       "minimum_nights                 int64\n",
       "dtype: object"
      ]
     },
     "execution_count": 116,
     "metadata": {},
     "output_type": "execute_result"
    }
   ],
   "source": [
    "df_subset.dtypes"
   ]
  },
  {
   "cell_type": "markdown",
   "metadata": {},
   "source": [
    "### Dates"
   ]
  },
  {
   "cell_type": "code",
   "execution_count": 117,
   "metadata": {},
   "outputs": [],
   "source": [
    "# Handling scraped date\n",
    "df_subset['last_scraped'] = pd.to_datetime(df_subset['last_scraped'], yearfirst=True)"
   ]
  },
  {
   "cell_type": "code",
   "execution_count": 118,
   "metadata": {},
   "outputs": [
    {
     "data": {
      "text/plain": [
       "2022-09-22    20849\n",
       "2022-09-21     5462\n",
       "2022-09-23       54\n",
       "2022-10-02        1\n",
       "Name: last_scraped, dtype: int64"
      ]
     },
     "execution_count": 118,
     "metadata": {},
     "output_type": "execute_result"
    }
   ],
   "source": [
    "# Check if dataset contains old entries - They might not be relevant\n",
    "df_subset['last_scraped'].value_counts()"
   ]
  },
  {
   "cell_type": "markdown",
   "metadata": {},
   "source": [
    "All dates on the scrape are recent enough"
   ]
  },
  {
   "cell_type": "markdown",
   "metadata": {},
   "source": [
    "### Prices"
   ]
  },
  {
   "cell_type": "code",
   "execution_count": 119,
   "metadata": {},
   "outputs": [
    {
     "data": {
      "text/plain": [
       "0    $3,500.00\n",
       "1    $5,000.00\n",
       "2      $681.00\n",
       "3    $8,999.00\n",
       "4      $500.00\n",
       "Name: price, dtype: object"
      ]
     },
     "execution_count": 119,
     "metadata": {},
     "output_type": "execute_result"
    }
   ],
   "source": [
    "df_subset.price.head()"
   ]
  },
  {
   "cell_type": "code",
   "execution_count": 120,
   "metadata": {},
   "outputs": [
    {
     "name": "stdout",
     "output_type": "stream",
     "text": [
      "True\n"
     ]
    }
   ],
   "source": [
    "# Do all prices start with '$'?\n",
    "print(df_subset['price'].shape[0] == df_subset['price'].str.startswith('$').sum())"
   ]
  },
  {
   "cell_type": "code",
   "execution_count": 121,
   "metadata": {},
   "outputs": [],
   "source": [
    "# Removing the '$'\n",
    "df_subset['price'] = df_subset['price'].str[1:]\n",
    "\n",
    "# Removing thousands comma\n",
    "df_subset['price'] = df_subset['price'].str.replace(',','', regex=True)\n",
    "\n",
    "# Turning price into float \n",
    "df_subset['price'] = df_subset['price'].astype(float)"
   ]
  },
  {
   "cell_type": "markdown",
   "metadata": {},
   "source": [
    "### Amenities"
   ]
  },
  {
   "cell_type": "code",
   "execution_count": 122,
   "metadata": {},
   "outputs": [
    {
     "data": {
      "text/plain": [
       "0    [\"Air conditioning\", \"Washer\", \"Security camer...\n",
       "1    [\"Cable TV\", \"Air conditioning\", \"Fire extingu...\n",
       "2    [\"Cable TV\", \"Air conditioning\", \"Hair dryer\",...\n",
       "3    [\"Single level home\", \"Wifi \\u2013 30 Mbps\", \"...\n",
       "4    [\"Air conditioning\", \"First aid kit\", \"Iron\", ...\n",
       "Name: amenities, dtype: object"
      ]
     },
     "execution_count": 122,
     "metadata": {},
     "output_type": "execute_result"
    }
   ],
   "source": [
    "df_subset['amenities'].head()"
   ]
  },
  {
   "cell_type": "code",
   "execution_count": 123,
   "metadata": {},
   "outputs": [
    {
     "data": {
      "text/plain": [
       "True"
      ]
     },
     "execution_count": 123,
     "metadata": {},
     "output_type": "execute_result"
    }
   ],
   "source": [
    "# Are amenities strings?\n",
    "(df_subset['amenities'].apply(type) == str).all()"
   ]
  },
  {
   "cell_type": "markdown",
   "metadata": {},
   "source": [
    "Amenities are actually strings instead of lists. This needs fixing.\\\n",
    "Also, since it is a whole string, the whitespaces before the quotes will stay there. They need to be fixed too.\\\n",
    "To fix the whitespaces I will be using a function, but it could be done via RegEx as well.\\\n",
    "Also, some not parsed unidecode characters get into the dataset. They will be removed since they probably won't be word characters"
   ]
  },
  {
   "cell_type": "code",
   "execution_count": 124,
   "metadata": {},
   "outputs": [],
   "source": [
    "def strip_tokens(token_list):\n",
    "\n",
    "    return [token.strip() for token in token_list]\n",
    "\n",
    "def replace_unidecode(token_list):\n",
    "\n",
    "    ''' Replaces non-parsed unidecode chars with single Whitespace.\n",
    "        If simply replaced by empty strings, will generate a double whitespace\n",
    "        '''\n",
    "\n",
    "    return [re.sub(r'\\s+', ' ', re.sub(r'\\\\u\\d+','', token)) for token in token_list]"
   ]
  },
  {
   "cell_type": "code",
   "execution_count": 125,
   "metadata": {},
   "outputs": [],
   "source": [
    "# The Brackets and quotes will break a simple split function. They need to be treated beforehand.\n",
    "df_subset['amenities'] = df_subset['amenities'].str.replace('\\[|\\]|\\\"','', regex = True)\\\n",
    "                                                .str.split(',')\\\n",
    "                                                .apply(strip_tokens)\\\n",
    "                                                .apply(replace_unidecode)"
   ]
  },
  {
   "cell_type": "code",
   "execution_count": 126,
   "metadata": {},
   "outputs": [
    {
     "data": {
      "text/plain": [
       "0    [Air conditioning, Washer, Security cameras on...\n",
       "1    [Cable TV, Air conditioning, Fire extinguisher...\n",
       "2    [Cable TV, Air conditioning, Hair dryer, Iron,...\n",
       "3    [Single level home, Wifi 30 Mbps, Dedicated wo...\n",
       "4    [Air conditioning, First aid kit, Iron, Essent...\n",
       "Name: amenities, dtype: object"
      ]
     },
     "metadata": {},
     "output_type": "display_data"
    },
    {
     "data": {
      "text/plain": [
       "['Air conditioning',\n",
       " 'Washer',\n",
       " 'Security cameras on property',\n",
       " 'Wifi',\n",
       " 'Long term stays allowed',\n",
       " 'Kitchen',\n",
       " 'TV']"
      ]
     },
     "metadata": {},
     "output_type": "display_data"
    }
   ],
   "source": [
    "display(df_subset['amenities'].head())\n",
    "\n",
    "display(df_subset['amenities'][0]) # Example"
   ]
  },
  {
   "cell_type": "markdown",
   "metadata": {},
   "source": [
    "### Bathrooms"
   ]
  },
  {
   "cell_type": "code",
   "execution_count": 127,
   "metadata": {},
   "outputs": [
    {
     "data": {
      "text/plain": [
       "0            4.5 baths\n",
       "1              2 baths\n",
       "2               1 bath\n",
       "3              2 baths\n",
       "4               1 bath\n",
       "             ...      \n",
       "26361    1 shared bath\n",
       "26362           1 bath\n",
       "26363           1 bath\n",
       "26364           1 bath\n",
       "26365           1 bath\n",
       "Name: bathrooms_text, Length: 26366, dtype: object"
      ]
     },
     "execution_count": 127,
     "metadata": {},
     "output_type": "execute_result"
    }
   ],
   "source": [
    "df_subset.bathrooms_text"
   ]
  },
  {
   "cell_type": "code",
   "execution_count": 128,
   "metadata": {},
   "outputs": [
    {
     "name": "stdout",
     "output_type": "stream",
     "text": [
      "Entries that contain \"bath\": 26316\n",
      "Total Entries: 26366\n"
     ]
    }
   ],
   "source": [
    "print('Entries that contain \"bath\":',df_subset[df_subset['bathrooms_text'].str.contains(r'bath[s]?', na = False)].shape[0])\n",
    "\n",
    "print('Total Entries:',df_subset.shape[0])"
   ]
  },
  {
   "cell_type": "markdown",
   "metadata": {},
   "source": [
    "There are 50 entries that don't contain the any word with 'bath' in it"
   ]
  },
  {
   "cell_type": "code",
   "execution_count": 129,
   "metadata": {},
   "outputs": [
    {
     "data": {
      "text/plain": [
       "50"
      ]
     },
     "execution_count": 129,
     "metadata": {},
     "output_type": "execute_result"
    }
   ],
   "source": [
    "df_subset[~df_subset['bathrooms_text'].str.contains(r'bath[s]?', na = False)]['bathrooms_text'].isna().sum()"
   ]
  },
  {
   "cell_type": "markdown",
   "metadata": {},
   "source": [
    "The different entries are empty are because they are NaN values"
   ]
  },
  {
   "cell_type": "code",
   "execution_count": 130,
   "metadata": {},
   "outputs": [
    {
     "data": {
      "text/html": [
       "<div>\n",
       "<style scoped>\n",
       "    .dataframe tbody tr th:only-of-type {\n",
       "        vertical-align: middle;\n",
       "    }\n",
       "\n",
       "    .dataframe tbody tr th {\n",
       "        vertical-align: top;\n",
       "    }\n",
       "\n",
       "    .dataframe thead th {\n",
       "        text-align: right;\n",
       "    }\n",
       "</style>\n",
       "<table border=\"1\" class=\"dataframe\">\n",
       "  <thead>\n",
       "    <tr style=\"text-align: right;\">\n",
       "      <th></th>\n",
       "      <th>name</th>\n",
       "      <th>description</th>\n",
       "    </tr>\n",
       "  </thead>\n",
       "  <tbody>\n",
       "    <tr>\n",
       "      <th>479</th>\n",
       "      <td>Praia da Macumba Recreio</td>\n",
       "      <td>&lt;b&gt;The space&lt;/b&gt;&lt;br /&gt;Apartameno pequeno,1 Qto...</td>\n",
       "    </tr>\n",
       "    <tr>\n",
       "      <th>603</th>\n",
       "      <td>Cozy room @ Copacabana - Posto 06</td>\n",
       "      <td>&lt;b&gt;The space&lt;/b&gt;&lt;br /&gt;Excellent apartment near...</td>\n",
       "    </tr>\n",
       "    <tr>\n",
       "      <th>2056</th>\n",
       "      <td>Maracana - apartamento a 200 metros</td>\n",
       "      <td>Excelente apartamento a 200 metros do MARACANÃ...</td>\n",
       "    </tr>\n",
       "    <tr>\n",
       "      <th>19656</th>\n",
       "      <td>Mansão INCRÍVEL no meio da natureza para EVENTOS</td>\n",
       "      <td>NaN</td>\n",
       "    </tr>\n",
       "    <tr>\n",
       "      <th>661</th>\n",
       "      <td>ótimo Quarto em Santa Teresa - RJ</td>\n",
       "      <td>&lt;b&gt;The space&lt;/b&gt;&lt;br /&gt;Casa ampla em Santa Tere...</td>\n",
       "    </tr>\n",
       "    <tr>\n",
       "      <th>89</th>\n",
       "      <td>Apartamento Moderno e confortavel</td>\n",
       "      <td>Seja bem vindo a esse apartamento moderno, con...</td>\n",
       "    </tr>\n",
       "    <tr>\n",
       "      <th>14651</th>\n",
       "      <td>Américas Copacabana Hotel</td>\n",
       "      <td>NaN</td>\n",
       "    </tr>\n",
       "    <tr>\n",
       "      <th>600</th>\n",
       "      <td>Vinicius</td>\n",
       "      <td>tarifa baixa temporada, mínimo 5 noites&lt;br /&gt;&lt;...</td>\n",
       "    </tr>\n",
       "    <tr>\n",
       "      <th>869</th>\n",
       "      <td>Ipanema  602</td>\n",
       "      <td>&lt;b&gt;The space&lt;/b&gt;&lt;br /&gt;linen not included, on r...</td>\n",
       "    </tr>\n",
       "    <tr>\n",
       "      <th>348</th>\n",
       "      <td>BAND NEW APT COPACABANA</td>\n",
       "      <td>&lt;b&gt;The space&lt;/b&gt;&lt;br /&gt;APT JUST RENOVATED! ALL ...</td>\n",
       "    </tr>\n",
       "  </tbody>\n",
       "</table>\n",
       "</div>"
      ],
      "text/plain": [
       "                                                   name  \\\n",
       "479                            Praia da Macumba Recreio   \n",
       "603                   Cozy room @ Copacabana - Posto 06   \n",
       "2056                Maracana - apartamento a 200 metros   \n",
       "19656  Mansão INCRÍVEL no meio da natureza para EVENTOS   \n",
       "661                   ótimo Quarto em Santa Teresa - RJ   \n",
       "89                    Apartamento Moderno e confortavel   \n",
       "14651                         Américas Copacabana Hotel   \n",
       "600                                            Vinicius   \n",
       "869                                        Ipanema  602   \n",
       "348                             BAND NEW APT COPACABANA   \n",
       "\n",
       "                                             description  \n",
       "479    <b>The space</b><br />Apartameno pequeno,1 Qto...  \n",
       "603    <b>The space</b><br />Excellent apartment near...  \n",
       "2056   Excelente apartamento a 200 metros do MARACANÃ...  \n",
       "19656                                                NaN  \n",
       "661    <b>The space</b><br />Casa ampla em Santa Tere...  \n",
       "89     Seja bem vindo a esse apartamento moderno, con...  \n",
       "14651                                                NaN  \n",
       "600    tarifa baixa temporada, mínimo 5 noites<br /><...  \n",
       "869    <b>The space</b><br />linen not included, on r...  \n",
       "348    <b>The space</b><br />APT JUST RENOVATED! ALL ...  "
      ]
     },
     "execution_count": 130,
     "metadata": {},
     "output_type": "execute_result"
    }
   ],
   "source": [
    "df_subset[~df_subset['bathrooms_text'].str.contains(r'bath[s]?', na = False)][['name','description']].sample(10, random_state=123)"
   ]
  },
  {
   "cell_type": "markdown",
   "metadata": {},
   "source": [
    "From the descriptions, it doesn't look like these are listings that don't have bathrooms. Imputing with some value might be more realistic.\\\n",
    "Also, there are not many listings without the number of bathrooms. It shouldn't impact us much"
   ]
  },
  {
   "cell_type": "markdown",
   "metadata": {},
   "source": [
    "After some inspections there are some key tokens that will be removed, for simplicity:\n",
    "\n",
    "- Bath(s)\n",
    "- Shared\n",
    "- Private"
   ]
  },
  {
   "cell_type": "code",
   "execution_count": 131,
   "metadata": {},
   "outputs": [
    {
     "data": {
      "text/plain": [
       "3156"
      ]
     },
     "execution_count": 131,
     "metadata": {},
     "output_type": "execute_result"
    }
   ],
   "source": [
    "df_subset['bathrooms_text'].str.contains('shared').sum()"
   ]
  },
  {
   "cell_type": "code",
   "execution_count": 132,
   "metadata": {},
   "outputs": [
    {
     "data": {
      "text/plain": [
       "1727"
      ]
     },
     "execution_count": 132,
     "metadata": {},
     "output_type": "execute_result"
    }
   ],
   "source": [
    "df_subset['bathrooms_text'].str.contains('private').sum()"
   ]
  },
  {
   "cell_type": "code",
   "execution_count": 133,
   "metadata": {},
   "outputs": [],
   "source": [
    "# Removing the words\n",
    "df_subset['bathrooms_text'] = df_subset['bathrooms_text'].str.replace(r'bath[s]?|shared|private','',case = False,regex = True)\\\n",
    "                                                            .str.strip()"
   ]
  },
  {
   "cell_type": "code",
   "execution_count": 134,
   "metadata": {},
   "outputs": [
    {
     "data": {
      "text/plain": [
       "array(['half-', 'Half-'], dtype=object)"
      ]
     },
     "execution_count": 134,
     "metadata": {},
     "output_type": "execute_result"
    }
   ],
   "source": [
    "# Looking for other tokens\n",
    "df_subset[(df_subset['bathrooms_text'].notnull()) & (df_subset['bathrooms_text'].str.contains(r'[A-Za-z]+', regex = True))]['bathrooms_text'].unique()"
   ]
  },
  {
   "cell_type": "code",
   "execution_count": 135,
   "metadata": {},
   "outputs": [],
   "source": [
    "# Replacing half with 0.5\n",
    "df_subset['bathrooms_text'] = df_subset['bathrooms_text'].str.replace(r'half-','0.5',case = False,regex = True)\\\n",
    "                                                            .str.strip()"
   ]
  },
  {
   "cell_type": "code",
   "execution_count": 136,
   "metadata": {},
   "outputs": [
    {
     "data": {
      "text/plain": [
       "array([], dtype=object)"
      ]
     },
     "execution_count": 136,
     "metadata": {},
     "output_type": "execute_result"
    }
   ],
   "source": [
    "df_subset[(df_subset['bathrooms_text'].notnull()) & (df_subset['bathrooms_text'].str.contains(r'[A-Za-z]+', regex = True))]['bathrooms_text'].unique()"
   ]
  },
  {
   "cell_type": "code",
   "execution_count": 137,
   "metadata": {},
   "outputs": [],
   "source": [
    "df_subset['bathrooms_text'] = df_subset['bathrooms_text'].astype(float)"
   ]
  },
  {
   "cell_type": "markdown",
   "metadata": {},
   "source": [
    "## NaNs"
   ]
  },
  {
   "cell_type": "code",
   "execution_count": 138,
   "metadata": {},
   "outputs": [],
   "source": [
    "# Dropping listings that don't have bathroom, bedrooms or beds information\n",
    "df_subset.dropna(subset = ['bathrooms_text','bedrooms','beds'], inplace = True)"
   ]
  },
  {
   "cell_type": "markdown",
   "metadata": {},
   "source": [
    "# City Zones\n",
    "\n",
    "Rio is a big city. To make the geographical splits easier on the market concentration phase, the neighbouroods will we grouped according to their city-zoning.\\\n",
    "For simplicity this data will be extracted from [Wikipedia](https://pt.wikipedia.org/wiki/Lista_de_bairros_da_cidade_do_Rio_de_Janeiro)\n",
    "\n",
    "Note that the neighbourhood_group that came with the dataset is totally empty"
   ]
  },
  {
   "cell_type": "code",
   "execution_count": 139,
   "metadata": {},
   "outputs": [],
   "source": [
    "link = 'https://pt.wikipedia.org/wiki/Lista_de_bairros_da_cidade_do_Rio_de_Janeiro'"
   ]
  },
  {
   "cell_type": "code",
   "execution_count": 140,
   "metadata": {},
   "outputs": [],
   "source": [
    "# Reading data from wikipedia\n",
    "tables = pd.read_html(link,match = 'Bairros oficiais')"
   ]
  },
  {
   "cell_type": "code",
   "execution_count": 141,
   "metadata": {},
   "outputs": [
    {
     "data": {
      "text/plain": [
       "1"
      ]
     },
     "execution_count": 141,
     "metadata": {},
     "output_type": "execute_result"
    }
   ],
   "source": [
    "# We should only match a single table\n",
    "len(tables)"
   ]
  },
  {
   "cell_type": "code",
   "execution_count": 142,
   "metadata": {},
   "outputs": [],
   "source": [
    "# Getting the table to a DataFrame - copying to avoid changes to the reference!\n",
    "zones = tables[0].copy()"
   ]
  },
  {
   "cell_type": "code",
   "execution_count": 143,
   "metadata": {},
   "outputs": [
    {
     "data": {
      "text/html": [
       "<div>\n",
       "<style scoped>\n",
       "    .dataframe tbody tr th:only-of-type {\n",
       "        vertical-align: middle;\n",
       "    }\n",
       "\n",
       "    .dataframe tbody tr th {\n",
       "        vertical-align: top;\n",
       "    }\n",
       "\n",
       "    .dataframe thead th {\n",
       "        text-align: right;\n",
       "    }\n",
       "</style>\n",
       "<table border=\"1\" class=\"dataframe\">\n",
       "  <thead>\n",
       "    <tr style=\"text-align: right;\">\n",
       "      <th></th>\n",
       "      <th>0</th>\n",
       "      <th>1</th>\n",
       "      <th>2</th>\n",
       "      <th>3</th>\n",
       "    </tr>\n",
       "  </thead>\n",
       "  <tbody>\n",
       "    <tr>\n",
       "      <th>0</th>\n",
       "      <td>Bairros oficiais</td>\n",
       "      <td>Bairros oficiais</td>\n",
       "      <td>Bairros oficiais</td>\n",
       "      <td>Bairros oficiais</td>\n",
       "    </tr>\n",
       "    <tr>\n",
       "      <th>1</th>\n",
       "      <td>Zona</td>\n",
       "      <td>Subprefeitura(nº de bairros)</td>\n",
       "      <td>Bairros[6]</td>\n",
       "      <td>Imagens</td>\n",
       "    </tr>\n",
       "    <tr>\n",
       "      <th>2</th>\n",
       "      <td>Central</td>\n",
       "      <td>Centro Histórico e Zona Portuária (16)[7][8]</td>\n",
       "      <td>Bairro Imperial de São Cristóvão • Benfica • C...</td>\n",
       "      <td>NaN</td>\n",
       "    </tr>\n",
       "    <tr>\n",
       "      <th>3</th>\n",
       "      <td>Sul</td>\n",
       "      <td>Zona Sul (18)[9]</td>\n",
       "      <td>Botafogo • Catete • Copacabana • Cosme Velho •...</td>\n",
       "      <td>NaN</td>\n",
       "    </tr>\n",
       "    <tr>\n",
       "      <th>4</th>\n",
       "      <td>Oeste</td>\n",
       "      <td>Barra da Tijuca e Baixada de Jacarepaguá (20)</td>\n",
       "      <td>Anil • Barra da Tijuca • Camorim • Cidade de D...</td>\n",
       "      <td>NaN</td>\n",
       "    </tr>\n",
       "  </tbody>\n",
       "</table>\n",
       "</div>"
      ],
      "text/plain": [
       "                  0                                              1  \\\n",
       "0  Bairros oficiais                               Bairros oficiais   \n",
       "1              Zona                   Subprefeitura(nº de bairros)   \n",
       "2           Central   Centro Histórico e Zona Portuária (16)[7][8]   \n",
       "3               Sul                               Zona Sul (18)[9]   \n",
       "4             Oeste  Barra da Tijuca e Baixada de Jacarepaguá (20)   \n",
       "\n",
       "                                                   2                 3  \n",
       "0                                   Bairros oficiais  Bairros oficiais  \n",
       "1                                         Bairros[6]           Imagens  \n",
       "2  Bairro Imperial de São Cristóvão • Benfica • C...               NaN  \n",
       "3  Botafogo • Catete • Copacabana • Cosme Velho •...               NaN  \n",
       "4  Anil • Barra da Tijuca • Camorim • Cidade de D...               NaN  "
      ]
     },
     "execution_count": 143,
     "metadata": {},
     "output_type": "execute_result"
    }
   ],
   "source": [
    "zones.head()"
   ]
  },
  {
   "cell_type": "code",
   "execution_count": 144,
   "metadata": {},
   "outputs": [],
   "source": [
    "# Dropping the first row.\n",
    "zones.drop(0, inplace = True)\n",
    "\n",
    "# Passing the new first row as the column names\n",
    "zones.columns = zones.iloc[0]\n",
    "\n",
    "# Dropping the names from the table\n",
    "zones.drop(1, inplace = True)\n",
    "\n",
    "# Resetting index since we've dropped two rows\n",
    "zones.reset_index(drop = True, inplace = True)\n",
    "\n",
    "# Unassigning a name to the columns\n",
    "zones.columns.name  = None\n",
    "\n",
    "# Renaming relevant columns\n",
    "zones.rename(columns = {'Zona':'zone', 'Bairros[6]':'neighbourhood'}, inplace = True)\n",
    "\n",
    "# Fetching relevant columns\n",
    "zones = zones[['zone','neighbourhood']].copy()"
   ]
  },
  {
   "cell_type": "code",
   "execution_count": 145,
   "metadata": {},
   "outputs": [
    {
     "data": {
      "text/html": [
       "<div>\n",
       "<style scoped>\n",
       "    .dataframe tbody tr th:only-of-type {\n",
       "        vertical-align: middle;\n",
       "    }\n",
       "\n",
       "    .dataframe tbody tr th {\n",
       "        vertical-align: top;\n",
       "    }\n",
       "\n",
       "    .dataframe thead th {\n",
       "        text-align: right;\n",
       "    }\n",
       "</style>\n",
       "<table border=\"1\" class=\"dataframe\">\n",
       "  <thead>\n",
       "    <tr style=\"text-align: right;\">\n",
       "      <th></th>\n",
       "      <th>zone</th>\n",
       "      <th>neighbourhood</th>\n",
       "    </tr>\n",
       "  </thead>\n",
       "  <tbody>\n",
       "    <tr>\n",
       "      <th>0</th>\n",
       "      <td>Central</td>\n",
       "      <td>Bairro Imperial de São Cristóvão • Benfica • C...</td>\n",
       "    </tr>\n",
       "    <tr>\n",
       "      <th>1</th>\n",
       "      <td>Sul</td>\n",
       "      <td>Botafogo • Catete • Copacabana • Cosme Velho •...</td>\n",
       "    </tr>\n",
       "    <tr>\n",
       "      <th>2</th>\n",
       "      <td>Oeste</td>\n",
       "      <td>Anil • Barra da Tijuca • Camorim • Cidade de D...</td>\n",
       "    </tr>\n",
       "    <tr>\n",
       "      <th>3</th>\n",
       "      <td>Oeste</td>\n",
       "      <td>Bangu • Campo dos Afonsos • Deodoro • Gericinó...</td>\n",
       "    </tr>\n",
       "    <tr>\n",
       "      <th>4</th>\n",
       "      <td>Oeste</td>\n",
       "      <td>Barra de Guaratiba • Campo Grande • Cosmos • G...</td>\n",
       "    </tr>\n",
       "  </tbody>\n",
       "</table>\n",
       "</div>"
      ],
      "text/plain": [
       "      zone                                      neighbourhood\n",
       "0  Central  Bairro Imperial de São Cristóvão • Benfica • C...\n",
       "1      Sul  Botafogo • Catete • Copacabana • Cosme Velho •...\n",
       "2    Oeste  Anil • Barra da Tijuca • Camorim • Cidade de D...\n",
       "3    Oeste  Bangu • Campo dos Afonsos • Deodoro • Gericinó...\n",
       "4    Oeste  Barra de Guaratiba • Campo Grande • Cosmos • G..."
      ]
     },
     "execution_count": 145,
     "metadata": {},
     "output_type": "execute_result"
    }
   ],
   "source": [
    "zones.head()"
   ]
  },
  {
   "cell_type": "code",
   "execution_count": 146,
   "metadata": {},
   "outputs": [
    {
     "data": {
      "text/plain": [
       "array(['Central', 'Sul', 'Oeste', 'Norte'], dtype=object)"
      ]
     },
     "execution_count": 146,
     "metadata": {},
     "output_type": "execute_result"
    }
   ],
   "source": [
    "zones.zone.unique()"
   ]
  },
  {
   "cell_type": "code",
   "execution_count": 147,
   "metadata": {},
   "outputs": [
    {
     "data": {
      "text/plain": [
       "array(['Central', 'South', 'West', 'North'], dtype=object)"
      ]
     },
     "execution_count": 147,
     "metadata": {},
     "output_type": "execute_result"
    }
   ],
   "source": [
    "# Mapping zones from portuguese to english\n",
    "zone_en_map = {'Sul':'South','Oeste':'West','Norte':'North','Central':'Central'}\n",
    "\n",
    "zones.zone = zones.zone.map(zone_en_map)\n",
    "\n",
    "zones.zone.unique()"
   ]
  },
  {
   "cell_type": "code",
   "execution_count": 148,
   "metadata": {},
   "outputs": [],
   "source": [
    "# Removing the dot\n",
    "zones['neighbourhood'] = zones['neighbourhood'].str.split('•')\n",
    "\n",
    "# Turning lists into long DF\n",
    "zones = zones.explode('neighbourhood')"
   ]
  },
  {
   "cell_type": "code",
   "execution_count": 149,
   "metadata": {},
   "outputs": [
    {
     "data": {
      "text/plain": [
       "array([['Central', 'Bairro Imperial de São Cristóvão '],\n",
       "       ['Central', ' Benfica '],\n",
       "       ['Central', ' Caju '],\n",
       "       ['Central', ' Catumbi '],\n",
       "       ['Central', ' Centro ']], dtype=object)"
      ]
     },
     "execution_count": 149,
     "metadata": {},
     "output_type": "execute_result"
    }
   ],
   "source": [
    "# Checking for trailing whitespaces\n",
    "zones.head().values"
   ]
  },
  {
   "cell_type": "markdown",
   "metadata": {},
   "source": [
    "We still need to fix the trailing whitespaces and remove special characters like 'ó' or 'ç'. This will make joining the data easier up ahead"
   ]
  },
  {
   "cell_type": "code",
   "execution_count": 150,
   "metadata": {},
   "outputs": [],
   "source": [
    "# Removing special characters\n",
    "zones['neighbourhood'] = zones['neighbourhood'].apply(unidecode.unidecode)\n",
    "\n",
    "# Removing trailing whitespaces\n",
    "zones['neighbourhood'] = zones['neighbourhood'].str.strip()\n",
    "\n",
    "# Lowercasing all values\n",
    "zones['neighbourhood'] = zones['neighbourhood'].str.lower()"
   ]
  },
  {
   "cell_type": "code",
   "execution_count": 151,
   "metadata": {},
   "outputs": [
    {
     "data": {
      "text/html": [
       "<div>\n",
       "<style scoped>\n",
       "    .dataframe tbody tr th:only-of-type {\n",
       "        vertical-align: middle;\n",
       "    }\n",
       "\n",
       "    .dataframe tbody tr th {\n",
       "        vertical-align: top;\n",
       "    }\n",
       "\n",
       "    .dataframe thead th {\n",
       "        text-align: right;\n",
       "    }\n",
       "</style>\n",
       "<table border=\"1\" class=\"dataframe\">\n",
       "  <thead>\n",
       "    <tr style=\"text-align: right;\">\n",
       "      <th></th>\n",
       "      <th>zone</th>\n",
       "      <th>neighbourhood</th>\n",
       "    </tr>\n",
       "  </thead>\n",
       "  <tbody>\n",
       "    <tr>\n",
       "      <th>0</th>\n",
       "      <td>Central</td>\n",
       "      <td>bairro imperial de sao cristovao</td>\n",
       "    </tr>\n",
       "    <tr>\n",
       "      <th>0</th>\n",
       "      <td>Central</td>\n",
       "      <td>benfica</td>\n",
       "    </tr>\n",
       "    <tr>\n",
       "      <th>0</th>\n",
       "      <td>Central</td>\n",
       "      <td>caju</td>\n",
       "    </tr>\n",
       "    <tr>\n",
       "      <th>0</th>\n",
       "      <td>Central</td>\n",
       "      <td>catumbi</td>\n",
       "    </tr>\n",
       "    <tr>\n",
       "      <th>0</th>\n",
       "      <td>Central</td>\n",
       "      <td>centro</td>\n",
       "    </tr>\n",
       "  </tbody>\n",
       "</table>\n",
       "</div>"
      ],
      "text/plain": [
       "      zone                     neighbourhood\n",
       "0  Central  bairro imperial de sao cristovao\n",
       "0  Central                           benfica\n",
       "0  Central                              caju\n",
       "0  Central                           catumbi\n",
       "0  Central                            centro"
      ]
     },
     "execution_count": 151,
     "metadata": {},
     "output_type": "execute_result"
    }
   ],
   "source": [
    "zones.head()"
   ]
  },
  {
   "cell_type": "markdown",
   "metadata": {},
   "source": [
    "### Joining the data\n",
    "\n",
    "Also prepping the table data to merge to the zoning data"
   ]
  },
  {
   "cell_type": "code",
   "execution_count": 152,
   "metadata": {},
   "outputs": [],
   "source": [
    "# Removing special characters\n",
    "df_subset['neighbourhood_cleansed'] = df_subset['neighbourhood_cleansed'].apply(unidecode.unidecode)\n",
    "\n",
    "# Lowercasing all values\n",
    "df_subset['neighbourhood_cleansed'] = df_subset['neighbourhood_cleansed'].str.lower()"
   ]
  },
  {
   "cell_type": "code",
   "execution_count": 153,
   "metadata": {},
   "outputs": [
    {
     "data": {
      "text/plain": [
       "0    copacabana\n",
       "1       ipanema\n",
       "2        pavuna\n",
       "3        gloria\n",
       "4        pavuna\n",
       "Name: neighbourhood_cleansed, dtype: object"
      ]
     },
     "execution_count": 153,
     "metadata": {},
     "output_type": "execute_result"
    }
   ],
   "source": [
    "df_subset['neighbourhood_cleansed'].head()"
   ]
  },
  {
   "cell_type": "code",
   "execution_count": 154,
   "metadata": {},
   "outputs": [],
   "source": [
    "# Merging left to avoid losing data in case match is not perfect\n",
    "df_subset = df_subset.merge(zones, left_on = 'neighbourhood_cleansed', right_on = 'neighbourhood', indicator = True, how = 'left')"
   ]
  },
  {
   "cell_type": "code",
   "execution_count": 155,
   "metadata": {},
   "outputs": [
    {
     "data": {
      "text/plain": [
       "both          24605\n",
       "left_only       213\n",
       "right_only        0\n",
       "Name: _merge, dtype: int64"
      ]
     },
     "execution_count": 155,
     "metadata": {},
     "output_type": "execute_result"
    }
   ],
   "source": [
    "# Checking if some data wasn't found\n",
    "df_subset._merge.value_counts()"
   ]
  },
  {
   "cell_type": "code",
   "execution_count": 156,
   "metadata": {},
   "outputs": [
    {
     "data": {
      "text/plain": [
       "array(['freguesia (ilha)', 'sao cristovao', 'freguesia (jacarepagua)',\n",
       "       'osvaldo cruz'], dtype=object)"
      ]
     },
     "execution_count": 156,
     "metadata": {},
     "output_type": "execute_result"
    }
   ],
   "source": [
    "# Which neighbourhoods didn't match?\n",
    "df_subset[df_subset['_merge'] == 'left_only']['neighbourhood_cleansed'].unique()"
   ]
  },
  {
   "cell_type": "markdown",
   "metadata": {},
   "source": [
    "Some names didn't match, but that's ok. We can fix them by hand.\n",
    "\n",
    "freguesia (ilha) &rarr;  North\\\n",
    "sao cristovao &rarr; Central\\\n",
    "freguesia (jacarepagua) &rarr; West\\\n",
    "osvaldo cruz &rarr; North\\\n",
    "mare &rarr; North"
   ]
  },
  {
   "cell_type": "code",
   "execution_count": 157,
   "metadata": {},
   "outputs": [],
   "source": [
    "# Fixing neighbourhoods to match them with their respective zone\n",
    "choices = [df_subset['neighbourhood_cleansed'] == 'freguesia (ilha)',\n",
    "            df_subset['neighbourhood_cleansed'] == 'sao cristovao',\n",
    "            df_subset['neighbourhood_cleansed'] == 'freguesia (jacarepagua)',\n",
    "            df_subset['neighbourhood_cleansed'] =='osvaldo cruz',\n",
    "            df_subset['neighbourhood_cleansed'] =='mare']\n",
    "\n",
    "options = ['North', 'Central', 'West','North','North']\n",
    "\n",
    "df_subset['zone'] = np.select(choices, options,default = df_subset['zone'])"
   ]
  },
  {
   "cell_type": "code",
   "execution_count": 158,
   "metadata": {},
   "outputs": [
    {
     "data": {
      "text/plain": [
       "0"
      ]
     },
     "execution_count": 158,
     "metadata": {},
     "output_type": "execute_result"
    }
   ],
   "source": [
    "# Asserting all values were handled\n",
    "df_subset['zone'].isna().sum()"
   ]
  },
  {
   "cell_type": "code",
   "execution_count": 159,
   "metadata": {},
   "outputs": [],
   "source": [
    "# Dropping \n",
    "df_subset.drop(columns = ['neighbourhood','_merge'],inplace = True)"
   ]
  },
  {
   "cell_type": "code",
   "execution_count": 160,
   "metadata": {},
   "outputs": [
    {
     "data": {
      "text/html": [
       "<div>\n",
       "<style scoped>\n",
       "    .dataframe tbody tr th:only-of-type {\n",
       "        vertical-align: middle;\n",
       "    }\n",
       "\n",
       "    .dataframe tbody tr th {\n",
       "        vertical-align: top;\n",
       "    }\n",
       "\n",
       "    .dataframe thead th {\n",
       "        text-align: right;\n",
       "    }\n",
       "</style>\n",
       "<table border=\"1\" class=\"dataframe\">\n",
       "  <thead>\n",
       "    <tr style=\"text-align: right;\">\n",
       "      <th></th>\n",
       "      <th>id</th>\n",
       "      <th>host_id</th>\n",
       "      <th>host_total_listings_count</th>\n",
       "      <th>listing_url</th>\n",
       "      <th>last_scraped</th>\n",
       "      <th>source</th>\n",
       "      <th>name</th>\n",
       "      <th>description</th>\n",
       "      <th>neighbourhood_cleansed</th>\n",
       "      <th>property_type</th>\n",
       "      <th>room_type</th>\n",
       "      <th>accommodates</th>\n",
       "      <th>bathrooms_text</th>\n",
       "      <th>bedrooms</th>\n",
       "      <th>beds</th>\n",
       "      <th>amenities</th>\n",
       "      <th>price</th>\n",
       "      <th>minimum_nights</th>\n",
       "      <th>zone</th>\n",
       "    </tr>\n",
       "  </thead>\n",
       "  <tbody>\n",
       "    <tr>\n",
       "      <th>0</th>\n",
       "      <td>53344884</td>\n",
       "      <td>431412286</td>\n",
       "      <td>10.0</td>\n",
       "      <td>https://www.airbnb.com/rooms/53344884</td>\n",
       "      <td>2022-09-22</td>\n",
       "      <td>city scrape</td>\n",
       "      <td>Suntuoso apartamento em Copacabana posto 6</td>\n",
       "      <td>suntuoso apartamento de frente para o mar &lt;br ...</td>\n",
       "      <td>copacabana</td>\n",
       "      <td>Entire condo</td>\n",
       "      <td>Entire home/apt</td>\n",
       "      <td>6</td>\n",
       "      <td>4.5</td>\n",
       "      <td>3.0</td>\n",
       "      <td>5.0</td>\n",
       "      <td>[Air conditioning, Washer, Security cameras on...</td>\n",
       "      <td>3500.0</td>\n",
       "      <td>3</td>\n",
       "      <td>South</td>\n",
       "    </tr>\n",
       "    <tr>\n",
       "      <th>1</th>\n",
       "      <td>7801456</td>\n",
       "      <td>40650139</td>\n",
       "      <td>6.0</td>\n",
       "      <td>https://www.airbnb.com/rooms/7801456</td>\n",
       "      <td>2022-09-22</td>\n",
       "      <td>city scrape</td>\n",
       "      <td>Ipanema Vieira Souto - Linda Vista</td>\n",
       "      <td>Flat luxuoso com a melhor localização do Rio d...</td>\n",
       "      <td>ipanema</td>\n",
       "      <td>Entire serviced apartment</td>\n",
       "      <td>Entire home/apt</td>\n",
       "      <td>4</td>\n",
       "      <td>2.0</td>\n",
       "      <td>2.0</td>\n",
       "      <td>3.0</td>\n",
       "      <td>[Cable TV, Air conditioning, Fire extinguisher...</td>\n",
       "      <td>5000.0</td>\n",
       "      <td>2</td>\n",
       "      <td>South</td>\n",
       "    </tr>\n",
       "    <tr>\n",
       "      <th>2</th>\n",
       "      <td>14333905</td>\n",
       "      <td>87749071</td>\n",
       "      <td>1.0</td>\n",
       "      <td>https://www.airbnb.com/rooms/14333905</td>\n",
       "      <td>2022-09-22</td>\n",
       "      <td>city scrape</td>\n",
       "      <td>Casa compartilhada</td>\n",
       "      <td>A 15 min. do complexo esportivo de Deodoro, Ca...</td>\n",
       "      <td>pavuna</td>\n",
       "      <td>Entire home</td>\n",
       "      <td>Entire home/apt</td>\n",
       "      <td>12</td>\n",
       "      <td>1.0</td>\n",
       "      <td>2.0</td>\n",
       "      <td>4.0</td>\n",
       "      <td>[Cable TV, Air conditioning, Hair dryer, Iron,...</td>\n",
       "      <td>681.0</td>\n",
       "      <td>1</td>\n",
       "      <td>North</td>\n",
       "    </tr>\n",
       "    <tr>\n",
       "      <th>3</th>\n",
       "      <td>44708736</td>\n",
       "      <td>97164727</td>\n",
       "      <td>4.0</td>\n",
       "      <td>https://www.airbnb.com/rooms/44708736</td>\n",
       "      <td>2022-09-22</td>\n",
       "      <td>city scrape</td>\n",
       "      <td>Aluguel de Lancha no Rio de Janeiro</td>\n",
       "      <td>Iate Intermarine 440 Full Gold c/ Fly p/ até 1...</td>\n",
       "      <td>gloria</td>\n",
       "      <td>Boat</td>\n",
       "      <td>Entire home/apt</td>\n",
       "      <td>12</td>\n",
       "      <td>2.0</td>\n",
       "      <td>2.0</td>\n",
       "      <td>3.0</td>\n",
       "      <td>[Single level home, Wifi 30 Mbps, Dedicated wo...</td>\n",
       "      <td>8999.0</td>\n",
       "      <td>1</td>\n",
       "      <td>South</td>\n",
       "    </tr>\n",
       "    <tr>\n",
       "      <th>4</th>\n",
       "      <td>35351763</td>\n",
       "      <td>249666532</td>\n",
       "      <td>1.0</td>\n",
       "      <td>https://www.airbnb.com/rooms/35351763</td>\n",
       "      <td>2022-09-22</td>\n",
       "      <td>city scrape</td>\n",
       "      <td>Uma grande família</td>\n",
       "      <td>Estou oferecendo minha casa ,minha família meu...</td>\n",
       "      <td>pavuna</td>\n",
       "      <td>Earthen home</td>\n",
       "      <td>Entire home/apt</td>\n",
       "      <td>1</td>\n",
       "      <td>1.0</td>\n",
       "      <td>2.0</td>\n",
       "      <td>3.0</td>\n",
       "      <td>[Air conditioning, First aid kit, Iron, Essent...</td>\n",
       "      <td>500.0</td>\n",
       "      <td>1</td>\n",
       "      <td>North</td>\n",
       "    </tr>\n",
       "  </tbody>\n",
       "</table>\n",
       "</div>"
      ],
      "text/plain": [
       "         id    host_id  host_total_listings_count  \\\n",
       "0  53344884  431412286                       10.0   \n",
       "1   7801456   40650139                        6.0   \n",
       "2  14333905   87749071                        1.0   \n",
       "3  44708736   97164727                        4.0   \n",
       "4  35351763  249666532                        1.0   \n",
       "\n",
       "                             listing_url last_scraped       source  \\\n",
       "0  https://www.airbnb.com/rooms/53344884   2022-09-22  city scrape   \n",
       "1   https://www.airbnb.com/rooms/7801456   2022-09-22  city scrape   \n",
       "2  https://www.airbnb.com/rooms/14333905   2022-09-22  city scrape   \n",
       "3  https://www.airbnb.com/rooms/44708736   2022-09-22  city scrape   \n",
       "4  https://www.airbnb.com/rooms/35351763   2022-09-22  city scrape   \n",
       "\n",
       "                                         name  \\\n",
       "0  Suntuoso apartamento em Copacabana posto 6   \n",
       "1          Ipanema Vieira Souto - Linda Vista   \n",
       "2                          Casa compartilhada   \n",
       "3         Aluguel de Lancha no Rio de Janeiro   \n",
       "4                          Uma grande família   \n",
       "\n",
       "                                         description neighbourhood_cleansed  \\\n",
       "0  suntuoso apartamento de frente para o mar <br ...             copacabana   \n",
       "1  Flat luxuoso com a melhor localização do Rio d...                ipanema   \n",
       "2  A 15 min. do complexo esportivo de Deodoro, Ca...                 pavuna   \n",
       "3  Iate Intermarine 440 Full Gold c/ Fly p/ até 1...                 gloria   \n",
       "4  Estou oferecendo minha casa ,minha família meu...                 pavuna   \n",
       "\n",
       "               property_type        room_type  accommodates  bathrooms_text  \\\n",
       "0               Entire condo  Entire home/apt             6             4.5   \n",
       "1  Entire serviced apartment  Entire home/apt             4             2.0   \n",
       "2                Entire home  Entire home/apt            12             1.0   \n",
       "3                       Boat  Entire home/apt            12             2.0   \n",
       "4               Earthen home  Entire home/apt             1             1.0   \n",
       "\n",
       "   bedrooms  beds                                          amenities   price  \\\n",
       "0       3.0   5.0  [Air conditioning, Washer, Security cameras on...  3500.0   \n",
       "1       2.0   3.0  [Cable TV, Air conditioning, Fire extinguisher...  5000.0   \n",
       "2       2.0   4.0  [Cable TV, Air conditioning, Hair dryer, Iron,...   681.0   \n",
       "3       2.0   3.0  [Single level home, Wifi 30 Mbps, Dedicated wo...  8999.0   \n",
       "4       2.0   3.0  [Air conditioning, First aid kit, Iron, Essent...   500.0   \n",
       "\n",
       "   minimum_nights   zone  \n",
       "0               3  South  \n",
       "1               2  South  \n",
       "2               1  North  \n",
       "3               1  South  \n",
       "4               1  North  "
      ]
     },
     "execution_count": 160,
     "metadata": {},
     "output_type": "execute_result"
    }
   ],
   "source": [
    "df_subset.head()"
   ]
  },
  {
   "cell_type": "markdown",
   "metadata": {},
   "source": [
    "# Price analysis\n",
    "\n",
    "Price will be used throughout our questions, we should take a look at it specifically before using it"
   ]
  },
  {
   "cell_type": "code",
   "execution_count": 161,
   "metadata": {},
   "outputs": [
    {
     "data": {
      "text/plain": [
       "count     24818.000000\n",
       "mean        800.696591\n",
       "std        5382.310646\n",
       "min          33.000000\n",
       "25%         190.000000\n",
       "50%         320.000000\n",
       "75%         629.000000\n",
       "max      590887.000000\n",
       "Name: price, dtype: float64"
      ]
     },
     "execution_count": 161,
     "metadata": {},
     "output_type": "execute_result"
    }
   ],
   "source": [
    "df_subset['price'].describe()"
   ]
  },
  {
   "cell_type": "markdown",
   "metadata": {},
   "source": [
    "There are clearly some weird prices. Let's take a look at daily prices that are higher than 10k. \n",
    "Let's also look at the zeros"
   ]
  },
  {
   "cell_type": "markdown",
   "metadata": {},
   "source": [
    "## Values over 10k"
   ]
  },
  {
   "cell_type": "code",
   "execution_count": 162,
   "metadata": {},
   "outputs": [
    {
     "data": {
      "text/plain": [
       "<AxesSubplot:xlabel='price', ylabel='Count'>"
      ]
     },
     "execution_count": 162,
     "metadata": {},
     "output_type": "execute_result"
    },
    {
     "data": {
      "image/png": "[encoded data removed]",
      "text/plain": [
       "<Figure size 1080x720 with 1 Axes>"
      ]
     },
     "metadata": {},
     "output_type": "display_data"
    }
   ],
   "source": [
    "sns.histplot(data = df_subset[df_subset['price'] >= 10000], x = 'price')"
   ]
  },
  {
   "cell_type": "code",
   "execution_count": 163,
   "metadata": {},
   "outputs": [
    {
     "data": {
      "text/html": [
       "<div>\n",
       "<style scoped>\n",
       "    .dataframe tbody tr th:only-of-type {\n",
       "        vertical-align: middle;\n",
       "    }\n",
       "\n",
       "    .dataframe tbody tr th {\n",
       "        vertical-align: top;\n",
       "    }\n",
       "\n",
       "    .dataframe thead th {\n",
       "        text-align: right;\n",
       "    }\n",
       "</style>\n",
       "<table border=\"1\" class=\"dataframe\">\n",
       "  <thead>\n",
       "    <tr style=\"text-align: right;\">\n",
       "      <th></th>\n",
       "      <th>id</th>\n",
       "      <th>host_id</th>\n",
       "      <th>host_total_listings_count</th>\n",
       "      <th>listing_url</th>\n",
       "      <th>last_scraped</th>\n",
       "      <th>source</th>\n",
       "      <th>name</th>\n",
       "      <th>description</th>\n",
       "      <th>neighbourhood_cleansed</th>\n",
       "      <th>property_type</th>\n",
       "      <th>room_type</th>\n",
       "      <th>accommodates</th>\n",
       "      <th>bathrooms_text</th>\n",
       "      <th>bedrooms</th>\n",
       "      <th>beds</th>\n",
       "      <th>amenities</th>\n",
       "      <th>price</th>\n",
       "      <th>minimum_nights</th>\n",
       "      <th>zone</th>\n",
       "    </tr>\n",
       "  </thead>\n",
       "  <tbody>\n",
       "    <tr>\n",
       "      <th>1331</th>\n",
       "      <td>2332585</td>\n",
       "      <td>11913750</td>\n",
       "      <td>1.0</td>\n",
       "      <td>https://www.airbnb.com/rooms/2332585</td>\n",
       "      <td>2022-09-22</td>\n",
       "      <td>city scrape</td>\n",
       "      <td>Confortable, Well Placed, Nice View</td>\n",
       "      <td>Comfortable apartment, well located, with a wo...</td>\n",
       "      <td>santa teresa</td>\n",
       "      <td>Entire rental unit</td>\n",
       "      <td>Entire home/apt</td>\n",
       "      <td>4</td>\n",
       "      <td>1.0</td>\n",
       "      <td>1.0</td>\n",
       "      <td>2.0</td>\n",
       "      <td>[Air conditioning, Essentials, Washer, Shampoo...</td>\n",
       "      <td>50000.0</td>\n",
       "      <td>50</td>\n",
       "      <td>Central</td>\n",
       "    </tr>\n",
       "    <tr>\n",
       "      <th>1603</th>\n",
       "      <td>2677829</td>\n",
       "      <td>7673499</td>\n",
       "      <td>5.0</td>\n",
       "      <td>https://www.airbnb.com/rooms/2677829</td>\n",
       "      <td>2022-09-22</td>\n",
       "      <td>city scrape</td>\n",
       "      <td>Apart Arpoador Well located- Best RJ Beaches</td>\n",
       "      <td>It is a cozy apartment, very well located a fe...</td>\n",
       "      <td>ipanema</td>\n",
       "      <td>Entire rental unit</td>\n",
       "      <td>Entire home/apt</td>\n",
       "      <td>6</td>\n",
       "      <td>1.0</td>\n",
       "      <td>2.0</td>\n",
       "      <td>3.0</td>\n",
       "      <td>[Iron, Essentials, Washer, Microwave, Kitchen,...</td>\n",
       "      <td>50000.0</td>\n",
       "      <td>2</td>\n",
       "      <td>South</td>\n",
       "    </tr>\n",
       "    <tr>\n",
       "      <th>3228</th>\n",
       "      <td>7695145</td>\n",
       "      <td>40415426</td>\n",
       "      <td>1.0</td>\n",
       "      <td>https://www.airbnb.com/rooms/7695145</td>\n",
       "      <td>2022-09-22</td>\n",
       "      <td>city scrape</td>\n",
       "      <td>q</td>\n",
       "      <td>xxxxx</td>\n",
       "      <td>tijuca</td>\n",
       "      <td>Private room in rental unit</td>\n",
       "      <td>Private room</td>\n",
       "      <td>2</td>\n",
       "      <td>2.0</td>\n",
       "      <td>1.0</td>\n",
       "      <td>2.0</td>\n",
       "      <td>[Washer, Wifi, Long term stays allowed, Kitche...</td>\n",
       "      <td>100000.0</td>\n",
       "      <td>1</td>\n",
       "      <td>North</td>\n",
       "    </tr>\n",
       "    <tr>\n",
       "      <th>3273</th>\n",
       "      <td>8596751</td>\n",
       "      <td>38555079</td>\n",
       "      <td>1.0</td>\n",
       "      <td>https://www.airbnb.com/rooms/8596751</td>\n",
       "      <td>2022-09-21</td>\n",
       "      <td>city scrape</td>\n",
       "      <td>Tudo Super Bacana pra Voltar Sempre</td>\n",
       "      <td>Quarto confortável e privativo. Os melhores so...</td>\n",
       "      <td>curicica</td>\n",
       "      <td>Private room in rental unit</td>\n",
       "      <td>Private room</td>\n",
       "      <td>1</td>\n",
       "      <td>1.0</td>\n",
       "      <td>1.0</td>\n",
       "      <td>1.0</td>\n",
       "      <td>[Cable TV, Heating, Air conditioning, Hangers,...</td>\n",
       "      <td>74111.0</td>\n",
       "      <td>2</td>\n",
       "      <td>West</td>\n",
       "    </tr>\n",
       "    <tr>\n",
       "      <th>3846</th>\n",
       "      <td>9952483</td>\n",
       "      <td>51144125</td>\n",
       "      <td>5.0</td>\n",
       "      <td>https://www.airbnb.com/rooms/9952483</td>\n",
       "      <td>2022-09-22</td>\n",
       "      <td>city scrape</td>\n",
       "      <td>Suite Balcony, breezy, sunny morning.</td>\n",
       "      <td>I love the view to the green. Transport at the...</td>\n",
       "      <td>anil</td>\n",
       "      <td>Private room in rental unit</td>\n",
       "      <td>Private room</td>\n",
       "      <td>2</td>\n",
       "      <td>1.0</td>\n",
       "      <td>1.0</td>\n",
       "      <td>1.0</td>\n",
       "      <td>[Hangers, Dedicated workspace, Lock on bedroom...</td>\n",
       "      <td>335103.0</td>\n",
       "      <td>1</td>\n",
       "      <td>West</td>\n",
       "    </tr>\n",
       "  </tbody>\n",
       "</table>\n",
       "</div>"
      ],
      "text/plain": [
       "           id   host_id  host_total_listings_count  \\\n",
       "1331  2332585  11913750                        1.0   \n",
       "1603  2677829   7673499                        5.0   \n",
       "3228  7695145  40415426                        1.0   \n",
       "3273  8596751  38555079                        1.0   \n",
       "3846  9952483  51144125                        5.0   \n",
       "\n",
       "                               listing_url last_scraped       source  \\\n",
       "1331  https://www.airbnb.com/rooms/2332585   2022-09-22  city scrape   \n",
       "1603  https://www.airbnb.com/rooms/2677829   2022-09-22  city scrape   \n",
       "3228  https://www.airbnb.com/rooms/7695145   2022-09-22  city scrape   \n",
       "3273  https://www.airbnb.com/rooms/8596751   2022-09-21  city scrape   \n",
       "3846  https://www.airbnb.com/rooms/9952483   2022-09-22  city scrape   \n",
       "\n",
       "                                              name  \\\n",
       "1331           Confortable, Well Placed, Nice View   \n",
       "1603  Apart Arpoador Well located- Best RJ Beaches   \n",
       "3228                                             q   \n",
       "3273           Tudo Super Bacana pra Voltar Sempre   \n",
       "3846         Suite Balcony, breezy, sunny morning.   \n",
       "\n",
       "                                            description  \\\n",
       "1331  Comfortable apartment, well located, with a wo...   \n",
       "1603  It is a cozy apartment, very well located a fe...   \n",
       "3228                                              xxxxx   \n",
       "3273  Quarto confortável e privativo. Os melhores so...   \n",
       "3846  I love the view to the green. Transport at the...   \n",
       "\n",
       "     neighbourhood_cleansed                property_type        room_type  \\\n",
       "1331           santa teresa           Entire rental unit  Entire home/apt   \n",
       "1603                ipanema           Entire rental unit  Entire home/apt   \n",
       "3228                 tijuca  Private room in rental unit     Private room   \n",
       "3273               curicica  Private room in rental unit     Private room   \n",
       "3846                   anil  Private room in rental unit     Private room   \n",
       "\n",
       "      accommodates  bathrooms_text  bedrooms  beds  \\\n",
       "1331             4             1.0       1.0   2.0   \n",
       "1603             6             1.0       2.0   3.0   \n",
       "3228             2             2.0       1.0   2.0   \n",
       "3273             1             1.0       1.0   1.0   \n",
       "3846             2             1.0       1.0   1.0   \n",
       "\n",
       "                                              amenities     price  \\\n",
       "1331  [Air conditioning, Essentials, Washer, Shampoo...   50000.0   \n",
       "1603  [Iron, Essentials, Washer, Microwave, Kitchen,...   50000.0   \n",
       "3228  [Washer, Wifi, Long term stays allowed, Kitche...  100000.0   \n",
       "3273  [Cable TV, Heating, Air conditioning, Hangers,...   74111.0   \n",
       "3846  [Hangers, Dedicated workspace, Lock on bedroom...  335103.0   \n",
       "\n",
       "      minimum_nights     zone  \n",
       "1331              50  Central  \n",
       "1603               2    South  \n",
       "3228               1    North  \n",
       "3273               2     West  \n",
       "3846               1     West  "
      ]
     },
     "execution_count": 163,
     "metadata": {},
     "output_type": "execute_result"
    }
   ],
   "source": [
    "# Looking into a sample of the listings\n",
    "df_subset[df_subset['price'] >= 45000].head()"
   ]
  },
  {
   "cell_type": "markdown",
   "metadata": {},
   "source": [
    "Looking into the data, it looks like some listings are effectively high-end listings. That is not the case for all listings.\\\n",
    "Let's see how the max looks like if we propose quantile cuts to the data."
   ]
  },
  {
   "cell_type": "code",
   "execution_count": 164,
   "metadata": {},
   "outputs": [],
   "source": [
    "percentile_ranges = [.75,.8,.85,.9,.95,.99,.995]\n",
    "\n",
    "percentile_values = np.quantile(df_subset['price'], percentile_ranges)\n",
    "\n",
    "percentile_dict = {k:v for k, v in zip(percentile_ranges, percentile_values)}"
   ]
  },
  {
   "cell_type": "code",
   "execution_count": 165,
   "metadata": {},
   "outputs": [
    {
     "data": {
      "text/plain": [
       "{0.75: 629.0,\n",
       " 0.8: 773.0,\n",
       " 0.85: 996.3500000000022,\n",
       " 0.9: 1300.0,\n",
       " 0.95: 2078.0,\n",
       " 0.99: 7000.0,\n",
       " 0.995: 10334.0}"
      ]
     },
     "execution_count": 165,
     "metadata": {},
     "output_type": "execute_result"
    }
   ],
   "source": [
    "percentile_dict"
   ]
  },
  {
   "cell_type": "markdown",
   "metadata": {},
   "source": [
    "If we cut as little as 0.5% of the data on the top end, we might land on a more feasible region for price distribution without having to worry about the extreme prices."
   ]
  },
  {
   "cell_type": "code",
   "execution_count": 166,
   "metadata": {},
   "outputs": [
    {
     "data": {
      "text/plain": [
       "count    24694.000000\n",
       "mean       609.119786\n",
       "std        950.837286\n",
       "min         33.000000\n",
       "25%        190.000000\n",
       "50%        319.000000\n",
       "75%        614.000000\n",
       "max      10334.000000\n",
       "Name: price, dtype: float64"
      ]
     },
     "execution_count": 166,
     "metadata": {},
     "output_type": "execute_result"
    }
   ],
   "source": [
    "df_subset[df_subset['price']<=percentile_dict[0.995]]['price'].describe()"
   ]
  },
  {
   "cell_type": "markdown",
   "metadata": {},
   "source": [
    "## 0 Values"
   ]
  },
  {
   "cell_type": "code",
   "execution_count": 167,
   "metadata": {},
   "outputs": [
    {
     "data": {
      "text/html": [
       "<div>\n",
       "<style scoped>\n",
       "    .dataframe tbody tr th:only-of-type {\n",
       "        vertical-align: middle;\n",
       "    }\n",
       "\n",
       "    .dataframe tbody tr th {\n",
       "        vertical-align: top;\n",
       "    }\n",
       "\n",
       "    .dataframe thead th {\n",
       "        text-align: right;\n",
       "    }\n",
       "</style>\n",
       "<table border=\"1\" class=\"dataframe\">\n",
       "  <thead>\n",
       "    <tr style=\"text-align: right;\">\n",
       "      <th></th>\n",
       "      <th>id</th>\n",
       "      <th>host_id</th>\n",
       "      <th>host_total_listings_count</th>\n",
       "      <th>listing_url</th>\n",
       "      <th>last_scraped</th>\n",
       "      <th>source</th>\n",
       "      <th>name</th>\n",
       "      <th>description</th>\n",
       "      <th>neighbourhood_cleansed</th>\n",
       "      <th>property_type</th>\n",
       "      <th>room_type</th>\n",
       "      <th>accommodates</th>\n",
       "      <th>bathrooms_text</th>\n",
       "      <th>bedrooms</th>\n",
       "      <th>beds</th>\n",
       "      <th>amenities</th>\n",
       "      <th>price</th>\n",
       "      <th>minimum_nights</th>\n",
       "      <th>zone</th>\n",
       "    </tr>\n",
       "  </thead>\n",
       "  <tbody>\n",
       "  </tbody>\n",
       "</table>\n",
       "</div>"
      ],
      "text/plain": [
       "Empty DataFrame\n",
       "Columns: [id, host_id, host_total_listings_count, listing_url, last_scraped, source, name, description, neighbourhood_cleansed, property_type, room_type, accommodates, bathrooms_text, bedrooms, beds, amenities, price, minimum_nights, zone]\n",
       "Index: []"
      ]
     },
     "execution_count": 167,
     "metadata": {},
     "output_type": "execute_result"
    }
   ],
   "source": [
    "df_subset[df_subset['price'] == 0]"
   ]
  },
  {
   "cell_type": "markdown",
   "metadata": {},
   "source": [
    "They look like mistakes. When checking the listing's URL, they have a price.\\\n",
    "For simplicity these will be removed"
   ]
  },
  {
   "cell_type": "code",
   "execution_count": 168,
   "metadata": {},
   "outputs": [],
   "source": [
    "df_subset = df_subset[df_subset['price'] > 0].copy()"
   ]
  },
  {
   "cell_type": "markdown",
   "metadata": {},
   "source": [
    "## Plotting the resulting distribution"
   ]
  },
  {
   "cell_type": "code",
   "execution_count": 169,
   "metadata": {},
   "outputs": [
    {
     "data": {
      "image/png": "[encoded data removed]",
      "text/plain": [
       "<Figure size 1080x720 with 1 Axes>"
      ]
     },
     "metadata": {},
     "output_type": "display_data"
    }
   ],
   "source": [
    "fig, ax = plt.subplots()\n",
    "\n",
    "sns.histplot(data = df_subset[df_subset['price'] <= percentile_dict[0.995]], x = 'price', ax = ax)\n",
    "\n",
    "ax.set_title('Price distribution')\n",
    "\n",
    "plt.show()"
   ]
  },
  {
   "cell_type": "markdown",
   "metadata": {},
   "source": [
    "Price is a right-skewed distribution.\\\n",
    "This is expected, since the amount of goods (listings in this case) tend to be higher towards lower price ranges since these ranges are more affordable.\n",
    "\n",
    "It's clearly not normally distributed. "
   ]
  },
  {
   "cell_type": "code",
   "execution_count": 170,
   "metadata": {},
   "outputs": [],
   "source": [
    "# Filtering the data to remove extreme values\n",
    "df_subset = df_subset[df_subset['price'] <= percentile_dict[0.995]].copy()"
   ]
  },
  {
   "cell_type": "markdown",
   "metadata": {},
   "source": [
    "# Where are the cheapest listings?"
   ]
  },
  {
   "cell_type": "markdown",
   "metadata": {},
   "source": [
    "## City Zones"
   ]
  },
  {
   "cell_type": "code",
   "execution_count": 171,
   "metadata": {},
   "outputs": [],
   "source": [
    "# Using median and mean as statistics since distribution is skewed\n",
    "agg_zones = df_subset.groupby('zone', as_index = False).agg({'price':['mean','median']})"
   ]
  },
  {
   "cell_type": "code",
   "execution_count": 172,
   "metadata": {},
   "outputs": [],
   "source": [
    "agg_zones.columns = ['zone','mean','median']"
   ]
  },
  {
   "cell_type": "code",
   "execution_count": 173,
   "metadata": {},
   "outputs": [
    {
     "data": {
      "text/plain": [
       "<AxesSubplot:xlabel='zone', ylabel='value'>"
      ]
     },
     "execution_count": 173,
     "metadata": {},
     "output_type": "execute_result"
    },
    {
     "data": {
      "image/png": "[encoded data removed]",
      "text/plain": [
       "<Figure size 1080x720 with 1 Axes>"
      ]
     },
     "metadata": {},
     "output_type": "display_data"
    }
   ],
   "source": [
    "sns.barplot(data = agg_zones.melt(id_vars='zone'), x = 'zone', y = 'value', hue = 'variable')"
   ]
  },
  {
   "cell_type": "markdown",
   "metadata": {},
   "source": [
    "## Neighbourhoods"
   ]
  },
  {
   "cell_type": "code",
   "execution_count": 174,
   "metadata": {},
   "outputs": [],
   "source": [
    "agg_neighbourhoods = df_subset.groupby(['neighbourhood_cleansed','zone'], as_index = False)['price'].agg(['mean','size'])"
   ]
  },
  {
   "cell_type": "code",
   "execution_count": 175,
   "metadata": {},
   "outputs": [
    {
     "data": {
      "text/plain": [
       "zone     neighbourhood_cleansed   zone   \n",
       "Central  estacio                  Central    267.209302\n",
       "         centro                   Central    316.571189\n",
       "         paqueta                  Central    323.893617\n",
       "         sao cristovao            Central    336.802632\n",
       "         santa teresa             Central    465.553092\n",
       "North    jardim guanabara         North      273.568966\n",
       "         engenho novo             North      293.677419\n",
       "         grajau                   North      298.090909\n",
       "         tijuca                   North      379.747340\n",
       "         vila isabel              North      439.944444\n",
       "South    catete                   South      329.550000\n",
       "         flamengo                 South      382.402344\n",
       "         botafogo                 South      383.575195\n",
       "         vidigal                  South      426.027778\n",
       "         laranjeiras              South      451.492105\n",
       "West     gardenia azul            West       411.729730\n",
       "         curicica                 West       426.197368\n",
       "         taquara                  West       439.328244\n",
       "         camorim                  West       480.837931\n",
       "         freguesia (jacarepagua)  West       485.730159\n",
       "Name: mean, dtype: float64"
      ]
     },
     "execution_count": 175,
     "metadata": {},
     "output_type": "execute_result"
    }
   ],
   "source": [
    "agg_neighbourhoods[agg_neighbourhoods['size'] > 30].groupby('zone')['mean'].nsmallest(5)"
   ]
  },
  {
   "cell_type": "markdown",
   "metadata": {},
   "source": [
    "Here, we have a list of neighbourhoods per zone that have the cheapest listings on average"
   ]
  },
  {
   "cell_type": "markdown",
   "metadata": {},
   "source": [
    "# Can we segment listings by the collection of their characteristics?\n",
    "\n",
    "Using K-Modes to find general group of listings."
   ]
  },
  {
   "cell_type": "code",
   "execution_count": 176,
   "metadata": {},
   "outputs": [],
   "source": [
    "# Variable that describe a listing directly\n",
    "# Not considering ammenities for simplicity\n",
    "listing_vars = ['property_type',\n",
    "                'room_type',\n",
    "                'accommodates',\n",
    "                'bathrooms_text',\n",
    "                'bedrooms',\n",
    "                'beds',\n",
    "                'minimum_nights']"
   ]
  },
  {
   "cell_type": "markdown",
   "metadata": {},
   "source": [
    "## Exploration of variables"
   ]
  },
  {
   "cell_type": "code",
   "execution_count": 177,
   "metadata": {},
   "outputs": [
    {
     "data": {
      "text/html": [
       "<div>\n",
       "<style scoped>\n",
       "    .dataframe tbody tr th:only-of-type {\n",
       "        vertical-align: middle;\n",
       "    }\n",
       "\n",
       "    .dataframe tbody tr th {\n",
       "        vertical-align: top;\n",
       "    }\n",
       "\n",
       "    .dataframe thead th {\n",
       "        text-align: right;\n",
       "    }\n",
       "</style>\n",
       "<table border=\"1\" class=\"dataframe\">\n",
       "  <thead>\n",
       "    <tr style=\"text-align: right;\">\n",
       "      <th></th>\n",
       "      <th>property_type</th>\n",
       "      <th>room_type</th>\n",
       "      <th>accommodates</th>\n",
       "      <th>bathrooms_text</th>\n",
       "      <th>bedrooms</th>\n",
       "      <th>beds</th>\n",
       "      <th>minimum_nights</th>\n",
       "    </tr>\n",
       "  </thead>\n",
       "  <tbody>\n",
       "    <tr>\n",
       "      <th>count</th>\n",
       "      <td>24694</td>\n",
       "      <td>24694</td>\n",
       "      <td>24694.000000</td>\n",
       "      <td>24694.000000</td>\n",
       "      <td>24694.000000</td>\n",
       "      <td>24694.000000</td>\n",
       "      <td>24694.000000</td>\n",
       "    </tr>\n",
       "    <tr>\n",
       "      <th>unique</th>\n",
       "      <td>83</td>\n",
       "      <td>4</td>\n",
       "      <td>NaN</td>\n",
       "      <td>NaN</td>\n",
       "      <td>NaN</td>\n",
       "      <td>NaN</td>\n",
       "      <td>NaN</td>\n",
       "    </tr>\n",
       "    <tr>\n",
       "      <th>top</th>\n",
       "      <td>Entire rental unit</td>\n",
       "      <td>Entire home/apt</td>\n",
       "      <td>NaN</td>\n",
       "      <td>NaN</td>\n",
       "      <td>NaN</td>\n",
       "      <td>NaN</td>\n",
       "      <td>NaN</td>\n",
       "    </tr>\n",
       "    <tr>\n",
       "      <th>freq</th>\n",
       "      <td>13866</td>\n",
       "      <td>18781</td>\n",
       "      <td>NaN</td>\n",
       "      <td>NaN</td>\n",
       "      <td>NaN</td>\n",
       "      <td>NaN</td>\n",
       "      <td>NaN</td>\n",
       "    </tr>\n",
       "    <tr>\n",
       "      <th>mean</th>\n",
       "      <td>NaN</td>\n",
       "      <td>NaN</td>\n",
       "      <td>4.167328</td>\n",
       "      <td>1.643314</td>\n",
       "      <td>1.682473</td>\n",
       "      <td>2.627561</td>\n",
       "      <td>4.965498</td>\n",
       "    </tr>\n",
       "    <tr>\n",
       "      <th>std</th>\n",
       "      <td>NaN</td>\n",
       "      <td>NaN</td>\n",
       "      <td>2.442226</td>\n",
       "      <td>1.025992</td>\n",
       "      <td>1.069475</td>\n",
       "      <td>2.253717</td>\n",
       "      <td>25.125126</td>\n",
       "    </tr>\n",
       "    <tr>\n",
       "      <th>min</th>\n",
       "      <td>NaN</td>\n",
       "      <td>NaN</td>\n",
       "      <td>1.000000</td>\n",
       "      <td>0.000000</td>\n",
       "      <td>1.000000</td>\n",
       "      <td>1.000000</td>\n",
       "      <td>1.000000</td>\n",
       "    </tr>\n",
       "    <tr>\n",
       "      <th>25%</th>\n",
       "      <td>NaN</td>\n",
       "      <td>NaN</td>\n",
       "      <td>2.000000</td>\n",
       "      <td>1.000000</td>\n",
       "      <td>1.000000</td>\n",
       "      <td>1.000000</td>\n",
       "      <td>1.000000</td>\n",
       "    </tr>\n",
       "    <tr>\n",
       "      <th>50%</th>\n",
       "      <td>NaN</td>\n",
       "      <td>NaN</td>\n",
       "      <td>4.000000</td>\n",
       "      <td>1.000000</td>\n",
       "      <td>1.000000</td>\n",
       "      <td>2.000000</td>\n",
       "      <td>2.000000</td>\n",
       "    </tr>\n",
       "    <tr>\n",
       "      <th>75%</th>\n",
       "      <td>NaN</td>\n",
       "      <td>NaN</td>\n",
       "      <td>5.000000</td>\n",
       "      <td>2.000000</td>\n",
       "      <td>2.000000</td>\n",
       "      <td>3.000000</td>\n",
       "      <td>4.000000</td>\n",
       "    </tr>\n",
       "    <tr>\n",
       "      <th>max</th>\n",
       "      <td>NaN</td>\n",
       "      <td>NaN</td>\n",
       "      <td>16.000000</td>\n",
       "      <td>20.000000</td>\n",
       "      <td>47.000000</td>\n",
       "      <td>91.000000</td>\n",
       "      <td>1125.000000</td>\n",
       "    </tr>\n",
       "  </tbody>\n",
       "</table>\n",
       "</div>"
      ],
      "text/plain": [
       "             property_type        room_type  accommodates  bathrooms_text  \\\n",
       "count                24694            24694  24694.000000    24694.000000   \n",
       "unique                  83                4           NaN             NaN   \n",
       "top     Entire rental unit  Entire home/apt           NaN             NaN   \n",
       "freq                 13866            18781           NaN             NaN   \n",
       "mean                   NaN              NaN      4.167328        1.643314   \n",
       "std                    NaN              NaN      2.442226        1.025992   \n",
       "min                    NaN              NaN      1.000000        0.000000   \n",
       "25%                    NaN              NaN      2.000000        1.000000   \n",
       "50%                    NaN              NaN      4.000000        1.000000   \n",
       "75%                    NaN              NaN      5.000000        2.000000   \n",
       "max                    NaN              NaN     16.000000       20.000000   \n",
       "\n",
       "            bedrooms          beds  minimum_nights  \n",
       "count   24694.000000  24694.000000    24694.000000  \n",
       "unique           NaN           NaN             NaN  \n",
       "top              NaN           NaN             NaN  \n",
       "freq             NaN           NaN             NaN  \n",
       "mean        1.682473      2.627561        4.965498  \n",
       "std         1.069475      2.253717       25.125126  \n",
       "min         1.000000      1.000000        1.000000  \n",
       "25%         1.000000      1.000000        1.000000  \n",
       "50%         1.000000      2.000000        2.000000  \n",
       "75%         2.000000      3.000000        4.000000  \n",
       "max        47.000000     91.000000     1125.000000  "
      ]
     },
     "execution_count": 177,
     "metadata": {},
     "output_type": "execute_result"
    }
   ],
   "source": [
    "df_subset[listing_vars].describe(include = [np.number, object])"
   ]
  },
  {
   "cell_type": "markdown",
   "metadata": {},
   "source": [
    "- Looks like it might be interesting to somehow reduce the property_type categories\n",
    "- Some variables seem to have really weird extreme values, for instance a listing with 91 beds or 47 bathrooms\n",
    "- We could treat the ```acommodates, bathrooms, bedrooms, beds and minimum nights``` as continuous columns. But it looks like there is some concentration that might favour treating them as categories\n",
    "\n",
    "Let's try to find natural thresholds to group these variables by if we treat them as categorical"
   ]
  },
  {
   "cell_type": "code",
   "execution_count": 178,
   "metadata": {},
   "outputs": [
    {
     "data": {
      "image/png": "[encoded data removed]",
      "text/plain": [
       "<Figure size 1080x720 with 1 Axes>"
      ]
     },
     "metadata": {},
     "output_type": "display_data"
    },
    {
     "data": {
      "image/png": "[encoded data removed]",
      "text/plain": [
       "<Figure size 1080x720 with 1 Axes>"
      ]
     },
     "metadata": {},
     "output_type": "display_data"
    },
    {
     "data": {
      "image/png": "[encoded data removed]",
      "text/plain": [
       "<Figure size 1080x720 with 1 Axes>"
      ]
     },
     "metadata": {},
     "output_type": "display_data"
    },
    {
     "data": {
      "image/png": "[encoded data removed]",
      "text/plain": [
       "<Figure size 1080x720 with 1 Axes>"
      ]
     },
     "metadata": {},
     "output_type": "display_data"
    },
    {
     "data": {
      "image/png": "[encoded data removed]",
      "text/plain": [
       "<Figure size 1080x720 with 1 Axes>"
      ]
     },
     "metadata": {},
     "output_type": "display_data"
    },
    {
     "data": {
      "image/png": "[encoded data removed]",
      "text/plain": [
       "<Figure size 1080x720 with 1 Axes>"
      ]
     },
     "metadata": {},
     "output_type": "display_data"
    }
   ],
   "source": [
    "# Distribution by category\n",
    "# Disconsidering property_type because of the amount of categories. Will be dealt with later\n",
    "for col in listing_vars:\n",
    "\n",
    "    if col == 'property_type':\n",
    "\n",
    "        continue\n",
    "\n",
    "    sns.countplot(data = df_subset, x = col)\n",
    "\n",
    "    plt.title(f'Countplot of variable: {col}')\n",
    "\n",
    "    plt.xticks(rotation = 45)\n",
    "\n",
    "    plt.show()"
   ]
  },
  {
   "cell_type": "markdown",
   "metadata": {},
   "source": [
    "From the graphs, some possible thresholds emerge:\n",
    "\n",
    "- room_type &rarr; we could leave it as is for the time being. 4 categories (3 if we disconsider hotel room) is manageable\n",
    "- acommodates &rarr; it looks like there are generally less listings that acommodate more than 6 people\n",
    "- bathrooms &rarr; the majority of listings have up to 3 bathrooms\n",
    "- bedrooms &rarr; the majority of listings have up to 3 bedrooms\n",
    "- beds &rarr; Most listings have up to 6 beds\n",
    "- minimum_nights &rarr; the vast majority of listings allow for a minimum of 7 nights. From that point on, it seems that date marks (10 days, two-weeks (15 days), one-month) have spikes for listings, but aren't many sparks  \n",
    "\n"
   ]
  },
  {
   "cell_type": "markdown",
   "metadata": {},
   "source": [
    "## Variables Thresholding"
   ]
  },
  {
   "cell_type": "code",
   "execution_count": 179,
   "metadata": {},
   "outputs": [],
   "source": [
    "# Setting thresholds\n",
    "# Threshold for minimum_nights will be considered 7 for simplicity\n",
    "var_threshold = {'accommodates':6,\n",
    "                'bathrooms_text':3,\n",
    "                'bedrooms':3,\n",
    "                'beds':6,\n",
    "                'minimum_nights':7}"
   ]
  },
  {
   "cell_type": "code",
   "execution_count": 180,
   "metadata": {},
   "outputs": [],
   "source": [
    "# Setting thresholds\n",
    "for col,thresh in var_threshold.items():\n",
    "\n",
    "    df_subset[f'agg_{col}'] = np.where(df_subset[col] <= thresh, df_subset[col], f'more_than_{thresh}')"
   ]
  },
  {
   "cell_type": "markdown",
   "metadata": {},
   "source": [
    "## Property Type Aggregation"
   ]
  },
  {
   "cell_type": "code",
   "execution_count": 181,
   "metadata": {},
   "outputs": [
    {
     "data": {
      "text/plain": [
       "Entire rental unit                   0.561513\n",
       "Private room in rental unit          0.123471\n",
       "Entire condo                         0.077671\n",
       "Entire home                          0.044383\n",
       "Private room in home                 0.039119\n",
       "Entire serviced apartment            0.032640\n",
       "Entire loft                          0.023933\n",
       "Private room in condo                0.018304\n",
       "Shared room in rental unit           0.006641\n",
       "Private room in bed and breakfast    0.006155\n",
       "Name: property_type, dtype: float64"
      ]
     },
     "execution_count": 181,
     "metadata": {},
     "output_type": "execute_result"
    }
   ],
   "source": [
    "# Looking into property type - Proportion of each class\n",
    "df_subset['property_type'].value_counts(normalize = True).head(10)"
   ]
  },
  {
   "cell_type": "code",
   "execution_count": 182,
   "metadata": {},
   "outputs": [
    {
     "data": {
      "text/plain": [
       "Entire rental unit                   0.561513\n",
       "Private room in rental unit          0.684984\n",
       "Entire condo                         0.762655\n",
       "Entire home                          0.807038\n",
       "Private room in home                 0.846157\n",
       "Entire serviced apartment            0.878796\n",
       "Entire loft                          0.902729\n",
       "Private room in condo                0.921033\n",
       "Shared room in rental unit           0.927675\n",
       "Private room in bed and breakfast    0.933830\n",
       "Name: property_type, dtype: float64"
      ]
     },
     "execution_count": 182,
     "metadata": {},
     "output_type": "execute_result"
    }
   ],
   "source": [
    "# Looking into property type - Cumulative proportion\n",
    "df_subset['property_type'].value_counts(normalize = True).cumsum().head(10)"
   ]
  },
  {
   "cell_type": "markdown",
   "metadata": {},
   "source": [
    "Only the categories that represent more than 1% of transactions will be kept. This means that we'll keep the categories up to 'Private room in condo'."
   ]
  },
  {
   "cell_type": "code",
   "execution_count": 183,
   "metadata": {},
   "outputs": [],
   "source": [
    "prop_type_to_keep = df_subset['property_type'].value_counts(normalize = True) >= 0.01\n",
    "\n",
    "prop_type_to_keep = prop_type_to_keep[prop_type_to_keep == True].index.to_list()"
   ]
  },
  {
   "cell_type": "code",
   "execution_count": 184,
   "metadata": {},
   "outputs": [],
   "source": [
    "df_subset['agg_property_type'] = np.where(df_subset['property_type'].isin(prop_type_to_keep), df_subset['property_type'], 'other')"
   ]
  },
  {
   "cell_type": "code",
   "execution_count": 185,
   "metadata": {},
   "outputs": [
    {
     "data": {
      "text/plain": [
       "Entire rental unit             0.561513\n",
       "Private room in rental unit    0.123471\n",
       "other                          0.078967\n",
       "Entire condo                   0.077671\n",
       "Entire home                    0.044383\n",
       "Private room in home           0.039119\n",
       "Entire serviced apartment      0.032640\n",
       "Entire loft                    0.023933\n",
       "Private room in condo          0.018304\n",
       "Name: agg_property_type, dtype: float64"
      ]
     },
     "execution_count": 185,
     "metadata": {},
     "output_type": "execute_result"
    }
   ],
   "source": [
    "df_subset['agg_property_type'].value_counts(dropna = False, normalize = True)"
   ]
  },
  {
   "cell_type": "markdown",
   "metadata": {},
   "source": [
    "## Clustering"
   ]
  },
  {
   "cell_type": "code",
   "execution_count": 186,
   "metadata": {},
   "outputs": [],
   "source": [
    "cluster_cols = ['room_type'] + [col for col in df_subset.columns if col.startswith('agg')]"
   ]
  },
  {
   "cell_type": "code",
   "execution_count": 187,
   "metadata": {},
   "outputs": [
    {
     "data": {
      "text/plain": [
       "['room_type',\n",
       " 'agg_accommodates',\n",
       " 'agg_bathrooms_text',\n",
       " 'agg_bedrooms',\n",
       " 'agg_beds',\n",
       " 'agg_minimum_nights',\n",
       " 'agg_property_type']"
      ]
     },
     "execution_count": 187,
     "metadata": {},
     "output_type": "execute_result"
    }
   ],
   "source": [
    "cluster_cols"
   ]
  },
  {
   "cell_type": "code",
   "execution_count": 188,
   "metadata": {},
   "outputs": [],
   "source": [
    "# n_clusters = [2,3,4,5,6,7,8,9,10]"
   ]
  },
  {
   "cell_type": "code",
   "execution_count": 189,
   "metadata": {},
   "outputs": [],
   "source": [
    "# Training the model\n",
    "for i, n in enumerate(n_clusters):\n",
    "\n",
    "    km = KModes(n_clusters=n, init='Cao', n_jobs = -1, random_state = 123)\n",
    "\n",
    "    km.fit(df_subset[cluster_cols].values)\n",
    "\n",
    "    if i == 0:\n",
    "\n",
    "        cost_list = [km.cost_]\n",
    "\n",
    "    else:\n",
    "\n",
    "        cost_list.append(km.cost_)"
   ]
  },
  {
   "cell_type": "code",
   "execution_count": 190,
   "metadata": {},
   "outputs": [],
   "source": [
    "# Elbow plot\n",
    "sns.lineplot(x = n_clusters, y = cost_list)\n",
    "\n",
    "plt.title('Elbow plot for KModes cost')\n",
    "\n",
    "plt.xlabel('Number of Clusters')\n",
    "\n",
    "plt.ylabel('Cost value')\n",
    "\n",
    "plt.show()"
   ]
  },
  {
   "cell_type": "markdown",
   "metadata": {},
   "source": [
    "Using the elbow method, n = 8 looks like a good number for clusters"
   ]
  },
  {
   "cell_type": "code",
   "execution_count": 195,
   "metadata": {},
   "outputs": [],
   "source": [
    "km = KModes(n_clusters= 8, init='Cao', n_jobs = -1, random_state = 123)\n",
    "\n",
    "km.fit(df_subset[listing_vars].values)\n",
    "\n",
    "df_subset['cluster'] = km.labels_"
   ]
  },
  {
   "cell_type": "code",
   "execution_count": 198,
   "metadata": {},
   "outputs": [
    {
     "data": {
      "text/html": [
       "<div>\n",
       "<style scoped>\n",
       "    .dataframe tbody tr th:only-of-type {\n",
       "        vertical-align: middle;\n",
       "    }\n",
       "\n",
       "    .dataframe tbody tr th {\n",
       "        vertical-align: top;\n",
       "    }\n",
       "\n",
       "    .dataframe thead th {\n",
       "        text-align: right;\n",
       "    }\n",
       "</style>\n",
       "<table border=\"1\" class=\"dataframe\">\n",
       "  <thead>\n",
       "    <tr style=\"text-align: right;\">\n",
       "      <th></th>\n",
       "      <th>property_type</th>\n",
       "      <th>room_type</th>\n",
       "      <th>accommodates</th>\n",
       "      <th>bathrooms_text</th>\n",
       "      <th>bedrooms</th>\n",
       "      <th>beds</th>\n",
       "      <th>minimum_nights</th>\n",
       "    </tr>\n",
       "  </thead>\n",
       "  <tbody>\n",
       "    <tr>\n",
       "      <th>0</th>\n",
       "      <td>Entire rental unit</td>\n",
       "      <td>Entire home/apt</td>\n",
       "      <td>4</td>\n",
       "      <td>1.0</td>\n",
       "      <td>1.0</td>\n",
       "      <td>1.0</td>\n",
       "      <td>1</td>\n",
       "    </tr>\n",
       "    <tr>\n",
       "      <th>1</th>\n",
       "      <td>Entire rental unit</td>\n",
       "      <td>Entire home/apt</td>\n",
       "      <td>4</td>\n",
       "      <td>2.0</td>\n",
       "      <td>2.0</td>\n",
       "      <td>2.0</td>\n",
       "      <td>2</td>\n",
       "    </tr>\n",
       "    <tr>\n",
       "      <th>2</th>\n",
       "      <td>Private room in rental unit</td>\n",
       "      <td>Private room</td>\n",
       "      <td>2</td>\n",
       "      <td>1.0</td>\n",
       "      <td>1.0</td>\n",
       "      <td>1.0</td>\n",
       "      <td>1</td>\n",
       "    </tr>\n",
       "    <tr>\n",
       "      <th>3</th>\n",
       "      <td>Entire condo</td>\n",
       "      <td>Entire home/apt</td>\n",
       "      <td>6</td>\n",
       "      <td>1.0</td>\n",
       "      <td>2.0</td>\n",
       "      <td>3.0</td>\n",
       "      <td>3</td>\n",
       "    </tr>\n",
       "    <tr>\n",
       "      <th>4</th>\n",
       "      <td>Entire rental unit</td>\n",
       "      <td>Entire home/apt</td>\n",
       "      <td>6</td>\n",
       "      <td>2.0</td>\n",
       "      <td>3.0</td>\n",
       "      <td>3.0</td>\n",
       "      <td>3</td>\n",
       "    </tr>\n",
       "    <tr>\n",
       "      <th>5</th>\n",
       "      <td>Entire rental unit</td>\n",
       "      <td>Entire home/apt</td>\n",
       "      <td>3</td>\n",
       "      <td>1.0</td>\n",
       "      <td>1.0</td>\n",
       "      <td>2.0</td>\n",
       "      <td>2</td>\n",
       "    </tr>\n",
       "    <tr>\n",
       "      <th>6</th>\n",
       "      <td>Entire rental unit</td>\n",
       "      <td>Entire home/apt</td>\n",
       "      <td>6</td>\n",
       "      <td>3.0</td>\n",
       "      <td>3.0</td>\n",
       "      <td>4.0</td>\n",
       "      <td>2</td>\n",
       "    </tr>\n",
       "    <tr>\n",
       "      <th>7</th>\n",
       "      <td>Entire rental unit</td>\n",
       "      <td>Entire home/apt</td>\n",
       "      <td>2</td>\n",
       "      <td>1.0</td>\n",
       "      <td>1.0</td>\n",
       "      <td>1.0</td>\n",
       "      <td>2</td>\n",
       "    </tr>\n",
       "  </tbody>\n",
       "</table>\n",
       "</div>"
      ],
      "text/plain": [
       "                 property_type        room_type accommodates bathrooms_text  \\\n",
       "0           Entire rental unit  Entire home/apt            4            1.0   \n",
       "1           Entire rental unit  Entire home/apt            4            2.0   \n",
       "2  Private room in rental unit     Private room            2            1.0   \n",
       "3                 Entire condo  Entire home/apt            6            1.0   \n",
       "4           Entire rental unit  Entire home/apt            6            2.0   \n",
       "5           Entire rental unit  Entire home/apt            3            1.0   \n",
       "6           Entire rental unit  Entire home/apt            6            3.0   \n",
       "7           Entire rental unit  Entire home/apt            2            1.0   \n",
       "\n",
       "  bedrooms beds minimum_nights  \n",
       "0      1.0  1.0              1  \n",
       "1      2.0  2.0              2  \n",
       "2      1.0  1.0              1  \n",
       "3      2.0  3.0              3  \n",
       "4      3.0  3.0              3  \n",
       "5      1.0  2.0              2  \n",
       "6      3.0  4.0              2  \n",
       "7      1.0  1.0              2  "
      ]
     },
     "execution_count": 198,
     "metadata": {},
     "output_type": "execute_result"
    }
   ],
   "source": [
    "pd.DataFrame(km.cluster_centroids_, columns = listing_vars)"
   ]
  },
  {
   "cell_type": "markdown",
   "metadata": {},
   "source": [
    "The clusters seem to work nicely.  \n",
    "It is possible to see that the majority of clusters are centered around entire rental units an homes and apartments. This is expected since they are classes that dominate the dataset.  \n",
    "But, looking into the acomodation capacity and the other variables, we can spot the differences between clusters"
   ]
  },
  {
   "cell_type": "markdown",
   "metadata": {},
   "source": [
    "This result confirms our hypothesis that we can use features to group similar listings."
   ]
  },
  {
   "cell_type": "markdown",
   "metadata": {},
   "source": [
    "## Price per cluster"
   ]
  },
  {
   "cell_type": "code",
   "execution_count": 199,
   "metadata": {},
   "outputs": [
    {
     "data": {
      "image/png": "[encoded data removed]",
      "text/plain": [
       "<Figure size 1080x720 with 1 Axes>"
      ]
     },
     "metadata": {},
     "output_type": "display_data"
    }
   ],
   "source": [
    "avg_price_per_cluster = df_subset.groupby('cluster')['price'].mean()\n",
    "\n",
    "sns.barplot(x = avg_price_per_cluster.index, y = avg_price_per_cluster, color = 'tab:blue')\n",
    "\n",
    "plt.title('Average price per cluster')\n",
    "\n",
    "plt.show()"
   ]
  },
  {
   "cell_type": "markdown",
   "metadata": {},
   "source": [
    "The prices seem adherent to the clusters' descriptions.\\\n",
    "Clusters with smaller listings that accomodate less people charge on average less then clusters that accomodate more users and have a higher number of features (beds, baths, ...)  \n",
    "This information further validates the approach"
   ]
  },
  {
   "cell_type": "markdown",
   "metadata": {},
   "source": [
    "# Is market concentration related to price?\n",
    "\n",
    "Does owning multiple have a relationship to how prices behave somehow? \n",
    "\n",
    "If this affects prices, this could affect our findings on the previous questions\n",
    "\n",
    "We can look at it in a couple of ways from the data we have at hand:\n",
    "- By clusters\n",
    "- We can look by zones and neighbourhoods\n",
    "- We correlate that directly on the data looking to the host_listings and price columns\n"
   ]
  },
  {
   "cell_type": "code",
   "execution_count": 200,
   "metadata": {},
   "outputs": [],
   "source": [
    "def get_host_aggregates(data = df_subset, group_col = None):\n",
    "\n",
    "    # Aggregating data\n",
    "    aggregate = data.groupby(group_col)\\\n",
    "                        .agg({'host_id':'nunique','id':'count','price':['mean','std','median']})\n",
    "\n",
    "    # Removing multiindex\n",
    "    aggregate.columns = [f'{x}_{y}' for x, y in aggregate.columns]\n",
    "\n",
    "    # Fetching the zones for plot\n",
    "    aggregate.reset_index(drop = False, inplace = True)\n",
    "\n",
    "    # Getting avg listings by host - Market Concentration metric\n",
    "    aggregate['listings_by_host'] = aggregate['id_count'] / aggregate['host_id_nunique']\n",
    "\n",
    "    return aggregate\n",
    "\n",
    "def plot_agg_comparison(data, var):\n",
    "\n",
    "    fig, (ax1, ax2, ax3) = plt.subplots(3,1,figsize = (20,15),sharex = True)\n",
    "\n",
    "    sns.pointplot(data = data, x = var, y = 'price_mean', ax = ax1, color='tab:blue')\n",
    "\n",
    "    ax1.set_ylabel('Price Mean')\n",
    "\n",
    "    ax1.set_xlabel('')\n",
    "\n",
    "    ax1.set_title(f'Aggregate indicators by {var}', fontdict = {'fontsize':15})\n",
    "\n",
    "    sns.pointplot(data = data, x = var, y = 'price_median', ax = ax2, color = 'tab:orange')\n",
    "\n",
    "    ax2.set_ylabel('Price Median')\n",
    "\n",
    "    ax2.set_xlabel('')\n",
    "\n",
    "    sns.pointplot(data = data, x = var, y = 'listings_by_host', ax = ax3, color = 'tab:green')\n",
    "\n",
    "    ax3.set_ylabel('Average Listings by Host')\n",
    "\n",
    "    ax3.set_xlabel(var, fontdict={'fontsize':13})\n",
    "\n",
    "    plt.show()"
   ]
  },
  {
   "cell_type": "markdown",
   "metadata": {},
   "source": [
    "## Clusters\n",
    "Do hosts that put up similar listings charge more?\\\n",
    "If concentration has anything to do with the price difference from the clusters, we should see at least a correlation between market concentration and prices, especially for similar clusters."
   ]
  },
  {
   "cell_type": "code",
   "execution_count": 201,
   "metadata": {},
   "outputs": [],
   "source": [
    "aggs_by_cluster = get_host_aggregates(group_col = 'cluster')"
   ]
  },
  {
   "cell_type": "code",
   "execution_count": 202,
   "metadata": {},
   "outputs": [
    {
     "data": {
      "text/html": [
       "<div>\n",
       "<style scoped>\n",
       "    .dataframe tbody tr th:only-of-type {\n",
       "        vertical-align: middle;\n",
       "    }\n",
       "\n",
       "    .dataframe tbody tr th {\n",
       "        vertical-align: top;\n",
       "    }\n",
       "\n",
       "    .dataframe thead th {\n",
       "        text-align: right;\n",
       "    }\n",
       "</style>\n",
       "<table border=\"1\" class=\"dataframe\">\n",
       "  <thead>\n",
       "    <tr style=\"text-align: right;\">\n",
       "      <th></th>\n",
       "      <th>cluster</th>\n",
       "      <th>host_id_nunique</th>\n",
       "      <th>id_count</th>\n",
       "      <th>price_mean</th>\n",
       "      <th>price_std</th>\n",
       "      <th>price_median</th>\n",
       "      <th>listings_by_host</th>\n",
       "    </tr>\n",
       "  </thead>\n",
       "  <tbody>\n",
       "    <tr>\n",
       "      <th>0</th>\n",
       "      <td>0</td>\n",
       "      <td>3940</td>\n",
       "      <td>5671</td>\n",
       "      <td>637.171222</td>\n",
       "      <td>1190.655984</td>\n",
       "      <td>288.0</td>\n",
       "      <td>1.439340</td>\n",
       "    </tr>\n",
       "    <tr>\n",
       "      <th>1</th>\n",
       "      <td>1</td>\n",
       "      <td>4098</td>\n",
       "      <td>5112</td>\n",
       "      <td>732.012128</td>\n",
       "      <td>851.692538</td>\n",
       "      <td>490.0</td>\n",
       "      <td>1.247438</td>\n",
       "    </tr>\n",
       "    <tr>\n",
       "      <th>2</th>\n",
       "      <td>2</td>\n",
       "      <td>3411</td>\n",
       "      <td>4928</td>\n",
       "      <td>318.253044</td>\n",
       "      <td>600.651051</td>\n",
       "      <td>184.0</td>\n",
       "      <td>1.444738</td>\n",
       "    </tr>\n",
       "    <tr>\n",
       "      <th>3</th>\n",
       "      <td>3</td>\n",
       "      <td>1059</td>\n",
       "      <td>1240</td>\n",
       "      <td>813.757258</td>\n",
       "      <td>1142.661808</td>\n",
       "      <td>420.0</td>\n",
       "      <td>1.170916</td>\n",
       "    </tr>\n",
       "    <tr>\n",
       "      <th>4</th>\n",
       "      <td>4</td>\n",
       "      <td>1670</td>\n",
       "      <td>2193</td>\n",
       "      <td>1068.904697</td>\n",
       "      <td>1147.719429</td>\n",
       "      <td>700.0</td>\n",
       "      <td>1.313174</td>\n",
       "    </tr>\n",
       "    <tr>\n",
       "      <th>5</th>\n",
       "      <td>5</td>\n",
       "      <td>2045</td>\n",
       "      <td>2492</td>\n",
       "      <td>318.126003</td>\n",
       "      <td>452.594265</td>\n",
       "      <td>235.0</td>\n",
       "      <td>1.218582</td>\n",
       "    </tr>\n",
       "    <tr>\n",
       "      <th>6</th>\n",
       "      <td>6</td>\n",
       "      <td>972</td>\n",
       "      <td>1126</td>\n",
       "      <td>1190.103020</td>\n",
       "      <td>1230.094750</td>\n",
       "      <td>774.0</td>\n",
       "      <td>1.158436</td>\n",
       "    </tr>\n",
       "    <tr>\n",
       "      <th>7</th>\n",
       "      <td>7</td>\n",
       "      <td>1555</td>\n",
       "      <td>1932</td>\n",
       "      <td>327.026915</td>\n",
       "      <td>410.218069</td>\n",
       "      <td>230.0</td>\n",
       "      <td>1.242444</td>\n",
       "    </tr>\n",
       "  </tbody>\n",
       "</table>\n",
       "</div>"
      ],
      "text/plain": [
       "   cluster  host_id_nunique  id_count   price_mean    price_std  price_median  \\\n",
       "0        0             3940      5671   637.171222  1190.655984         288.0   \n",
       "1        1             4098      5112   732.012128   851.692538         490.0   \n",
       "2        2             3411      4928   318.253044   600.651051         184.0   \n",
       "3        3             1059      1240   813.757258  1142.661808         420.0   \n",
       "4        4             1670      2193  1068.904697  1147.719429         700.0   \n",
       "5        5             2045      2492   318.126003   452.594265         235.0   \n",
       "6        6              972      1126  1190.103020  1230.094750         774.0   \n",
       "7        7             1555      1932   327.026915   410.218069         230.0   \n",
       "\n",
       "   listings_by_host  \n",
       "0          1.439340  \n",
       "1          1.247438  \n",
       "2          1.444738  \n",
       "3          1.170916  \n",
       "4          1.313174  \n",
       "5          1.218582  \n",
       "6          1.158436  \n",
       "7          1.242444  "
      ]
     },
     "execution_count": 202,
     "metadata": {},
     "output_type": "execute_result"
    }
   ],
   "source": [
    "aggs_by_cluster"
   ]
  },
  {
   "cell_type": "code",
   "execution_count": 203,
   "metadata": {},
   "outputs": [
    {
     "data": {
      "image/png": "[encoded data removed]",
      "text/plain": [
       "<Figure size 1440x1080 with 3 Axes>"
      ]
     },
     "metadata": {},
     "output_type": "display_data"
    }
   ],
   "source": [
    "plot_agg_comparison(aggs_by_cluster,'cluster')"
   ]
  },
  {
   "cell_type": "markdown",
   "metadata": {},
   "source": [
    "Clusters 0,2 and 4 and clusters 1,3 are relatively similar. If concentration has some relation to price, we should see differences between each of the clusters, since concentration is so different between them.\\\n",
    "As it looks, however, there is no sort of correlation between market-concentration and the price charged by cluster."
   ]
  },
  {
   "cell_type": "markdown",
   "metadata": {},
   "source": [
    "## Geographical Lens\n",
    "Looking into market concentration geographically"
   ]
  },
  {
   "cell_type": "markdown",
   "metadata": {},
   "source": [
    "### Zones"
   ]
  },
  {
   "cell_type": "code",
   "execution_count": 204,
   "metadata": {},
   "outputs": [],
   "source": [
    "aggs_by_zone = get_host_aggregates(group_col = 'zone')"
   ]
  },
  {
   "cell_type": "code",
   "execution_count": 205,
   "metadata": {},
   "outputs": [
    {
     "data": {
      "text/html": [
       "<div>\n",
       "<style scoped>\n",
       "    .dataframe tbody tr th:only-of-type {\n",
       "        vertical-align: middle;\n",
       "    }\n",
       "\n",
       "    .dataframe tbody tr th {\n",
       "        vertical-align: top;\n",
       "    }\n",
       "\n",
       "    .dataframe thead th {\n",
       "        text-align: right;\n",
       "    }\n",
       "</style>\n",
       "<table border=\"1\" class=\"dataframe\">\n",
       "  <thead>\n",
       "    <tr style=\"text-align: right;\">\n",
       "      <th></th>\n",
       "      <th>zone</th>\n",
       "      <th>host_id_nunique</th>\n",
       "      <th>id_count</th>\n",
       "      <th>price_mean</th>\n",
       "      <th>price_std</th>\n",
       "      <th>price_median</th>\n",
       "      <th>listings_by_host</th>\n",
       "    </tr>\n",
       "  </thead>\n",
       "  <tbody>\n",
       "    <tr>\n",
       "      <th>0</th>\n",
       "      <td>Central</td>\n",
       "      <td>1308</td>\n",
       "      <td>1780</td>\n",
       "      <td>397.322472</td>\n",
       "      <td>922.338267</td>\n",
       "      <td>180.0</td>\n",
       "      <td>1.360856</td>\n",
       "    </tr>\n",
       "    <tr>\n",
       "      <th>1</th>\n",
       "      <td>North</td>\n",
       "      <td>1120</td>\n",
       "      <td>1406</td>\n",
       "      <td>412.487909</td>\n",
       "      <td>716.977477</td>\n",
       "      <td>190.0</td>\n",
       "      <td>1.255357</td>\n",
       "    </tr>\n",
       "    <tr>\n",
       "      <th>2</th>\n",
       "      <td>South</td>\n",
       "      <td>8842</td>\n",
       "      <td>14508</td>\n",
       "      <td>568.492969</td>\n",
       "      <td>847.999607</td>\n",
       "      <td>315.0</td>\n",
       "      <td>1.640805</td>\n",
       "    </tr>\n",
       "    <tr>\n",
       "      <th>3</th>\n",
       "      <td>West</td>\n",
       "      <td>5043</td>\n",
       "      <td>7000</td>\n",
       "      <td>786.673714</td>\n",
       "      <td>1151.367770</td>\n",
       "      <td>400.0</td>\n",
       "      <td>1.388063</td>\n",
       "    </tr>\n",
       "  </tbody>\n",
       "</table>\n",
       "</div>"
      ],
      "text/plain": [
       "      zone  host_id_nunique  id_count  price_mean    price_std  price_median  \\\n",
       "0  Central             1308      1780  397.322472   922.338267         180.0   \n",
       "1    North             1120      1406  412.487909   716.977477         190.0   \n",
       "2    South             8842     14508  568.492969   847.999607         315.0   \n",
       "3     West             5043      7000  786.673714  1151.367770         400.0   \n",
       "\n",
       "   listings_by_host  \n",
       "0          1.360856  \n",
       "1          1.255357  \n",
       "2          1.640805  \n",
       "3          1.388063  "
      ]
     },
     "execution_count": 205,
     "metadata": {},
     "output_type": "execute_result"
    }
   ],
   "source": [
    "aggs_by_zone"
   ]
  },
  {
   "cell_type": "markdown",
   "metadata": {},
   "source": [
    "There are a lot more listings on the south zone of the city.\\\n",
    "This is expected behaviour, since it's the predominant zone for tourist attractions"
   ]
  },
  {
   "cell_type": "code",
   "execution_count": 206,
   "metadata": {},
   "outputs": [
    {
     "data": {
      "image/png": "[encoded data removed]",
      "text/plain": [
       "<Figure size 1440x1080 with 3 Axes>"
      ]
     },
     "metadata": {},
     "output_type": "display_data"
    }
   ],
   "source": [
    "plot_agg_comparison(aggs_by_zone,'zone')"
   ]
  },
  {
   "cell_type": "markdown",
   "metadata": {},
   "source": [
    "Looking at the data through the Zoning lens, it doesn't looks like Zones that have more average listings by host (i.e. more concentrated markets) necessairly will result in higher prices"
   ]
  },
  {
   "cell_type": "markdown",
   "metadata": {},
   "source": [
    "### Neighborhoods"
   ]
  },
  {
   "cell_type": "code",
   "execution_count": 207,
   "metadata": {},
   "outputs": [],
   "source": [
    "aggs_by_neighbourhoods = get_host_aggregates(group_col = ['neighbourhood_cleansed','zone'])"
   ]
  },
  {
   "cell_type": "code",
   "execution_count": 208,
   "metadata": {},
   "outputs": [],
   "source": [
    "# Getting only neighbourhoods with a good sample size\n",
    "aggs_by_neighbourhoods = aggs_by_neighbourhoods[aggs_by_neighbourhoods['id_count'] >= 30]"
   ]
  },
  {
   "cell_type": "code",
   "execution_count": 209,
   "metadata": {},
   "outputs": [
    {
     "data": {
      "image/png": "[encoded data removed]",
      "text/plain": [
       "<Figure size 1440x720 with 2 Axes>"
      ]
     },
     "metadata": {},
     "output_type": "display_data"
    }
   ],
   "source": [
    "fig, (ax1,ax2) = plt.subplots(1,2,figsize = (20,10),sharex = True)\n",
    "\n",
    "sns.scatterplot(data = aggs_by_neighbourhoods, x = 'listings_by_host', y = 'price_mean',hue = 'zone',ax = ax1)\n",
    "\n",
    "ax1.set_title('Price Mean')\n",
    "\n",
    "ax1.set_ylabel('')\n",
    "\n",
    "ax2.set_xlabel('Average Listings by Host')\n",
    "\n",
    "sns.scatterplot(data = aggs_by_neighbourhoods, x = 'listings_by_host', y = 'price_median',hue = 'zone',ax = ax2)\n",
    "\n",
    "ax2.set_title('Price Median')\n",
    "\n",
    "ax2.set_ylabel('')\n",
    "\n",
    "ax2.set_xlabel('Average Listings by Host')\n",
    "\n",
    "plt.suptitle('Scatterplots of Price Aggregates by Average Listings by Host')\n",
    "\n",
    "plt.show()"
   ]
  },
  {
   "cell_type": "markdown",
   "metadata": {},
   "source": [
    "Even breaking down at the neighbourhood level, no evident pattern arises"
   ]
  },
  {
   "cell_type": "markdown",
   "metadata": {},
   "source": [
    "## Directly from Data"
   ]
  },
  {
   "cell_type": "code",
   "execution_count": 210,
   "metadata": {},
   "outputs": [],
   "source": [
    "agg_host = df_subset.groupby('host_id').agg({'host_total_listings_count':'unique', 'price':'mean'})\n",
    "\n",
    "# Getting rid of Arrays\n",
    "agg_host = agg_host.explode('host_total_listings_count')\n",
    "\n",
    "# Type fix\n",
    "agg_host['host_total_listings_count'] = agg_host['host_total_listings_count'].astype(float)\n",
    "\n",
    "# We are only interested in hosts with more than 1 listing\n",
    "agg_host = agg_host[agg_host['host_total_listings_count'] > 1]"
   ]
  },
  {
   "cell_type": "code",
   "execution_count": 211,
   "metadata": {},
   "outputs": [
    {
     "name": "stdout",
     "output_type": "stream",
     "text": [
      "Pearson Correlation\n"
     ]
    },
    {
     "data": {
      "text/html": [
       "<div>\n",
       "<style scoped>\n",
       "    .dataframe tbody tr th:only-of-type {\n",
       "        vertical-align: middle;\n",
       "    }\n",
       "\n",
       "    .dataframe tbody tr th {\n",
       "        vertical-align: top;\n",
       "    }\n",
       "\n",
       "    .dataframe thead th {\n",
       "        text-align: right;\n",
       "    }\n",
       "</style>\n",
       "<table border=\"1\" class=\"dataframe\">\n",
       "  <thead>\n",
       "    <tr style=\"text-align: right;\">\n",
       "      <th></th>\n",
       "      <th>host_total_listings_count</th>\n",
       "      <th>price</th>\n",
       "    </tr>\n",
       "  </thead>\n",
       "  <tbody>\n",
       "    <tr>\n",
       "      <th>host_total_listings_count</th>\n",
       "      <td>1.000000</td>\n",
       "      <td>0.037343</td>\n",
       "    </tr>\n",
       "    <tr>\n",
       "      <th>price</th>\n",
       "      <td>0.037343</td>\n",
       "      <td>1.000000</td>\n",
       "    </tr>\n",
       "  </tbody>\n",
       "</table>\n",
       "</div>"
      ],
      "text/plain": [
       "                           host_total_listings_count     price\n",
       "host_total_listings_count                   1.000000  0.037343\n",
       "price                                       0.037343  1.000000"
      ]
     },
     "metadata": {},
     "output_type": "display_data"
    },
    {
     "name": "stdout",
     "output_type": "stream",
     "text": [
      "Spearman Correlation\n"
     ]
    },
    {
     "data": {
      "text/html": [
       "<div>\n",
       "<style scoped>\n",
       "    .dataframe tbody tr th:only-of-type {\n",
       "        vertical-align: middle;\n",
       "    }\n",
       "\n",
       "    .dataframe tbody tr th {\n",
       "        vertical-align: top;\n",
       "    }\n",
       "\n",
       "    .dataframe thead th {\n",
       "        text-align: right;\n",
       "    }\n",
       "</style>\n",
       "<table border=\"1\" class=\"dataframe\">\n",
       "  <thead>\n",
       "    <tr style=\"text-align: right;\">\n",
       "      <th></th>\n",
       "      <th>host_total_listings_count</th>\n",
       "      <th>price</th>\n",
       "    </tr>\n",
       "  </thead>\n",
       "  <tbody>\n",
       "    <tr>\n",
       "      <th>host_total_listings_count</th>\n",
       "      <td>1.000000</td>\n",
       "      <td>0.001714</td>\n",
       "    </tr>\n",
       "    <tr>\n",
       "      <th>price</th>\n",
       "      <td>0.001714</td>\n",
       "      <td>1.000000</td>\n",
       "    </tr>\n",
       "  </tbody>\n",
       "</table>\n",
       "</div>"
      ],
      "text/plain": [
       "                           host_total_listings_count     price\n",
       "host_total_listings_count                   1.000000  0.001714\n",
       "price                                       0.001714  1.000000"
      ]
     },
     "metadata": {},
     "output_type": "display_data"
    }
   ],
   "source": [
    "print('Pearson Correlation')\n",
    "display(agg_host.corr('pearson'))\n",
    "\n",
    "print('Spearman Correlation')\n",
    "display(agg_host.corr('spearman'))"
   ]
  },
  {
   "cell_type": "code",
   "execution_count": 212,
   "metadata": {},
   "outputs": [
    {
     "data": {
      "image/png": "[encoded data removed]",
      "text/plain": [
       "<Figure size 1080x720 with 1 Axes>"
      ]
     },
     "metadata": {},
     "output_type": "display_data"
    }
   ],
   "source": [
    "sns.scatterplot(data = agg_host, x = 'host_total_listings_count', y = 'price')\n",
    "\n",
    "plt.xlabel('Host Total Listings Count')\n",
    "\n",
    "plt.ylabel(\"Average Price of Host's listings\")\n",
    "\n",
    "plt.title(\"Amount of a Host's listings by Average Price Charged\", fontdict={'fontsize':15})\n",
    "\n",
    "plt.show()"
   ]
  },
  {
   "cell_type": "markdown",
   "metadata": {},
   "source": [
    "Even by trying to correlate the data directly, there seems to be no evidence that links the number of listings from a user to the price charged by that host."
   ]
  },
  {
   "cell_type": "markdown",
   "metadata": {},
   "source": [
    "General conclusion:\n",
    "\n",
    "Prices in Rio's AirBnB listings do not seem to have a correlation with market concentration"
   ]
  },
  {
   "cell_type": "markdown",
   "metadata": {},
   "source": [
    "# What are \"Standard Amenities\" a customer should expect from a listing?"
   ]
  },
  {
   "cell_type": "markdown",
   "metadata": {},
   "source": [
    "Let's create a quick corpus for our data and see if we can keep only some key amenities or come up with other fixes.\\\n",
    "I'm specially interested in the Wifi amenity that contains internet speed. Wifi available or not should be counted regardless of speed. This, of course, excluding specific cases such as well-equipped, remote-work ready AirBnBs"
   ]
  },
  {
   "cell_type": "code",
   "execution_count": 213,
   "metadata": {},
   "outputs": [],
   "source": [
    "amenities_corpus = df_subset['amenities'].explode()"
   ]
  },
  {
   "cell_type": "code",
   "execution_count": 214,
   "metadata": {},
   "outputs": [
    {
     "name": "stdout",
     "output_type": "stream",
     "text": [
      "Unique Amenities:  3132\n"
     ]
    }
   ],
   "source": [
    "print('Unique Amenities: ',amenities_corpus.nunique())"
   ]
  },
  {
   "cell_type": "code",
   "execution_count": 215,
   "metadata": {},
   "outputs": [
    {
     "data": {
      "text/plain": [
       "395"
      ]
     },
     "execution_count": 215,
     "metadata": {},
     "output_type": "execute_result"
    }
   ],
   "source": [
    "# Looking specifically into wifi\n",
    "len(amenities_corpus[amenities_corpus.str.contains('wifi', case = False)].unique())"
   ]
  },
  {
   "cell_type": "code",
   "execution_count": 216,
   "metadata": {},
   "outputs": [
    {
     "data": {
      "text/plain": [
       "array(['Wifi', 'Wifi 30 Mbps', 'Pocket wifi', 'Wifi 28 Mbps',\n",
       "       'Fast wifi 663 Mbps', 'Fast wifi 55 Mbps', 'Fast wifi 157 Mbps',\n",
       "       'Fast wifi 66 Mbps', 'Fast wifi 542 Mbps', 'Fast wifi 413 Mbps'],\n",
       "      dtype=object)"
      ]
     },
     "execution_count": 216,
     "metadata": {},
     "output_type": "execute_result"
    }
   ],
   "source": [
    "# Samples\n",
    "amenities_corpus[amenities_corpus.str.contains('wifi', case = False)].unique()[0:10]"
   ]
  },
  {
   "cell_type": "markdown",
   "metadata": {},
   "source": [
    "There are a lot of possible entries for wifi, we'll replace them all for simplicity.\\\n",
    "Will do it in two categories: Fast and Regular Wifi"
   ]
  },
  {
   "cell_type": "code",
   "execution_count": 217,
   "metadata": {},
   "outputs": [],
   "source": [
    "reg_wifi_pat = r'(?<!Fast\\s)wifi'\n",
    "\n",
    "fast_wifi_pat = r'(?<=Fast\\s)wifi'"
   ]
  },
  {
   "cell_type": "code",
   "execution_count": 218,
   "metadata": {},
   "outputs": [],
   "source": [
    "reg_wifi_repl_str = '|'.join(amenities_corpus[amenities_corpus.str.contains(reg_wifi_pat, case = False)].unique())\n",
    "\n",
    "fast_wifi_repl_str = '|'.join(amenities_corpus[amenities_corpus.str.contains(fast_wifi_pat, case = False)].unique())"
   ]
  },
  {
   "cell_type": "code",
   "execution_count": 219,
   "metadata": {},
   "outputs": [],
   "source": [
    "amenities_corpus = amenities_corpus.str.replace(reg_wifi_repl_str,'Wifi', regex = True)\\\n",
    "                                    .str.replace(fast_wifi_repl_str,'Fast Wifi', regex = True)"
   ]
  },
  {
   "cell_type": "code",
   "execution_count": 220,
   "metadata": {},
   "outputs": [
    {
     "name": "stdout",
     "output_type": "stream",
     "text": [
      "Unique Amenities:  2788\n"
     ]
    }
   ],
   "source": [
    "print('Unique Amenities: ',amenities_corpus.nunique())"
   ]
  },
  {
   "cell_type": "markdown",
   "metadata": {},
   "source": [
    "### Obtaining the most usual amenities\n",
    "\n",
    "The most frequent amenities are those that are present in a big part of the listings. The total count of an amenity means the amount of appearances of that amenity on listings"
   ]
  },
  {
   "cell_type": "code",
   "execution_count": 221,
   "metadata": {},
   "outputs": [],
   "source": [
    "amenities_pareto = amenities_corpus.value_counts().to_frame()"
   ]
  },
  {
   "cell_type": "code",
   "execution_count": 222,
   "metadata": {},
   "outputs": [],
   "source": [
    "amenities_pareto.rename(columns = {'amenities':'listings_count'}, inplace = True)"
   ]
  },
  {
   "cell_type": "code",
   "execution_count": 223,
   "metadata": {},
   "outputs": [],
   "source": [
    "# Getting proportion of amenities in listings\n",
    "amenities_pareto['listings_proportion'] = amenities_pareto['listings_count'] / df_subset.shape[0]"
   ]
  },
  {
   "cell_type": "code",
   "execution_count": 224,
   "metadata": {},
   "outputs": [
    {
     "data": {
      "image/png": "[encoded data removed]",
      "text/plain": [
       "<Figure size 1080x720 with 1 Axes>"
      ]
     },
     "metadata": {},
     "output_type": "display_data"
    }
   ],
   "source": [
    "sns.histplot(data = amenities_pareto, x = 'listings_proportion', bins = 100)\n",
    "\n",
    "plt.title('Count of Amenities by proportion of listings they appear in')\n",
    "\n",
    "plt.xlabel('Proportion of Listings')\n",
    "\n",
    "plt.show()"
   ]
  },
  {
   "cell_type": "code",
   "execution_count": 225,
   "metadata": {},
   "outputs": [
    {
     "name": "stdout",
     "output_type": "stream",
     "text": [
      "Amount of amenities that occur in at least 0.00% of all listings: 2788\n",
      "Amount of amenities that occur in at least 10.00% of all listings: 56\n",
      "Amount of amenities that occur in at least 20.00% of all listings: 34\n",
      "Amount of amenities that occur in at least 30.00% of all listings: 23\n",
      "Amount of amenities that occur in at least 40.00% of all listings: 18\n",
      "Amount of amenities that occur in at least 50.00% of all listings: 13\n",
      "Amount of amenities that occur in at least 60.00% of all listings: 9\n",
      "Amount of amenities that occur in at least 70.00% of all listings: 4\n",
      "Amount of amenities that occur in at least 80.00% of all listings: 3\n",
      "Amount of amenities that occur in at least 90.00% of all listings: 2\n",
      "Amount of amenities that occur in at least 100.00% of all listings: 0\n"
     ]
    }
   ],
   "source": [
    "for proportion in np.arange(0,1.1,.1):\n",
    "\n",
    "    print(f'Amount of amenities that occur in at least {proportion:.2%} of all listings:',amenities_pareto[amenities_pareto['listings_proportion'] >= proportion].shape[0])\n",
    "    "
   ]
  },
  {
   "cell_type": "markdown",
   "metadata": {},
   "source": [
    "1. There might be a lot of unique values because of an open format of the field. \n",
    "2. Of all the possible amenities, only 13 appear on more than half of the listings. If we make a cut as small as 10% we can already indetify a relevant subset of amenities"
   ]
  },
  {
   "cell_type": "code",
   "execution_count": 226,
   "metadata": {},
   "outputs": [
    {
     "data": {
      "text/html": [
       "<div>\n",
       "<style scoped>\n",
       "    .dataframe tbody tr th:only-of-type {\n",
       "        vertical-align: middle;\n",
       "    }\n",
       "\n",
       "    .dataframe tbody tr th {\n",
       "        vertical-align: top;\n",
       "    }\n",
       "\n",
       "    .dataframe thead th {\n",
       "        text-align: right;\n",
       "    }\n",
       "</style>\n",
       "<table border=\"1\" class=\"dataframe\">\n",
       "  <thead>\n",
       "    <tr style=\"text-align: right;\">\n",
       "      <th></th>\n",
       "      <th>listings_count</th>\n",
       "      <th>listings_proportion</th>\n",
       "    </tr>\n",
       "  </thead>\n",
       "  <tbody>\n",
       "    <tr>\n",
       "      <th>Wifi</th>\n",
       "      <td>22384</td>\n",
       "      <td>0.906455</td>\n",
       "    </tr>\n",
       "    <tr>\n",
       "      <th>Kitchen</th>\n",
       "      <td>22290</td>\n",
       "      <td>0.902648</td>\n",
       "    </tr>\n",
       "    <tr>\n",
       "      <th>Long term stays allowed</th>\n",
       "      <td>21684</td>\n",
       "      <td>0.878108</td>\n",
       "    </tr>\n",
       "    <tr>\n",
       "      <th>Essentials</th>\n",
       "      <td>18851</td>\n",
       "      <td>0.763384</td>\n",
       "    </tr>\n",
       "    <tr>\n",
       "      <th>Hangers</th>\n",
       "      <td>15969</td>\n",
       "      <td>0.646675</td>\n",
       "    </tr>\n",
       "    <tr>\n",
       "      <th>Iron</th>\n",
       "      <td>15460</td>\n",
       "      <td>0.626063</td>\n",
       "    </tr>\n",
       "    <tr>\n",
       "      <th>Hot water</th>\n",
       "      <td>15235</td>\n",
       "      <td>0.616951</td>\n",
       "    </tr>\n",
       "    <tr>\n",
       "      <th>Dishes and silverware</th>\n",
       "      <td>15095</td>\n",
       "      <td>0.611282</td>\n",
       "    </tr>\n",
       "    <tr>\n",
       "      <th>Air conditioning</th>\n",
       "      <td>15071</td>\n",
       "      <td>0.610310</td>\n",
       "    </tr>\n",
       "    <tr>\n",
       "      <th>Elevator</th>\n",
       "      <td>14006</td>\n",
       "      <td>0.567182</td>\n",
       "    </tr>\n",
       "  </tbody>\n",
       "</table>\n",
       "</div>"
      ],
      "text/plain": [
       "                         listings_count  listings_proportion\n",
       "Wifi                              22384             0.906455\n",
       "Kitchen                           22290             0.902648\n",
       "Long term stays allowed           21684             0.878108\n",
       "Essentials                        18851             0.763384\n",
       "Hangers                           15969             0.646675\n",
       "Iron                              15460             0.626063\n",
       "Hot water                         15235             0.616951\n",
       "Dishes and silverware             15095             0.611282\n",
       "Air conditioning                  15071             0.610310\n",
       "Elevator                          14006             0.567182"
      ]
     },
     "metadata": {},
     "output_type": "display_data"
    },
    {
     "data": {
      "text/html": [
       "<div>\n",
       "<style scoped>\n",
       "    .dataframe tbody tr th:only-of-type {\n",
       "        vertical-align: middle;\n",
       "    }\n",
       "\n",
       "    .dataframe tbody tr th {\n",
       "        vertical-align: top;\n",
       "    }\n",
       "\n",
       "    .dataframe thead th {\n",
       "        text-align: right;\n",
       "    }\n",
       "</style>\n",
       "<table border=\"1\" class=\"dataframe\">\n",
       "  <thead>\n",
       "    <tr style=\"text-align: right;\">\n",
       "      <th></th>\n",
       "      <th>listings_count</th>\n",
       "      <th>listings_proportion</th>\n",
       "    </tr>\n",
       "  </thead>\n",
       "  <tbody>\n",
       "    <tr>\n",
       "      <th>Beachfront</th>\n",
       "      <td>2692</td>\n",
       "      <td>0.109014</td>\n",
       "    </tr>\n",
       "    <tr>\n",
       "      <th>Private patio or balcony</th>\n",
       "      <td>2705</td>\n",
       "      <td>0.109541</td>\n",
       "    </tr>\n",
       "    <tr>\n",
       "      <th>Gym</th>\n",
       "      <td>2817</td>\n",
       "      <td>0.114076</td>\n",
       "    </tr>\n",
       "    <tr>\n",
       "      <th>Dryer</th>\n",
       "      <td>2825</td>\n",
       "      <td>0.114400</td>\n",
       "    </tr>\n",
       "    <tr>\n",
       "      <th>Window AC unit</th>\n",
       "      <td>2867</td>\n",
       "      <td>0.116101</td>\n",
       "    </tr>\n",
       "    <tr>\n",
       "      <th>Portable fans</th>\n",
       "      <td>2919</td>\n",
       "      <td>0.118207</td>\n",
       "    </tr>\n",
       "    <tr>\n",
       "      <th>Free washer In unit</th>\n",
       "      <td>3022</td>\n",
       "      <td>0.122378</td>\n",
       "    </tr>\n",
       "    <tr>\n",
       "      <th>Security cameras on property</th>\n",
       "      <td>3057</td>\n",
       "      <td>0.123795</td>\n",
       "    </tr>\n",
       "    <tr>\n",
       "      <th>Toaster</th>\n",
       "      <td>3067</td>\n",
       "      <td>0.124200</td>\n",
       "    </tr>\n",
       "    <tr>\n",
       "      <th>BBQ grill</th>\n",
       "      <td>3168</td>\n",
       "      <td>0.128290</td>\n",
       "    </tr>\n",
       "  </tbody>\n",
       "</table>\n",
       "</div>"
      ],
      "text/plain": [
       "                              listings_count  listings_proportion\n",
       "Beachfront                              2692             0.109014\n",
       "Private patio or balcony                2705             0.109541\n",
       "Gym                                     2817             0.114076\n",
       "Dryer                                   2825             0.114400\n",
       "Window AC unit                          2867             0.116101\n",
       "Portable fans                           2919             0.118207\n",
       "Free washer In unit                     3022             0.122378\n",
       "Security cameras on property            3057             0.123795\n",
       "Toaster                                 3067             0.124200\n",
       "BBQ grill                               3168             0.128290"
      ]
     },
     "metadata": {},
     "output_type": "display_data"
    }
   ],
   "source": [
    "display(amenities_pareto[amenities_pareto['listings_proportion'] >= 0.1]\\\n",
    "                            .nlargest(10, columns='listings_count'))\n",
    "\n",
    "display(amenities_pareto[amenities_pareto['listings_proportion'] >= 0.1]\\\n",
    "                    .nsmallest(10, columns='listings_count'))"
   ]
  }
 ],
 "metadata": {
  "kernelspec": {
   "display_name": "Python 3.9.7 ('base')",
   "language": "python",
   "name": "python3"
  },
  "language_info": {
   "codemirror_mode": {
    "name": "ipython",
    "version": 3
   },
   "file_extension": ".py",
   "mimetype": "text/x-python",
   "name": "python",
   "nbconvert_exporter": "python",
   "pygments_lexer": "ipython3",
   "version": "3.9.7"
  },
  "orig_nbformat": 4,
  "vscode": {
   "interpreter": {
    "hash": "7b78f899e070e48e38aa75d1493fbada7414d17ff77eb157a11c0b7b411187e8"
   }
  }
 },
 "nbformat": 4,
 "nbformat_minor": 2
}
