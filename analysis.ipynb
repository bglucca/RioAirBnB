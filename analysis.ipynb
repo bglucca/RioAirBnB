{
 "cells": [
  {
   "cell_type": "markdown",
   "metadata": {},
   "source": [
    "- Do \"better\" hosts charge more?\n",
    "- Do \"better\" hosts get more positive reviews\n",
    "- How concentrated is the actual host market?"
   ]
  },
  {
   "cell_type": "code",
   "execution_count": 2,
   "metadata": {},
   "outputs": [],
   "source": [
    "import pandas as pd\n",
    "import numpy as np\n",
    "\n",
    "import re\n",
    "\n",
    "import os\n",
    "\n",
    "import matplotlib.pyplot as plt\n",
    "import seaborn as sns"
   ]
  },
  {
   "cell_type": "code",
   "execution_count": 3,
   "metadata": {},
   "outputs": [],
   "source": [
    "df = pd.read_csv('data/listings.csv.gz', compression='gzip')"
   ]
  },
  {
   "cell_type": "code",
   "execution_count": 4,
   "metadata": {},
   "outputs": [
    {
     "data": {
      "text/html": [
       "<div>\n",
       "<style scoped>\n",
       "    .dataframe tbody tr th:only-of-type {\n",
       "        vertical-align: middle;\n",
       "    }\n",
       "\n",
       "    .dataframe tbody tr th {\n",
       "        vertical-align: top;\n",
       "    }\n",
       "\n",
       "    .dataframe thead th {\n",
       "        text-align: right;\n",
       "    }\n",
       "</style>\n",
       "<table border=\"1\" class=\"dataframe\">\n",
       "  <thead>\n",
       "    <tr style=\"text-align: right;\">\n",
       "      <th></th>\n",
       "      <th>id</th>\n",
       "      <th>listing_url</th>\n",
       "      <th>scrape_id</th>\n",
       "      <th>last_scraped</th>\n",
       "      <th>source</th>\n",
       "      <th>name</th>\n",
       "      <th>description</th>\n",
       "      <th>neighborhood_overview</th>\n",
       "      <th>picture_url</th>\n",
       "      <th>host_id</th>\n",
       "      <th>host_url</th>\n",
       "      <th>host_name</th>\n",
       "      <th>host_since</th>\n",
       "      <th>host_location</th>\n",
       "      <th>host_about</th>\n",
       "      <th>host_response_time</th>\n",
       "      <th>host_response_rate</th>\n",
       "      <th>host_acceptance_rate</th>\n",
       "      <th>host_is_superhost</th>\n",
       "      <th>host_thumbnail_url</th>\n",
       "      <th>host_picture_url</th>\n",
       "      <th>host_neighbourhood</th>\n",
       "      <th>host_listings_count</th>\n",
       "      <th>host_total_listings_count</th>\n",
       "      <th>host_verifications</th>\n",
       "      <th>host_has_profile_pic</th>\n",
       "      <th>host_identity_verified</th>\n",
       "      <th>neighbourhood</th>\n",
       "      <th>neighbourhood_cleansed</th>\n",
       "      <th>neighbourhood_group_cleansed</th>\n",
       "      <th>latitude</th>\n",
       "      <th>longitude</th>\n",
       "      <th>property_type</th>\n",
       "      <th>room_type</th>\n",
       "      <th>accommodates</th>\n",
       "      <th>bathrooms</th>\n",
       "      <th>bathrooms_text</th>\n",
       "      <th>bedrooms</th>\n",
       "      <th>beds</th>\n",
       "      <th>amenities</th>\n",
       "      <th>price</th>\n",
       "      <th>minimum_nights</th>\n",
       "      <th>maximum_nights</th>\n",
       "      <th>minimum_minimum_nights</th>\n",
       "      <th>maximum_minimum_nights</th>\n",
       "      <th>minimum_maximum_nights</th>\n",
       "      <th>maximum_maximum_nights</th>\n",
       "      <th>minimum_nights_avg_ntm</th>\n",
       "      <th>maximum_nights_avg_ntm</th>\n",
       "      <th>calendar_updated</th>\n",
       "      <th>has_availability</th>\n",
       "      <th>availability_30</th>\n",
       "      <th>availability_60</th>\n",
       "      <th>availability_90</th>\n",
       "      <th>availability_365</th>\n",
       "      <th>calendar_last_scraped</th>\n",
       "      <th>number_of_reviews</th>\n",
       "      <th>number_of_reviews_ltm</th>\n",
       "      <th>number_of_reviews_l30d</th>\n",
       "      <th>first_review</th>\n",
       "      <th>last_review</th>\n",
       "      <th>review_scores_rating</th>\n",
       "      <th>review_scores_accuracy</th>\n",
       "      <th>review_scores_cleanliness</th>\n",
       "      <th>review_scores_checkin</th>\n",
       "      <th>review_scores_communication</th>\n",
       "      <th>review_scores_location</th>\n",
       "      <th>review_scores_value</th>\n",
       "      <th>license</th>\n",
       "      <th>instant_bookable</th>\n",
       "      <th>calculated_host_listings_count</th>\n",
       "      <th>calculated_host_listings_count_entire_homes</th>\n",
       "      <th>calculated_host_listings_count_private_rooms</th>\n",
       "      <th>calculated_host_listings_count_shared_rooms</th>\n",
       "      <th>reviews_per_month</th>\n",
       "    </tr>\n",
       "  </thead>\n",
       "  <tbody>\n",
       "    <tr>\n",
       "      <th>0</th>\n",
       "      <td>53344884</td>\n",
       "      <td>https://www.airbnb.com/rooms/53344884</td>\n",
       "      <td>20220921172238</td>\n",
       "      <td>2022-09-22</td>\n",
       "      <td>city scrape</td>\n",
       "      <td>Suntuoso apartamento em Copacabana posto 6</td>\n",
       "      <td>suntuoso apartamento de frente para o mar &lt;br ...</td>\n",
       "      <td>NaN</td>\n",
       "      <td>https://a0.muscache.com/pictures/miso/Hosting-...</td>\n",
       "      <td>431412286</td>\n",
       "      <td>https://www.airbnb.com/users/show/431412286</td>\n",
       "      <td>Carlos Henrique</td>\n",
       "      <td>2021-11-11</td>\n",
       "      <td>NaN</td>\n",
       "      <td>NaN</td>\n",
       "      <td>within an hour</td>\n",
       "      <td>100%</td>\n",
       "      <td>100%</td>\n",
       "      <td>f</td>\n",
       "      <td>https://a0.muscache.com/im/pictures/user/f4bec...</td>\n",
       "      <td>https://a0.muscache.com/im/pictures/user/f4bec...</td>\n",
       "      <td>NaN</td>\n",
       "      <td>10.0</td>\n",
       "      <td>10.0</td>\n",
       "      <td>['email', 'phone']</td>\n",
       "      <td>t</td>\n",
       "      <td>t</td>\n",
       "      <td>NaN</td>\n",
       "      <td>Copacabana</td>\n",
       "      <td>NaN</td>\n",
       "      <td>-22.98299</td>\n",
       "      <td>-43.18904</td>\n",
       "      <td>Entire condo</td>\n",
       "      <td>Entire home/apt</td>\n",
       "      <td>6</td>\n",
       "      <td>NaN</td>\n",
       "      <td>4.5 baths</td>\n",
       "      <td>3.0</td>\n",
       "      <td>5.0</td>\n",
       "      <td>[\"Air conditioning\", \"Washer\", \"Security camer...</td>\n",
       "      <td>$3,500.00</td>\n",
       "      <td>3</td>\n",
       "      <td>365</td>\n",
       "      <td>3</td>\n",
       "      <td>3</td>\n",
       "      <td>365</td>\n",
       "      <td>365</td>\n",
       "      <td>3.0</td>\n",
       "      <td>365.0</td>\n",
       "      <td>NaN</td>\n",
       "      <td>t</td>\n",
       "      <td>30</td>\n",
       "      <td>60</td>\n",
       "      <td>90</td>\n",
       "      <td>365</td>\n",
       "      <td>2022-09-22</td>\n",
       "      <td>0</td>\n",
       "      <td>0</td>\n",
       "      <td>0</td>\n",
       "      <td>NaN</td>\n",
       "      <td>NaN</td>\n",
       "      <td>NaN</td>\n",
       "      <td>NaN</td>\n",
       "      <td>NaN</td>\n",
       "      <td>NaN</td>\n",
       "      <td>NaN</td>\n",
       "      <td>NaN</td>\n",
       "      <td>NaN</td>\n",
       "      <td>NaN</td>\n",
       "      <td>t</td>\n",
       "      <td>10</td>\n",
       "      <td>8</td>\n",
       "      <td>2</td>\n",
       "      <td>0</td>\n",
       "      <td>NaN</td>\n",
       "    </tr>\n",
       "    <tr>\n",
       "      <th>1</th>\n",
       "      <td>7801456</td>\n",
       "      <td>https://www.airbnb.com/rooms/7801456</td>\n",
       "      <td>20220921172238</td>\n",
       "      <td>2022-09-22</td>\n",
       "      <td>city scrape</td>\n",
       "      <td>Ipanema Vieira Souto - Linda Vista</td>\n",
       "      <td>Flat luxuoso com a melhor localização do Rio d...</td>\n",
       "      <td>Ipanema é considerado o berço do rio, cheio de...</td>\n",
       "      <td>https://a0.muscache.com/pictures/99276394/dc9c...</td>\n",
       "      <td>40650139</td>\n",
       "      <td>https://www.airbnb.com/users/show/40650139</td>\n",
       "      <td>Carlos Alberto</td>\n",
       "      <td>2015-08-05</td>\n",
       "      <td>Rio de Janeiro, Brazil</td>\n",
       "      <td>22 anos, Brasileiro, Solteiro, residencia fixa...</td>\n",
       "      <td>a few days or more</td>\n",
       "      <td>13%</td>\n",
       "      <td>100%</td>\n",
       "      <td>f</td>\n",
       "      <td>https://a0.muscache.com/im/users/40650139/prof...</td>\n",
       "      <td>https://a0.muscache.com/im/users/40650139/prof...</td>\n",
       "      <td>Ipanema</td>\n",
       "      <td>6.0</td>\n",
       "      <td>6.0</td>\n",
       "      <td>['email', 'phone']</td>\n",
       "      <td>t</td>\n",
       "      <td>t</td>\n",
       "      <td>Rio de Janeiro, Brazil</td>\n",
       "      <td>Ipanema</td>\n",
       "      <td>NaN</td>\n",
       "      <td>-22.98723</td>\n",
       "      <td>-43.20452</td>\n",
       "      <td>Entire serviced apartment</td>\n",
       "      <td>Entire home/apt</td>\n",
       "      <td>4</td>\n",
       "      <td>NaN</td>\n",
       "      <td>2 baths</td>\n",
       "      <td>2.0</td>\n",
       "      <td>3.0</td>\n",
       "      <td>[\"Cable TV\", \"Air conditioning\", \"Fire extingu...</td>\n",
       "      <td>$5,000.00</td>\n",
       "      <td>2</td>\n",
       "      <td>900</td>\n",
       "      <td>2</td>\n",
       "      <td>2</td>\n",
       "      <td>900</td>\n",
       "      <td>900</td>\n",
       "      <td>2.0</td>\n",
       "      <td>900.0</td>\n",
       "      <td>NaN</td>\n",
       "      <td>t</td>\n",
       "      <td>30</td>\n",
       "      <td>60</td>\n",
       "      <td>90</td>\n",
       "      <td>365</td>\n",
       "      <td>2022-09-22</td>\n",
       "      <td>0</td>\n",
       "      <td>0</td>\n",
       "      <td>0</td>\n",
       "      <td>NaN</td>\n",
       "      <td>NaN</td>\n",
       "      <td>NaN</td>\n",
       "      <td>NaN</td>\n",
       "      <td>NaN</td>\n",
       "      <td>NaN</td>\n",
       "      <td>NaN</td>\n",
       "      <td>NaN</td>\n",
       "      <td>NaN</td>\n",
       "      <td>NaN</td>\n",
       "      <td>t</td>\n",
       "      <td>5</td>\n",
       "      <td>5</td>\n",
       "      <td>0</td>\n",
       "      <td>0</td>\n",
       "      <td>NaN</td>\n",
       "    </tr>\n",
       "    <tr>\n",
       "      <th>2</th>\n",
       "      <td>14333905</td>\n",
       "      <td>https://www.airbnb.com/rooms/14333905</td>\n",
       "      <td>20220921172238</td>\n",
       "      <td>2022-09-22</td>\n",
       "      <td>city scrape</td>\n",
       "      <td>Casa compartilhada</td>\n",
       "      <td>A 15 min. do complexo esportivo de Deodoro, Ca...</td>\n",
       "      <td>NaN</td>\n",
       "      <td>https://a0.muscache.com/pictures/15235501-16c4...</td>\n",
       "      <td>87749071</td>\n",
       "      <td>https://www.airbnb.com/users/show/87749071</td>\n",
       "      <td>Lindenberg</td>\n",
       "      <td>2016-08-03</td>\n",
       "      <td>Rio de Janeiro, Brazil</td>\n",
       "      <td>NaN</td>\n",
       "      <td>NaN</td>\n",
       "      <td>NaN</td>\n",
       "      <td>NaN</td>\n",
       "      <td>f</td>\n",
       "      <td>https://a0.muscache.com/im/pictures/user/409ec...</td>\n",
       "      <td>https://a0.muscache.com/im/pictures/user/409ec...</td>\n",
       "      <td>NaN</td>\n",
       "      <td>1.0</td>\n",
       "      <td>1.0</td>\n",
       "      <td>['email', 'phone']</td>\n",
       "      <td>t</td>\n",
       "      <td>f</td>\n",
       "      <td>NaN</td>\n",
       "      <td>Pavuna</td>\n",
       "      <td>NaN</td>\n",
       "      <td>-22.80869</td>\n",
       "      <td>-43.38642</td>\n",
       "      <td>Entire home</td>\n",
       "      <td>Entire home/apt</td>\n",
       "      <td>12</td>\n",
       "      <td>NaN</td>\n",
       "      <td>1 bath</td>\n",
       "      <td>2.0</td>\n",
       "      <td>4.0</td>\n",
       "      <td>[\"Cable TV\", \"Air conditioning\", \"Hair dryer\",...</td>\n",
       "      <td>$681.00</td>\n",
       "      <td>1</td>\n",
       "      <td>1125</td>\n",
       "      <td>1</td>\n",
       "      <td>1</td>\n",
       "      <td>1125</td>\n",
       "      <td>1125</td>\n",
       "      <td>1.0</td>\n",
       "      <td>1125.0</td>\n",
       "      <td>NaN</td>\n",
       "      <td>t</td>\n",
       "      <td>30</td>\n",
       "      <td>60</td>\n",
       "      <td>90</td>\n",
       "      <td>365</td>\n",
       "      <td>2022-09-22</td>\n",
       "      <td>0</td>\n",
       "      <td>0</td>\n",
       "      <td>0</td>\n",
       "      <td>NaN</td>\n",
       "      <td>NaN</td>\n",
       "      <td>NaN</td>\n",
       "      <td>NaN</td>\n",
       "      <td>NaN</td>\n",
       "      <td>NaN</td>\n",
       "      <td>NaN</td>\n",
       "      <td>NaN</td>\n",
       "      <td>NaN</td>\n",
       "      <td>NaN</td>\n",
       "      <td>t</td>\n",
       "      <td>1</td>\n",
       "      <td>1</td>\n",
       "      <td>0</td>\n",
       "      <td>0</td>\n",
       "      <td>NaN</td>\n",
       "    </tr>\n",
       "    <tr>\n",
       "      <th>3</th>\n",
       "      <td>44708736</td>\n",
       "      <td>https://www.airbnb.com/rooms/44708736</td>\n",
       "      <td>20220921172238</td>\n",
       "      <td>2022-09-22</td>\n",
       "      <td>city scrape</td>\n",
       "      <td>Aluguel de Lancha no Rio de Janeiro</td>\n",
       "      <td>Iate Intermarine 440 Full Gold c/ Fly p/ até 1...</td>\n",
       "      <td>A Marina da Glória fica no bairro do Flamengo ...</td>\n",
       "      <td>https://a0.muscache.com/pictures/210e9877-2854...</td>\n",
       "      <td>97164727</td>\n",
       "      <td>https://www.airbnb.com/users/show/97164727</td>\n",
       "      <td>Jorge Quito</td>\n",
       "      <td>2016-09-28</td>\n",
       "      <td>Rio de Janeiro, Brazil</td>\n",
       "      <td>Olá, eu sou Jorge!\\nSou de Salvador e moro no ...</td>\n",
       "      <td>within an hour</td>\n",
       "      <td>100%</td>\n",
       "      <td>100%</td>\n",
       "      <td>f</td>\n",
       "      <td>https://a0.muscache.com/im/pictures/user/c3e6f...</td>\n",
       "      <td>https://a0.muscache.com/im/pictures/user/c3e6f...</td>\n",
       "      <td>NaN</td>\n",
       "      <td>4.0</td>\n",
       "      <td>4.0</td>\n",
       "      <td>['email', 'phone']</td>\n",
       "      <td>t</td>\n",
       "      <td>t</td>\n",
       "      <td>Flamengo, Rio de Janeiro, Brazil</td>\n",
       "      <td>Glória</td>\n",
       "      <td>NaN</td>\n",
       "      <td>-22.91988</td>\n",
       "      <td>-43.17034</td>\n",
       "      <td>Boat</td>\n",
       "      <td>Entire home/apt</td>\n",
       "      <td>12</td>\n",
       "      <td>NaN</td>\n",
       "      <td>2 baths</td>\n",
       "      <td>2.0</td>\n",
       "      <td>3.0</td>\n",
       "      <td>[\"Single level home\", \"Wifi \\u2013 30 Mbps\", \"...</td>\n",
       "      <td>$8,999.00</td>\n",
       "      <td>1</td>\n",
       "      <td>1</td>\n",
       "      <td>1</td>\n",
       "      <td>1</td>\n",
       "      <td>1</td>\n",
       "      <td>1</td>\n",
       "      <td>1.0</td>\n",
       "      <td>1.0</td>\n",
       "      <td>NaN</td>\n",
       "      <td>t</td>\n",
       "      <td>30</td>\n",
       "      <td>60</td>\n",
       "      <td>90</td>\n",
       "      <td>179</td>\n",
       "      <td>2022-09-22</td>\n",
       "      <td>2</td>\n",
       "      <td>0</td>\n",
       "      <td>0</td>\n",
       "      <td>2021-01-10</td>\n",
       "      <td>2021-08-02</td>\n",
       "      <td>5.0</td>\n",
       "      <td>5.0</td>\n",
       "      <td>5.0</td>\n",
       "      <td>5.0</td>\n",
       "      <td>5.0</td>\n",
       "      <td>5.0</td>\n",
       "      <td>5.0</td>\n",
       "      <td>NaN</td>\n",
       "      <td>f</td>\n",
       "      <td>2</td>\n",
       "      <td>2</td>\n",
       "      <td>0</td>\n",
       "      <td>0</td>\n",
       "      <td>0.1</td>\n",
       "    </tr>\n",
       "    <tr>\n",
       "      <th>4</th>\n",
       "      <td>35351763</td>\n",
       "      <td>https://www.airbnb.com/rooms/35351763</td>\n",
       "      <td>20220921172238</td>\n",
       "      <td>2022-09-22</td>\n",
       "      <td>city scrape</td>\n",
       "      <td>Uma grande família</td>\n",
       "      <td>Estou oferecendo minha casa ,minha família meu...</td>\n",
       "      <td>São Mateus</td>\n",
       "      <td>https://a0.muscache.com/pictures/44713611-925b...</td>\n",
       "      <td>249666532</td>\n",
       "      <td>https://www.airbnb.com/users/show/249666532</td>\n",
       "      <td>Jorgina</td>\n",
       "      <td>2019-03-18</td>\n",
       "      <td>State of Rio de Janeiro, Brazil</td>\n",
       "      <td>NaN</td>\n",
       "      <td>NaN</td>\n",
       "      <td>NaN</td>\n",
       "      <td>NaN</td>\n",
       "      <td>f</td>\n",
       "      <td>https://a0.muscache.com/im/pictures/user/57882...</td>\n",
       "      <td>https://a0.muscache.com/im/pictures/user/57882...</td>\n",
       "      <td>NaN</td>\n",
       "      <td>1.0</td>\n",
       "      <td>1.0</td>\n",
       "      <td>['email', 'phone']</td>\n",
       "      <td>t</td>\n",
       "      <td>f</td>\n",
       "      <td>Parque Sao Nicolau, Rio de Janeiro, Brazil</td>\n",
       "      <td>Pavuna</td>\n",
       "      <td>NaN</td>\n",
       "      <td>-22.81321</td>\n",
       "      <td>-43.38573</td>\n",
       "      <td>Earthen home</td>\n",
       "      <td>Entire home/apt</td>\n",
       "      <td>1</td>\n",
       "      <td>NaN</td>\n",
       "      <td>1 bath</td>\n",
       "      <td>2.0</td>\n",
       "      <td>3.0</td>\n",
       "      <td>[\"Air conditioning\", \"First aid kit\", \"Iron\", ...</td>\n",
       "      <td>$500.00</td>\n",
       "      <td>1</td>\n",
       "      <td>2</td>\n",
       "      <td>1</td>\n",
       "      <td>1</td>\n",
       "      <td>2</td>\n",
       "      <td>2</td>\n",
       "      <td>1.0</td>\n",
       "      <td>2.0</td>\n",
       "      <td>NaN</td>\n",
       "      <td>t</td>\n",
       "      <td>30</td>\n",
       "      <td>60</td>\n",
       "      <td>90</td>\n",
       "      <td>179</td>\n",
       "      <td>2022-09-22</td>\n",
       "      <td>0</td>\n",
       "      <td>0</td>\n",
       "      <td>0</td>\n",
       "      <td>NaN</td>\n",
       "      <td>NaN</td>\n",
       "      <td>NaN</td>\n",
       "      <td>NaN</td>\n",
       "      <td>NaN</td>\n",
       "      <td>NaN</td>\n",
       "      <td>NaN</td>\n",
       "      <td>NaN</td>\n",
       "      <td>NaN</td>\n",
       "      <td>NaN</td>\n",
       "      <td>t</td>\n",
       "      <td>1</td>\n",
       "      <td>1</td>\n",
       "      <td>0</td>\n",
       "      <td>0</td>\n",
       "      <td>NaN</td>\n",
       "    </tr>\n",
       "  </tbody>\n",
       "</table>\n",
       "</div>"
      ],
      "text/plain": [
       "         id                            listing_url       scrape_id  \\\n",
       "0  53344884  https://www.airbnb.com/rooms/53344884  20220921172238   \n",
       "1   7801456   https://www.airbnb.com/rooms/7801456  20220921172238   \n",
       "2  14333905  https://www.airbnb.com/rooms/14333905  20220921172238   \n",
       "3  44708736  https://www.airbnb.com/rooms/44708736  20220921172238   \n",
       "4  35351763  https://www.airbnb.com/rooms/35351763  20220921172238   \n",
       "\n",
       "  last_scraped       source                                        name  \\\n",
       "0   2022-09-22  city scrape  Suntuoso apartamento em Copacabana posto 6   \n",
       "1   2022-09-22  city scrape          Ipanema Vieira Souto - Linda Vista   \n",
       "2   2022-09-22  city scrape                          Casa compartilhada   \n",
       "3   2022-09-22  city scrape         Aluguel de Lancha no Rio de Janeiro   \n",
       "4   2022-09-22  city scrape                          Uma grande família   \n",
       "\n",
       "                                         description  \\\n",
       "0  suntuoso apartamento de frente para o mar <br ...   \n",
       "1  Flat luxuoso com a melhor localização do Rio d...   \n",
       "2  A 15 min. do complexo esportivo de Deodoro, Ca...   \n",
       "3  Iate Intermarine 440 Full Gold c/ Fly p/ até 1...   \n",
       "4  Estou oferecendo minha casa ,minha família meu...   \n",
       "\n",
       "                               neighborhood_overview  \\\n",
       "0                                                NaN   \n",
       "1  Ipanema é considerado o berço do rio, cheio de...   \n",
       "2                                                NaN   \n",
       "3  A Marina da Glória fica no bairro do Flamengo ...   \n",
       "4                                         São Mateus   \n",
       "\n",
       "                                         picture_url    host_id  \\\n",
       "0  https://a0.muscache.com/pictures/miso/Hosting-...  431412286   \n",
       "1  https://a0.muscache.com/pictures/99276394/dc9c...   40650139   \n",
       "2  https://a0.muscache.com/pictures/15235501-16c4...   87749071   \n",
       "3  https://a0.muscache.com/pictures/210e9877-2854...   97164727   \n",
       "4  https://a0.muscache.com/pictures/44713611-925b...  249666532   \n",
       "\n",
       "                                      host_url        host_name  host_since  \\\n",
       "0  https://www.airbnb.com/users/show/431412286  Carlos Henrique  2021-11-11   \n",
       "1   https://www.airbnb.com/users/show/40650139   Carlos Alberto  2015-08-05   \n",
       "2   https://www.airbnb.com/users/show/87749071       Lindenberg  2016-08-03   \n",
       "3   https://www.airbnb.com/users/show/97164727      Jorge Quito  2016-09-28   \n",
       "4  https://www.airbnb.com/users/show/249666532          Jorgina  2019-03-18   \n",
       "\n",
       "                     host_location  \\\n",
       "0                              NaN   \n",
       "1           Rio de Janeiro, Brazil   \n",
       "2           Rio de Janeiro, Brazil   \n",
       "3           Rio de Janeiro, Brazil   \n",
       "4  State of Rio de Janeiro, Brazil   \n",
       "\n",
       "                                          host_about  host_response_time  \\\n",
       "0                                                NaN      within an hour   \n",
       "1  22 anos, Brasileiro, Solteiro, residencia fixa...  a few days or more   \n",
       "2                                                NaN                 NaN   \n",
       "3  Olá, eu sou Jorge!\\nSou de Salvador e moro no ...      within an hour   \n",
       "4                                                NaN                 NaN   \n",
       "\n",
       "  host_response_rate host_acceptance_rate host_is_superhost  \\\n",
       "0               100%                 100%                 f   \n",
       "1                13%                 100%                 f   \n",
       "2                NaN                  NaN                 f   \n",
       "3               100%                 100%                 f   \n",
       "4                NaN                  NaN                 f   \n",
       "\n",
       "                                  host_thumbnail_url  \\\n",
       "0  https://a0.muscache.com/im/pictures/user/f4bec...   \n",
       "1  https://a0.muscache.com/im/users/40650139/prof...   \n",
       "2  https://a0.muscache.com/im/pictures/user/409ec...   \n",
       "3  https://a0.muscache.com/im/pictures/user/c3e6f...   \n",
       "4  https://a0.muscache.com/im/pictures/user/57882...   \n",
       "\n",
       "                                    host_picture_url host_neighbourhood  \\\n",
       "0  https://a0.muscache.com/im/pictures/user/f4bec...                NaN   \n",
       "1  https://a0.muscache.com/im/users/40650139/prof...            Ipanema   \n",
       "2  https://a0.muscache.com/im/pictures/user/409ec...                NaN   \n",
       "3  https://a0.muscache.com/im/pictures/user/c3e6f...                NaN   \n",
       "4  https://a0.muscache.com/im/pictures/user/57882...                NaN   \n",
       "\n",
       "   host_listings_count  host_total_listings_count  host_verifications  \\\n",
       "0                 10.0                       10.0  ['email', 'phone']   \n",
       "1                  6.0                        6.0  ['email', 'phone']   \n",
       "2                  1.0                        1.0  ['email', 'phone']   \n",
       "3                  4.0                        4.0  ['email', 'phone']   \n",
       "4                  1.0                        1.0  ['email', 'phone']   \n",
       "\n",
       "  host_has_profile_pic host_identity_verified  \\\n",
       "0                    t                      t   \n",
       "1                    t                      t   \n",
       "2                    t                      f   \n",
       "3                    t                      t   \n",
       "4                    t                      f   \n",
       "\n",
       "                                neighbourhood neighbourhood_cleansed  \\\n",
       "0                                         NaN             Copacabana   \n",
       "1                      Rio de Janeiro, Brazil                Ipanema   \n",
       "2                                         NaN                 Pavuna   \n",
       "3            Flamengo, Rio de Janeiro, Brazil                 Glória   \n",
       "4  Parque Sao Nicolau, Rio de Janeiro, Brazil                 Pavuna   \n",
       "\n",
       "   neighbourhood_group_cleansed  latitude  longitude  \\\n",
       "0                           NaN -22.98299  -43.18904   \n",
       "1                           NaN -22.98723  -43.20452   \n",
       "2                           NaN -22.80869  -43.38642   \n",
       "3                           NaN -22.91988  -43.17034   \n",
       "4                           NaN -22.81321  -43.38573   \n",
       "\n",
       "               property_type        room_type  accommodates  bathrooms  \\\n",
       "0               Entire condo  Entire home/apt             6        NaN   \n",
       "1  Entire serviced apartment  Entire home/apt             4        NaN   \n",
       "2                Entire home  Entire home/apt            12        NaN   \n",
       "3                       Boat  Entire home/apt            12        NaN   \n",
       "4               Earthen home  Entire home/apt             1        NaN   \n",
       "\n",
       "  bathrooms_text  bedrooms  beds  \\\n",
       "0      4.5 baths       3.0   5.0   \n",
       "1        2 baths       2.0   3.0   \n",
       "2         1 bath       2.0   4.0   \n",
       "3        2 baths       2.0   3.0   \n",
       "4         1 bath       2.0   3.0   \n",
       "\n",
       "                                           amenities      price  \\\n",
       "0  [\"Air conditioning\", \"Washer\", \"Security camer...  $3,500.00   \n",
       "1  [\"Cable TV\", \"Air conditioning\", \"Fire extingu...  $5,000.00   \n",
       "2  [\"Cable TV\", \"Air conditioning\", \"Hair dryer\",...    $681.00   \n",
       "3  [\"Single level home\", \"Wifi \\u2013 30 Mbps\", \"...  $8,999.00   \n",
       "4  [\"Air conditioning\", \"First aid kit\", \"Iron\", ...    $500.00   \n",
       "\n",
       "   minimum_nights  maximum_nights  minimum_minimum_nights  \\\n",
       "0               3             365                       3   \n",
       "1               2             900                       2   \n",
       "2               1            1125                       1   \n",
       "3               1               1                       1   \n",
       "4               1               2                       1   \n",
       "\n",
       "   maximum_minimum_nights  minimum_maximum_nights  maximum_maximum_nights  \\\n",
       "0                       3                     365                     365   \n",
       "1                       2                     900                     900   \n",
       "2                       1                    1125                    1125   \n",
       "3                       1                       1                       1   \n",
       "4                       1                       2                       2   \n",
       "\n",
       "   minimum_nights_avg_ntm  maximum_nights_avg_ntm  calendar_updated  \\\n",
       "0                     3.0                   365.0               NaN   \n",
       "1                     2.0                   900.0               NaN   \n",
       "2                     1.0                  1125.0               NaN   \n",
       "3                     1.0                     1.0               NaN   \n",
       "4                     1.0                     2.0               NaN   \n",
       "\n",
       "  has_availability  availability_30  availability_60  availability_90  \\\n",
       "0                t               30               60               90   \n",
       "1                t               30               60               90   \n",
       "2                t               30               60               90   \n",
       "3                t               30               60               90   \n",
       "4                t               30               60               90   \n",
       "\n",
       "   availability_365 calendar_last_scraped  number_of_reviews  \\\n",
       "0               365            2022-09-22                  0   \n",
       "1               365            2022-09-22                  0   \n",
       "2               365            2022-09-22                  0   \n",
       "3               179            2022-09-22                  2   \n",
       "4               179            2022-09-22                  0   \n",
       "\n",
       "   number_of_reviews_ltm  number_of_reviews_l30d first_review last_review  \\\n",
       "0                      0                       0          NaN         NaN   \n",
       "1                      0                       0          NaN         NaN   \n",
       "2                      0                       0          NaN         NaN   \n",
       "3                      0                       0   2021-01-10  2021-08-02   \n",
       "4                      0                       0          NaN         NaN   \n",
       "\n",
       "   review_scores_rating  review_scores_accuracy  review_scores_cleanliness  \\\n",
       "0                   NaN                     NaN                        NaN   \n",
       "1                   NaN                     NaN                        NaN   \n",
       "2                   NaN                     NaN                        NaN   \n",
       "3                   5.0                     5.0                        5.0   \n",
       "4                   NaN                     NaN                        NaN   \n",
       "\n",
       "   review_scores_checkin  review_scores_communication  review_scores_location  \\\n",
       "0                    NaN                          NaN                     NaN   \n",
       "1                    NaN                          NaN                     NaN   \n",
       "2                    NaN                          NaN                     NaN   \n",
       "3                    5.0                          5.0                     5.0   \n",
       "4                    NaN                          NaN                     NaN   \n",
       "\n",
       "   review_scores_value  license instant_bookable  \\\n",
       "0                  NaN      NaN                t   \n",
       "1                  NaN      NaN                t   \n",
       "2                  NaN      NaN                t   \n",
       "3                  5.0      NaN                f   \n",
       "4                  NaN      NaN                t   \n",
       "\n",
       "   calculated_host_listings_count  \\\n",
       "0                              10   \n",
       "1                               5   \n",
       "2                               1   \n",
       "3                               2   \n",
       "4                               1   \n",
       "\n",
       "   calculated_host_listings_count_entire_homes  \\\n",
       "0                                            8   \n",
       "1                                            5   \n",
       "2                                            1   \n",
       "3                                            2   \n",
       "4                                            1   \n",
       "\n",
       "   calculated_host_listings_count_private_rooms  \\\n",
       "0                                             2   \n",
       "1                                             0   \n",
       "2                                             0   \n",
       "3                                             0   \n",
       "4                                             0   \n",
       "\n",
       "   calculated_host_listings_count_shared_rooms  reviews_per_month  \n",
       "0                                            0                NaN  \n",
       "1                                            0                NaN  \n",
       "2                                            0                NaN  \n",
       "3                                            0                0.1  \n",
       "4                                            0                NaN  "
      ]
     },
     "metadata": {},
     "output_type": "display_data"
    }
   ],
   "source": [
    "with pd.option_context('display.max_columns',None):\n",
    "    display(df.head())"
   ]
  },
  {
   "cell_type": "markdown",
   "metadata": {},
   "source": [
    "# Sanity Checks"
   ]
  },
  {
   "cell_type": "markdown",
   "metadata": {},
   "source": [
    "## Empty Values"
   ]
  },
  {
   "cell_type": "code",
   "execution_count": 5,
   "metadata": {},
   "outputs": [],
   "source": [
    "col_na_proportion = df.isna().mean()"
   ]
  },
  {
   "cell_type": "code",
   "execution_count": 6,
   "metadata": {},
   "outputs": [
    {
     "data": {
      "text/plain": [
       "neighborhood_overview           0.473\n",
       "host_location                   0.182\n",
       "host_about                      0.515\n",
       "host_response_time              0.133\n",
       "host_response_rate              0.133\n",
       "host_acceptance_rate            0.134\n",
       "host_neighbourhood              0.407\n",
       "neighbourhood                   0.473\n",
       "neighbourhood_group_cleansed    1.000\n",
       "bathrooms                       1.000\n",
       "calendar_updated                1.000\n",
       "first_review                    0.266\n",
       "last_review                     0.266\n",
       "review_scores_rating            0.266\n",
       "review_scores_accuracy          0.274\n",
       "review_scores_cleanliness       0.274\n",
       "review_scores_checkin           0.274\n",
       "review_scores_communication     0.274\n",
       "review_scores_location          0.274\n",
       "review_scores_value             0.274\n",
       "license                         1.000\n",
       "reviews_per_month               0.266\n",
       "dtype: float64"
      ]
     },
     "execution_count": 6,
     "metadata": {},
     "output_type": "execute_result"
    }
   ],
   "source": [
    "col_na_proportion[col_na_proportion > 0.1].round(3) # Arbitrary minimum NA boundary of 10% of rows"
   ]
  },
  {
   "cell_type": "markdown",
   "metadata": {},
   "source": [
    "- Some columns are complely empty\n",
    "- About half of the listings don't have any description about the host\n",
    "- Approx. 1 out of 4 listings don't have a review\n",
    "\n",
    "- Bathrooms columns was actually replaced with bathrooms_text"
   ]
  },
  {
   "cell_type": "code",
   "execution_count": 7,
   "metadata": {},
   "outputs": [],
   "source": [
    "full_na_cols = list(col_na_proportion[col_na_proportion == 1].index)"
   ]
  },
  {
   "cell_type": "code",
   "execution_count": 8,
   "metadata": {},
   "outputs": [
    {
     "data": {
      "text/plain": [
       "['neighbourhood_group_cleansed', 'bathrooms', 'calendar_updated', 'license']"
      ]
     },
     "execution_count": 8,
     "metadata": {},
     "output_type": "execute_result"
    }
   ],
   "source": [
    "full_na_cols"
   ]
  },
  {
   "cell_type": "markdown",
   "metadata": {},
   "source": [
    "## Subsetting to relevant features\n",
    "\n",
    "We are looking into the listings and trying to see what are the best findings given a set of their features"
   ]
  },
  {
   "cell_type": "code",
   "execution_count": 9,
   "metadata": {},
   "outputs": [],
   "source": [
    "# Subsetting to columns that might be relevant for us to work with\n",
    "# Ignoring relevant columns that are completely empty (ex: bathrooms)\n",
    "subset_cols = ['id',\n",
    "                'listing_url',\n",
    "                'last_scraped',\n",
    "                'source',\n",
    "                'name',\n",
    "                'description',\n",
    "                'neighbourhood_cleansed',\n",
    "                'property_type',\n",
    "                'room_type',\n",
    "                'accommodates',\n",
    "                'bathrooms_text',\n",
    "                'bedrooms',\n",
    "                'beds',\n",
    "                'amenities',\n",
    "                'price',\n",
    "                'minimum_nights',\n",
    "                'maximum_nights',\n",
    "                'number_of_reviews_ltm',\n",
    "                'number_of_reviews_l30d',\n",
    "                'review_scores_cleanliness',\n",
    "                'review_scores_checkin', \n",
    "                'review_scores_communication',\n",
    "                'review_scores_location',\n",
    "                'review_scores_value']"
   ]
  },
  {
   "cell_type": "code",
   "execution_count": 10,
   "metadata": {},
   "outputs": [],
   "source": [
    "df_subset = df[subset_cols].copy() # Generating a copy to avoid object reference problems when creating new cols"
   ]
  },
  {
   "cell_type": "code",
   "execution_count": 11,
   "metadata": {},
   "outputs": [
    {
     "data": {
      "text/plain": [
       "id                             0.000000\n",
       "listing_url                    0.000000\n",
       "last_scraped                   0.000000\n",
       "source                         0.000000\n",
       "name                           0.000721\n",
       "description                    0.031366\n",
       "neighbourhood_cleansed         0.000000\n",
       "property_type                  0.000000\n",
       "room_type                      0.000000\n",
       "accommodates                   0.000000\n",
       "bathrooms_text                 0.001896\n",
       "bedrooms                       0.049723\n",
       "beds                           0.008951\n",
       "amenities                      0.000000\n",
       "price                          0.000000\n",
       "minimum_nights                 0.000000\n",
       "maximum_nights                 0.000000\n",
       "number_of_reviews_ltm          0.000000\n",
       "number_of_reviews_l30d         0.000000\n",
       "review_scores_cleanliness      0.274179\n",
       "review_scores_checkin          0.274179\n",
       "review_scores_communication    0.274179\n",
       "review_scores_location         0.274217\n",
       "review_scores_value            0.274179\n",
       "dtype: float64"
      ]
     },
     "execution_count": 11,
     "metadata": {},
     "output_type": "execute_result"
    }
   ],
   "source": [
    "df_subset.isna().mean()"
   ]
  },
  {
   "cell_type": "markdown",
   "metadata": {},
   "source": [
    "In exception to the review columns, the subset does not have a lot of NaNs"
   ]
  },
  {
   "cell_type": "markdown",
   "metadata": {},
   "source": [
    "## Subset - Type handling"
   ]
  },
  {
   "cell_type": "code",
   "execution_count": 12,
   "metadata": {},
   "outputs": [
    {
     "data": {
      "text/plain": [
       "id                               int64\n",
       "listing_url                     object\n",
       "last_scraped                    object\n",
       "source                          object\n",
       "name                            object\n",
       "description                     object\n",
       "neighbourhood_cleansed          object\n",
       "property_type                   object\n",
       "room_type                       object\n",
       "accommodates                     int64\n",
       "bathrooms_text                  object\n",
       "bedrooms                       float64\n",
       "beds                           float64\n",
       "amenities                       object\n",
       "price                           object\n",
       "minimum_nights                   int64\n",
       "maximum_nights                   int64\n",
       "number_of_reviews_ltm            int64\n",
       "number_of_reviews_l30d           int64\n",
       "review_scores_cleanliness      float64\n",
       "review_scores_checkin          float64\n",
       "review_scores_communication    float64\n",
       "review_scores_location         float64\n",
       "review_scores_value            float64\n",
       "dtype: object"
      ]
     },
     "execution_count": 12,
     "metadata": {},
     "output_type": "execute_result"
    }
   ],
   "source": [
    "df_subset.dtypes"
   ]
  },
  {
   "cell_type": "markdown",
   "metadata": {},
   "source": [
    "### Dates"
   ]
  },
  {
   "cell_type": "code",
   "execution_count": 13,
   "metadata": {},
   "outputs": [],
   "source": [
    "# Handling scraped date\n",
    "df_subset['last_scraped'] = pd.to_datetime(df_subset['last_scraped'], yearfirst=True)"
   ]
  },
  {
   "cell_type": "code",
   "execution_count": 14,
   "metadata": {},
   "outputs": [
    {
     "data": {
      "text/plain": [
       "2022-09-22    20849\n",
       "2022-09-21     5462\n",
       "2022-09-23       54\n",
       "2022-10-02        1\n",
       "Name: last_scraped, dtype: int64"
      ]
     },
     "execution_count": 14,
     "metadata": {},
     "output_type": "execute_result"
    }
   ],
   "source": [
    "# Check if dataset contains old entries - They might not be relevant\n",
    "df_subset['last_scraped'].value_counts()"
   ]
  },
  {
   "cell_type": "markdown",
   "metadata": {},
   "source": [
    "### Prices"
   ]
  },
  {
   "cell_type": "code",
   "execution_count": 15,
   "metadata": {},
   "outputs": [
    {
     "name": "stdout",
     "output_type": "stream",
     "text": [
      "True\n"
     ]
    }
   ],
   "source": [
    "# Price\n",
    "\n",
    "# Do all prices start with '$'?\n",
    "print(df_subset['price'].shape[0] == df_subset['price'].str.startswith('$').sum())"
   ]
  },
  {
   "cell_type": "code",
   "execution_count": 16,
   "metadata": {},
   "outputs": [],
   "source": [
    "df_subset['price'] = df_subset['price'].str[1:]\n",
    "\n",
    "df_subset['price'] = df_subset['price'].str.replace(',','', regex=True)\n",
    "\n",
    "df_subset['price'] = df_subset['price'].astype(float)"
   ]
  },
  {
   "cell_type": "markdown",
   "metadata": {},
   "source": [
    "### Amenities"
   ]
  },
  {
   "cell_type": "code",
   "execution_count": 17,
   "metadata": {},
   "outputs": [
    {
     "data": {
      "text/plain": [
       "0    [\"Air conditioning\", \"Washer\", \"Security camer...\n",
       "1    [\"Cable TV\", \"Air conditioning\", \"Fire extingu...\n",
       "2    [\"Cable TV\", \"Air conditioning\", \"Hair dryer\",...\n",
       "3    [\"Single level home\", \"Wifi \\u2013 30 Mbps\", \"...\n",
       "4    [\"Air conditioning\", \"First aid kit\", \"Iron\", ...\n",
       "Name: amenities, dtype: object"
      ]
     },
     "execution_count": 17,
     "metadata": {},
     "output_type": "execute_result"
    }
   ],
   "source": [
    "df_subset['amenities'].head()"
   ]
  },
  {
   "cell_type": "code",
   "execution_count": 18,
   "metadata": {},
   "outputs": [
    {
     "data": {
      "text/plain": [
       "True"
      ]
     },
     "execution_count": 18,
     "metadata": {},
     "output_type": "execute_result"
    }
   ],
   "source": [
    "# Are amenities strings?\n",
    "(df_subset['amenities'].apply(type) == str).all()"
   ]
  },
  {
   "cell_type": "markdown",
   "metadata": {},
   "source": [
    "Amenities are actually strings instead of lists. This needs fixing.\\\n",
    "Also, since it is a whole string, the whitespaces before the quotes will stay there. They need to be fixed too.\\\n",
    "To fix the whitespaces I will be using a function, but it could be done via RegEx as well.\\\n",
    "Also, some not parsed unidecode characters get into the dataset. They will be removed since they probably won't be word characters"
   ]
  },
  {
   "cell_type": "code",
   "execution_count": 19,
   "metadata": {},
   "outputs": [],
   "source": [
    "def strip_tokens(token_list):\n",
    "\n",
    "    return [token.strip() for token in token_list]\n",
    "\n",
    "def replace_unidecode(token_list):\n",
    "\n",
    "    ''' Replaces non-parsed unidecode chars with single Whitespace.\n",
    "        If simply replaced by empty strings, will generate a double whitespace\n",
    "        '''\n",
    "\n",
    "    return [re.sub(r'\\s+', ' ', re.sub(r'\\\\u\\d+','', token)) for token in token_list]"
   ]
  },
  {
   "cell_type": "code",
   "execution_count": 20,
   "metadata": {},
   "outputs": [],
   "source": [
    "# The Brackets and quotes will break a simple split function. They need to be treated beforehand.\n",
    "df_subset['amenities'] = df_subset['amenities'].str.replace('\\[|\\]|\\\"','', regex = True)\\\n",
    "                                                .str.split(',')\\\n",
    "                                                .apply(strip_tokens)\\\n",
    "                                                .apply(replace_unidecode)"
   ]
  },
  {
   "cell_type": "code",
   "execution_count": 21,
   "metadata": {},
   "outputs": [
    {
     "data": {
      "text/plain": [
       "0    [Air conditioning, Washer, Security cameras on...\n",
       "1    [Cable TV, Air conditioning, Fire extinguisher...\n",
       "2    [Cable TV, Air conditioning, Hair dryer, Iron,...\n",
       "3    [Single level home, Wifi 30 Mbps, Dedicated wo...\n",
       "4    [Air conditioning, First aid kit, Iron, Essent...\n",
       "Name: amenities, dtype: object"
      ]
     },
     "metadata": {},
     "output_type": "display_data"
    },
    {
     "data": {
      "text/plain": [
       "['Air conditioning',\n",
       " 'Washer',\n",
       " 'Security cameras on property',\n",
       " 'Wifi',\n",
       " 'Long term stays allowed',\n",
       " 'Kitchen',\n",
       " 'TV']"
      ]
     },
     "metadata": {},
     "output_type": "display_data"
    }
   ],
   "source": [
    "display(df_subset['amenities'].head())\n",
    "\n",
    "display(df_subset['amenities'][0]) # Example for specific fixes"
   ]
  },
  {
   "cell_type": "markdown",
   "metadata": {},
   "source": [
    "## Bathrooms"
   ]
  },
  {
   "cell_type": "code",
   "execution_count": 50,
   "metadata": {},
   "outputs": [
    {
     "data": {
      "text/plain": [
       "0            4.5 baths\n",
       "1              2 baths\n",
       "2               1 bath\n",
       "3              2 baths\n",
       "4               1 bath\n",
       "             ...      \n",
       "26361    1 shared bath\n",
       "26362           1 bath\n",
       "26363           1 bath\n",
       "26364           1 bath\n",
       "26365           1 bath\n",
       "Name: bathrooms_text, Length: 26366, dtype: object"
      ]
     },
     "execution_count": 50,
     "metadata": {},
     "output_type": "execute_result"
    }
   ],
   "source": [
    "df_subset.bathrooms_text"
   ]
  },
  {
   "cell_type": "code",
   "execution_count": 60,
   "metadata": {},
   "outputs": [
    {
     "name": "stdout",
     "output_type": "stream",
     "text": [
      "Entries that contain \"bath\": 26316\n",
      "Total Entries: 26366\n"
     ]
    }
   ],
   "source": [
    "print('Entries that contain \"bath\":',df_subset[df_subset['bathrooms_text'].str.contains(r'bath[s]?', na = False)].shape[0])\n",
    "\n",
    "print('Total Entries:',df_subset.shape[0])"
   ]
  },
  {
   "cell_type": "markdown",
   "metadata": {},
   "source": [
    "There are 50 entries that don't contain the any word with 'bath' in it"
   ]
  },
  {
   "cell_type": "code",
   "execution_count": 64,
   "metadata": {},
   "outputs": [
    {
     "data": {
      "text/plain": [
       "50"
      ]
     },
     "execution_count": 64,
     "metadata": {},
     "output_type": "execute_result"
    }
   ],
   "source": [
    "df_subset[~df_subset['bathrooms_text'].str.contains(r'bath[s]?', na = False)]['bathrooms_text'].isna().sum()"
   ]
  },
  {
   "cell_type": "markdown",
   "metadata": {},
   "source": [
    "The different entries are empty are because they are NaN values"
   ]
  },
  {
   "cell_type": "code",
   "execution_count": 67,
   "metadata": {},
   "outputs": [
    {
     "data": {
      "text/html": [
       "<div>\n",
       "<style scoped>\n",
       "    .dataframe tbody tr th:only-of-type {\n",
       "        vertical-align: middle;\n",
       "    }\n",
       "\n",
       "    .dataframe tbody tr th {\n",
       "        vertical-align: top;\n",
       "    }\n",
       "\n",
       "    .dataframe thead th {\n",
       "        text-align: right;\n",
       "    }\n",
       "</style>\n",
       "<table border=\"1\" class=\"dataframe\">\n",
       "  <thead>\n",
       "    <tr style=\"text-align: right;\">\n",
       "      <th></th>\n",
       "      <th>name</th>\n",
       "      <th>description</th>\n",
       "    </tr>\n",
       "  </thead>\n",
       "  <tbody>\n",
       "    <tr>\n",
       "      <th>479</th>\n",
       "      <td>Praia da Macumba Recreio</td>\n",
       "      <td>&lt;b&gt;The space&lt;/b&gt;&lt;br /&gt;Apartameno pequeno,1 Qto...</td>\n",
       "    </tr>\n",
       "    <tr>\n",
       "      <th>603</th>\n",
       "      <td>Cozy room @ Copacabana - Posto 06</td>\n",
       "      <td>&lt;b&gt;The space&lt;/b&gt;&lt;br /&gt;Excellent apartment near...</td>\n",
       "    </tr>\n",
       "    <tr>\n",
       "      <th>2056</th>\n",
       "      <td>Maracana - apartamento a 200 metros</td>\n",
       "      <td>Excelente apartamento a 200 metros do MARACANÃ...</td>\n",
       "    </tr>\n",
       "    <tr>\n",
       "      <th>19656</th>\n",
       "      <td>Mansão INCRÍVEL no meio da natureza para EVENTOS</td>\n",
       "      <td>NaN</td>\n",
       "    </tr>\n",
       "    <tr>\n",
       "      <th>661</th>\n",
       "      <td>ótimo Quarto em Santa Teresa - RJ</td>\n",
       "      <td>&lt;b&gt;The space&lt;/b&gt;&lt;br /&gt;Casa ampla em Santa Tere...</td>\n",
       "    </tr>\n",
       "    <tr>\n",
       "      <th>89</th>\n",
       "      <td>Apartamento Moderno e confortavel</td>\n",
       "      <td>Seja bem vindo a esse apartamento moderno, con...</td>\n",
       "    </tr>\n",
       "    <tr>\n",
       "      <th>14651</th>\n",
       "      <td>Américas Copacabana Hotel</td>\n",
       "      <td>NaN</td>\n",
       "    </tr>\n",
       "    <tr>\n",
       "      <th>600</th>\n",
       "      <td>Vinicius</td>\n",
       "      <td>tarifa baixa temporada, mínimo 5 noites&lt;br /&gt;&lt;...</td>\n",
       "    </tr>\n",
       "    <tr>\n",
       "      <th>869</th>\n",
       "      <td>Ipanema  602</td>\n",
       "      <td>&lt;b&gt;The space&lt;/b&gt;&lt;br /&gt;linen not included, on r...</td>\n",
       "    </tr>\n",
       "    <tr>\n",
       "      <th>348</th>\n",
       "      <td>BAND NEW APT COPACABANA</td>\n",
       "      <td>&lt;b&gt;The space&lt;/b&gt;&lt;br /&gt;APT JUST RENOVATED! ALL ...</td>\n",
       "    </tr>\n",
       "  </tbody>\n",
       "</table>\n",
       "</div>"
      ],
      "text/plain": [
       "                                                   name  \\\n",
       "479                            Praia da Macumba Recreio   \n",
       "603                   Cozy room @ Copacabana - Posto 06   \n",
       "2056                Maracana - apartamento a 200 metros   \n",
       "19656  Mansão INCRÍVEL no meio da natureza para EVENTOS   \n",
       "661                   ótimo Quarto em Santa Teresa - RJ   \n",
       "89                    Apartamento Moderno e confortavel   \n",
       "14651                         Américas Copacabana Hotel   \n",
       "600                                            Vinicius   \n",
       "869                                        Ipanema  602   \n",
       "348                             BAND NEW APT COPACABANA   \n",
       "\n",
       "                                             description  \n",
       "479    <b>The space</b><br />Apartameno pequeno,1 Qto...  \n",
       "603    <b>The space</b><br />Excellent apartment near...  \n",
       "2056   Excelente apartamento a 200 metros do MARACANÃ...  \n",
       "19656                                                NaN  \n",
       "661    <b>The space</b><br />Casa ampla em Santa Tere...  \n",
       "89     Seja bem vindo a esse apartamento moderno, con...  \n",
       "14651                                                NaN  \n",
       "600    tarifa baixa temporada, mínimo 5 noites<br /><...  \n",
       "869    <b>The space</b><br />linen not included, on r...  \n",
       "348    <b>The space</b><br />APT JUST RENOVATED! ALL ...  "
      ]
     },
     "execution_count": 67,
     "metadata": {},
     "output_type": "execute_result"
    }
   ],
   "source": [
    "df_subset[~df_subset['bathrooms_text'].str.contains(r'bath[s]?', na = False)][['name','description']].sample(10, random_state=123)"
   ]
  },
  {
   "cell_type": "markdown",
   "metadata": {},
   "source": [
    "From the descriptions, it doesn't look like these are listings that don't have bathrooms. Imputing with some value might be more realistic.\\\n",
    "Also, there are not many listings without the number of bathrooms. It shouldn't impact us much"
   ]
  },
  {
   "cell_type": "markdown",
   "metadata": {},
   "source": [
    "After some inspections there are some key tokens that will be removed, for simplicity:\n",
    "\n",
    "- Bath(s)\n",
    "- Shared\n",
    "- Private"
   ]
  },
  {
   "cell_type": "code",
   "execution_count": 71,
   "metadata": {},
   "outputs": [
    {
     "data": {
      "text/plain": [
       "3156"
      ]
     },
     "execution_count": 71,
     "metadata": {},
     "output_type": "execute_result"
    }
   ],
   "source": [
    "df_subset['bathrooms_text'].str.contains('shared').sum()"
   ]
  },
  {
   "cell_type": "code",
   "execution_count": 87,
   "metadata": {},
   "outputs": [
    {
     "data": {
      "text/plain": [
       "1727"
      ]
     },
     "execution_count": 87,
     "metadata": {},
     "output_type": "execute_result"
    }
   ],
   "source": [
    "df_subset['bathrooms_text'].str.contains('private').sum()"
   ]
  },
  {
   "cell_type": "code",
   "execution_count": 91,
   "metadata": {},
   "outputs": [],
   "source": [
    "df_subset['bathrooms_text'] = df_subset['bathrooms_text'].str.replace(r'bath[s]?|shared|private','',case = False,regex = True)\\\n",
    "                                                            .str.strip()"
   ]
  },
  {
   "cell_type": "code",
   "execution_count": null,
   "metadata": {},
   "outputs": [
    {
     "data": {
      "text/plain": [
       "array(['half-', 'Half-'], dtype=object)"
      ]
     },
     "metadata": {},
     "output_type": "display_data"
    }
   ],
   "source": [
    "df_subset[(df_subset['bathrooms_text'].notnull()) & (df_subset['bathrooms_text'].str.contains(r'[A-Za-z]+', regex = True))]['bathrooms_text'].unique()"
   ]
  },
  {
   "cell_type": "code",
   "execution_count": 93,
   "metadata": {},
   "outputs": [],
   "source": [
    "df_subset['bathrooms_text'] = df_subset['bathrooms_text'].str.replace(r'half-','0.5',case = False,regex = True)\\\n",
    "                                                            .str.strip()"
   ]
  },
  {
   "cell_type": "code",
   "execution_count": 94,
   "metadata": {},
   "outputs": [
    {
     "data": {
      "text/plain": [
       "array([], dtype=object)"
      ]
     },
     "execution_count": 94,
     "metadata": {},
     "output_type": "execute_result"
    }
   ],
   "source": [
    "df_subset[(df_subset['bathrooms_text'].notnull()) & (df_subset['bathrooms_text'].str.contains(r'[A-Za-z]+', regex = True))]['bathrooms_text'].unique()"
   ]
  },
  {
   "cell_type": "code",
   "execution_count": null,
   "metadata": {},
   "outputs": [
    {
     "data": {
      "text/plain": [
       "array(['half-', 'Half-'], dtype=object)"
      ]
     },
     "metadata": {},
     "output_type": "display_data"
    }
   ],
   "source": [
    "df_subset[(df_subset['bathrooms_text'].notnull()) & (df_subset['bathrooms_text'].str.contains(r'[A-Za-z]+', regex = True))]['bathrooms_text'].unique()"
   ]
  },
  {
   "cell_type": "markdown",
   "metadata": {},
   "source": [
    "# Analysis"
   ]
  },
  {
   "cell_type": "markdown",
   "metadata": {},
   "source": [
    "## Amenities analysis\n",
    "\n",
    "- What are the most usual Amenities?\n",
    "    - Relative to total Amenities occurance\n",
    "    - Relative to total number of listings\n",
    "- What are the Amenities that might have the biggest price differences"
   ]
  },
  {
   "cell_type": "markdown",
   "metadata": {},
   "source": [
    "Let's create a quick pseudo-corpus for our data and see if we can keep only some key amenities or come up with other fixes.\\\n",
    "I'm specially interested in the Wifi amenity that contains internet speed. Wifi available or not should be counted regardless of speed. This, of course, excluding specific cases such as well-equipped, remote-work ready AirBnBs\\\n",
    "It's a pseudo corpus because we are keeping duplicated values. This will come in handy if when choosing to keep key amenities"
   ]
  },
  {
   "cell_type": "code",
   "execution_count": 22,
   "metadata": {},
   "outputs": [],
   "source": [
    "amenities_corpus = df_subset['amenities'].explode()"
   ]
  },
  {
   "cell_type": "code",
   "execution_count": 23,
   "metadata": {},
   "outputs": [
    {
     "name": "stdout",
     "output_type": "stream",
     "text": [
      "Unique Amenities:  3260\n"
     ]
    }
   ],
   "source": [
    "print('Unique Amenities: ',amenities_corpus.nunique())"
   ]
  },
  {
   "cell_type": "code",
   "execution_count": 24,
   "metadata": {},
   "outputs": [
    {
     "data": {
      "text/plain": [
       "401"
      ]
     },
     "execution_count": 24,
     "metadata": {},
     "output_type": "execute_result"
    }
   ],
   "source": [
    "# Looking specifically into wifi\n",
    "len(amenities_corpus[amenities_corpus.str.contains('wifi', case = False)].unique())"
   ]
  },
  {
   "cell_type": "code",
   "execution_count": 25,
   "metadata": {},
   "outputs": [
    {
     "data": {
      "text/plain": [
       "array(['Wifi', 'Wifi 30 Mbps', 'Pocket wifi', 'Wifi 28 Mbps',\n",
       "       'Fast wifi 101 Mbps', 'Fast wifi 663 Mbps', 'Fast wifi 55 Mbps',\n",
       "       'Fast wifi 157 Mbps', 'Fast wifi 66 Mbps', 'Fast wifi 542 Mbps',\n",
       "       'Fast wifi 413 Mbps', 'Fast wifi 136 Mbps', 'Fast wifi 52 Mbps',\n",
       "       'Fast wifi 543 Mbps', 'Wifi 18 Mbps', 'Fast wifi 286 Mbps',\n",
       "       'Fast wifi 155 Mbps', 'Fast wifi 159 Mbps', 'Wifi 23 Mbps',\n",
       "       'Fast wifi 94 Mbps', 'Wifi 4 Mbps', 'Wifi 6 Mbps',\n",
       "       'Fast wifi 409 Mbps', 'Fast wifi 248 Mbps', 'Fast wifi 463 Mbps',\n",
       "       'Fast wifi 60 Mbps', 'Fast wifi 82 Mbps', 'Fast wifi 235 Mbps',\n",
       "       'Fast wifi 124 Mbps', 'Wifi 42 Mbps', 'Fast wifi 341 Mbps',\n",
       "       'Fast wifi 340 Mbps', 'Fast wifi 238 Mbps', 'Fast wifi 259 Mbps',\n",
       "       'Moderno apartamento com WIFI conditioner', 'Fast wifi 112 Mbps',\n",
       "       'Wifi 34 Mbps', 'Fast wifi 194 Mbps', 'Fast wifi 334 Mbps',\n",
       "       'Wifi 41 Mbps', 'Fast wifi 119 Mbps', 'Fast wifi 224 Mbps',\n",
       "       'Fast wifi 163 Mbps', 'Fast wifi 293 Mbps', 'Fast wifi 171 Mbps',\n",
       "       'Fast wifi 172 Mbps', 'Wifi 31 Mbps', 'Fast wifi 83 Mbps',\n",
       "       'Wifi 37 Mbps', 'Wifi 20 Mbps', 'Fast wifi 95 Mbps',\n",
       "       'Fast wifi 319 Mbps', 'Fast wifi 53 Mbps', 'Wifi 12 Mbps',\n",
       "       'Fast wifi 270 Mbps', 'Wifi 13 Mbps', 'Wifi 29 Mbps',\n",
       "       'Fast wifi 311 Mbps', 'Fast wifi 121 Mbps', 'Fast wifi 476 Mbps',\n",
       "       'Fast wifi 390 Mbps', 'Wifi 36 Mbps', 'Fast wifi 425 Mbps',\n",
       "       'Fast wifi 282 Mbps', 'Fast wifi 143 Mbps', 'Wifi 5 Mbps',\n",
       "       'Fast wifi 56 Mbps', 'Fast wifi 57 Mbps', 'Fast wifi 162 Mbps',\n",
       "       'Fast wifi 596 Mbps', 'Wifi 10 Mbps', 'Fast wifi 125 Mbps',\n",
       "       'Fast wifi 102 Mbps', 'Wifi 47 Mbps', 'Fast wifi 377 Mbps',\n",
       "       'Fast wifi 555 Mbps', 'Wifi 19 Mbps', 'Wifi 9 Mbps',\n",
       "       'Wifi 46 Mbps', 'Fast wifi 78 Mbps', 'Fast wifi 234 Mbps',\n",
       "       'Wifi 15 Mbps', 'Fast wifi 87 Mbps', 'Wifi 24 Mbps',\n",
       "       'Fast wifi 100 Mbps', 'Fast wifi 164 Mbps', 'Fast wifi 346 Mbps',\n",
       "       'Fast wifi 526 Mbps', 'Fast wifi 167 Mbps', 'Wifi 45 Mbps',\n",
       "       'Fast wifi 327 Mbps', 'Wifi 38 Mbps', 'Fast wifi 343 Mbps',\n",
       "       'Fast wifi 68 Mbps', 'Fast wifi 251 Mbps', 'Fast wifi 369 Mbps',\n",
       "       'Wifi 32 Mbps', 'Fast wifi 80 Mbps', 'Fast wifi 62 Mbps',\n",
       "       'Fast wifi 58 Mbps', 'Wifi 26 Mbps', 'Fast wifi 146 Mbps',\n",
       "       'Fast wifi 388 Mbps', 'Fast wifi 178 Mbps', 'Fast wifi 380 Mbps',\n",
       "       'Fast wifi 206 Mbps', 'Fast wifi 120 Mbps', 'Fast wifi 223 Mbps',\n",
       "       'Wifi 11 Mbps', 'Fast wifi 199 Mbps', 'Fast wifi 323 Mbps',\n",
       "       'Fast wifi 586 Mbps', 'Fast wifi 357 Mbps', 'Fast wifi 246 Mbps',\n",
       "       'Fast wifi 342 Mbps', 'Fast wifi 88 Mbps', 'Fast wifi 570 Mbps',\n",
       "       'Fast wifi 328 Mbps', 'Wifi 14 Mbps', 'Fast wifi 315 Mbps',\n",
       "       'Fast wifi 72 Mbps', 'Fast wifi 73 Mbps', 'Wifi 17 Mbps',\n",
       "       'Fast wifi 70 Mbps', 'Wifi 39 Mbps', 'Wifi 16 Mbps',\n",
       "       'Fast wifi 350 Mbps', 'Fast wifi 338 Mbps', 'Fast wifi 168 Mbps',\n",
       "       'Fast wifi 448 Mbps', 'Wifi 7 Mbps', 'Fast wifi 354 Mbps',\n",
       "       'Fast wifi 148 Mbps', 'Fast wifi 408 Mbps', 'Fast wifi 261 Mbps',\n",
       "       'Fast wifi 273 Mbps', 'Fast wifi 394 Mbps', 'Wifi 25 Mbps',\n",
       "       'Fast wifi 92 Mbps', 'Fast wifi 538 Mbps', 'Fast wifi 540 Mbps',\n",
       "       'Fast wifi 310 Mbps', 'Fast wifi 50 Mbps', 'Fast wifi 189 Mbps',\n",
       "       'Fast wifi 107 Mbps', 'Fast wifi 54 Mbps', 'Fast wifi 230 Mbps',\n",
       "       'Fast wifi 356 Mbps', 'Fast wifi 237 Mbps', 'Fast wifi 233 Mbps',\n",
       "       'Fast wifi 287 Mbps', 'Fast wifi 93 Mbps', 'Fast wifi 51 Mbps',\n",
       "       'Wifi 48 Mbps', 'Fast wifi 299 Mbps', 'Fast wifi 191 Mbps',\n",
       "       'Fast wifi 371 Mbps', 'Fast wifi 363 Mbps', 'Wifi 27 Mbps',\n",
       "       'Fast wifi 384 Mbps', 'Fast wifi 103 Mbps', 'Fast wifi 289 Mbps',\n",
       "       'Fast wifi 64 Mbps', 'Fast wifi 550 Mbps', 'Wifi 8 Mbps',\n",
       "       'Fast wifi 604 Mbps', 'Fast wifi 98 Mbps', 'Fast wifi 467 Mbps',\n",
       "       'Fast wifi 304 Mbps', 'Fast wifi 381 Mbps', 'Fast wifi 531 Mbps',\n",
       "       'Fast wifi 226 Mbps', 'Fast wifi 426 Mbps', 'Fast wifi 177 Mbps',\n",
       "       'Fast wifi 90 Mbps', 'Fast wifi 137 Mbps', 'Fast wifi 305 Mbps',\n",
       "       'Fast wifi 272 Mbps', 'Fast wifi 105 Mbps', 'Fast wifi 528 Mbps',\n",
       "       'Fast wifi 208 Mbps', 'Fast wifi 515 Mbps', 'Fast wifi 529 Mbps',\n",
       "       'Fast wifi 114 Mbps', 'Wifi 33 Mbps', 'Fast wifi 218 Mbps',\n",
       "       'Fast wifi 176 Mbps', 'Wifi 21 Mbps', 'Fast wifi 345 Mbps',\n",
       "       'Fast wifi 115 Mbps', 'Fast wifi 605 Mbps', 'Fast wifi 589 Mbps',\n",
       "       'Fast wifi 267 Mbps', 'Fast wifi 67 Mbps', 'Fast wifi 353 Mbps',\n",
       "       'Fast wifi 59 Mbps', 'Fast wifi 523 Mbps', 'Fast wifi 244 Mbps',\n",
       "       'Fast wifi 329 Mbps', 'Fast wifi 207 Mbps', 'Fast wifi 118 Mbps',\n",
       "       'Wifi 3 Mbps', 'Fast wifi 417 Mbps', 'Fast wifi 65 Mbps',\n",
       "       'Fast wifi 156 Mbps', 'Wifi 2 Mbps', 'Fast wifi 440 Mbps',\n",
       "       'Fast wifi 559 Mbps', 'Fast wifi 63 Mbps', 'Fast wifi 205 Mbps',\n",
       "       'Fast wifi 477 Mbps', 'Fast wifi 134 Mbps', 'Wifi 40 Mbps',\n",
       "       'Fast wifi 201 Mbps', 'Fast wifi 198 Mbps', 'Wifi 22 Mbps',\n",
       "       'Fast wifi 379 Mbps', 'Fast wifi 122 Mbps', 'Fast wifi 165 Mbps',\n",
       "       'Fast wifi 257 Mbps', 'Fast wifi 104 Mbps', 'Fast wifi 202 Mbps',\n",
       "       'Fast wifi 332 Mbps', 'Fast wifi 321 Mbps', 'Wifi 49 Mbps',\n",
       "       'Fast wifi 229 Mbps', 'Fast wifi 434 Mbps', 'Fast wifi 290 Mbps',\n",
       "       'Fast wifi 260 Mbps', 'Fast wifi 296 Mbps', 'Fast wifi 294 Mbps',\n",
       "       'Fast wifi 141 Mbps', 'Fast wifi 422 Mbps', 'Fast wifi 554 Mbps',\n",
       "       'Fast wifi 303 Mbps', 'Fast wifi 322 Mbps', 'Fast wifi 316 Mbps',\n",
       "       'Fast wifi 442 Mbps', 'Fast wifi 200 Mbps', 'Fast wifi 81 Mbps',\n",
       "       'Fast wifi 262 Mbps', 'Wifi 44 Mbps', 'Fast wifi 318 Mbps',\n",
       "       'Fast wifi 215 Mbps', 'Fast wifi 79 Mbps', 'Fast wifi 175 Mbps',\n",
       "       'Fast wifi 317 Mbps', 'Fast wifi 275 Mbps', 'Fast wifi 76 Mbps',\n",
       "       'Fast wifi 527 Mbps', 'Fast wifi 546 Mbps', 'Fast wifi 268 Mbps',\n",
       "       'Fast wifi 85 Mbps', 'Fast wifi 337 Mbps', 'Fast wifi 271 Mbps',\n",
       "       'Fast wifi 326 Mbps', 'Fast wifi 300 Mbps', 'Fast wifi 220 Mbps',\n",
       "       'Fast wifi 333 Mbps', 'Fast wifi 212 Mbps', 'Fast wifi 297 Mbps',\n",
       "       'Fast wifi 263 Mbps', 'Fast wifi 86 Mbps', 'Fast wifi 195 Mbps',\n",
       "       'Fast wifi 302 Mbps', 'Fast wifi 250 Mbps', 'Fast wifi 464 Mbps',\n",
       "       'Fast wifi 117 Mbps', 'Fast wifi 330 Mbps', 'Free wifi',\n",
       "       'Fast wifi 174 Mbps', 'Fast wifi 152 Mbps', 'Fast wifi 249 Mbps',\n",
       "       'Fast wifi 204 Mbps', 'Fast wifi 203 Mbps', 'Fast wifi 113 Mbps',\n",
       "       'Fast wifi 245 Mbps', 'Fast wifi 192 Mbps', 'Fast wifi 131 Mbps',\n",
       "       'Fast wifi 418 Mbps', 'Fast wifi 466 Mbps', 'Wifi 35 Mbps',\n",
       "       'Fast wifi 77 Mbps', 'Fast wifi 364 Mbps', 'Fast wifi 453 Mbps',\n",
       "       'Fast wifi 242 Mbps', 'Fast wifi 411 Mbps', 'Fast wifi 140 Mbps',\n",
       "       'Fast wifi 209 Mbps', 'Fast wifi 336 Mbps', 'Fast wifi 284 Mbps',\n",
       "       'Fast wifi 460 Mbps', 'Wifi 43 Mbps', 'Fast wifi 405 Mbps',\n",
       "       'Fast wifi 187 Mbps', 'Fast wifi 110 Mbps', 'Fast wifi 91 Mbps',\n",
       "       'Fast wifi 308 Mbps', 'Fast wifi 210 Mbps', 'Fast wifi 645 Mbps',\n",
       "       'Fast wifi 216 Mbps', 'Fast wifi 291 Mbps', 'Fast wifi 129 Mbps',\n",
       "       'Fast wifi 445 Mbps', 'Fast wifi 517 Mbps', 'Fast wifi 269 Mbps',\n",
       "       'Fast wifi 161 Mbps', 'Fast wifi 252 Mbps', 'Fast wifi 74 Mbps',\n",
       "       'Fast wifi 348 Mbps', 'Fast wifi 320 Mbps', 'Fast wifi 219 Mbps',\n",
       "       'Fast wifi 500 Mbps', 'Fast wifi 256 Mbps', 'Fast wifi 360 Mbps',\n",
       "       'Fast wifi 349 Mbps', 'Fast wifi 106 Mbps', 'Fast wifi 280 Mbps',\n",
       "       'Fast wifi 421 Mbps', 'Fast wifi 69 Mbps', 'Fast wifi 71 Mbps',\n",
       "       'Fast wifi 149 Mbps', 'Fast wifi 99 Mbps', 'Fast wifi 382 Mbps',\n",
       "       'Fast wifi 184 Mbps', 'Fast wifi 295 Mbps', 'Fast wifi 240 Mbps',\n",
       "       'Fast wifi 169 Mbps', 'Fast wifi 469 Mbps', 'Fast wifi 298 Mbps',\n",
       "       'Fast wifi 432 Mbps', 'Fast wifi 489 Mbps', 'Fast wifi 324 Mbps',\n",
       "       'Fast wifi 197 Mbps', 'Fast wifi 485 Mbps', 'Fast wifi 89 Mbps',\n",
       "       'Fast wifi 406 Mbps', 'Fast wifi 61 Mbps', 'Fast wifi 96 Mbps',\n",
       "       'Fast wifi 361 Mbps', 'Fast wifi 153 Mbps', 'Fast wifi 84 Mbps',\n",
       "       'Fast wifi 625 Mbps', 'Fast wifi 307 Mbps', 'Fast wifi 283 Mbps',\n",
       "       'Fast wifi 254 Mbps', 'Fast wifi 128 Mbps', 'Fast wifi 247 Mbps',\n",
       "       'Fast wifi 479 Mbps', 'Fast wifi 292 Mbps', 'Fast wifi 437 Mbps',\n",
       "       'Wifi 1 Mbps', 'Fast wifi 455 Mbps', 'Fast wifi 190 Mbps',\n",
       "       'Fast wifi 312 Mbps', 'Fast wifi 180 Mbps', 'Fast wifi 347 Mbps',\n",
       "       'Fast wifi 108 Mbps', 'Fast wifi 214 Mbps', 'Fast wifi 301 Mbps',\n",
       "       'Fast wifi 587 Mbps', 'Fast wifi 339 Mbps', 'Fast wifi 502 Mbps',\n",
       "       'Fast wifi 222 Mbps', 'Fast wifi 183 Mbps', 'Fast wifi 154 Mbps',\n",
       "       'Fast wifi 211 Mbps', 'Fast wifi 545 Mbps', 'Fast wifi 225 Mbps',\n",
       "       'Fast wifi 457 Mbps', 'Fast wifi 352 Mbps', 'Fast wifi 438 Mbps',\n",
       "       'Fast wifi 331 Mbps', 'Fast wifi 400 Mbps', 'Fast wifi 373 Mbps',\n",
       "       'Fast wifi 306 Mbps', 'Fast wifi 441 Mbps', 'Fast wifi 397 Mbps',\n",
       "       'Fast wifi 493 Mbps', 'Fast wifi 151 Mbps', 'Fast wifi 173 Mbps',\n",
       "       'Fast wifi 253 Mbps', 'Fast wifi 147 Mbps', 'Fast wifi 231 Mbps',\n",
       "       'Fast wifi 255 Mbps', 'Fast wifi 367 Mbps', 'Fast wifi 391 Mbps',\n",
       "       'Fast wifi 277 Mbps', 'Fast wifi 144 Mbps', 'Fast wifi 97 Mbps',\n",
       "       'Fast wifi 150 Mbps', 'Fast wifi 387 Mbps', 'Fast wifi 309 Mbps',\n",
       "       'Fast wifi 213 Mbps', 'Fast wifi 145 Mbps', 'Fast wifi 450 Mbps',\n",
       "       'Fast wifi 75 Mbps', 'Fast wifi 279 Mbps', 'Fast wifi 368 Mbps',\n",
       "       'Fast wifi 344 Mbps', 'Fast wifi 274 Mbps'], dtype=object)"
      ]
     },
     "execution_count": 25,
     "metadata": {},
     "output_type": "execute_result"
    }
   ],
   "source": [
    "amenities_corpus[amenities_corpus.str.contains('wifi', case = False)].unique()"
   ]
  },
  {
   "cell_type": "markdown",
   "metadata": {},
   "source": [
    "There are a lot of possible entries for wifi, we'll replace them all for simplicity.\\\n",
    "Will do it in two categories: Fast and Regular Wifi"
   ]
  },
  {
   "cell_type": "code",
   "execution_count": 26,
   "metadata": {},
   "outputs": [],
   "source": [
    "reg_wifi_pat = r'(?<!Fast\\s)wifi'\n",
    "\n",
    "fast_wifi_pat = r'(?<=Fast\\s)wifi'"
   ]
  },
  {
   "cell_type": "code",
   "execution_count": 27,
   "metadata": {},
   "outputs": [],
   "source": [
    "reg_wifi_repl_str = '|'.join(amenities_corpus[amenities_corpus.str.contains(reg_wifi_pat, case = False)].unique())\n",
    "\n",
    "fast_wifi_repl_str = '|'.join(amenities_corpus[amenities_corpus.str.contains(fast_wifi_pat, case = False)].unique())"
   ]
  },
  {
   "cell_type": "code",
   "execution_count": 28,
   "metadata": {},
   "outputs": [],
   "source": [
    "amenities_corpus = amenities_corpus.str.replace(reg_wifi_repl_str,'Wifi', regex = True)\\\n",
    "                                    .str.replace(fast_wifi_repl_str,'Fast Wifi', regex = True)"
   ]
  },
  {
   "cell_type": "code",
   "execution_count": 29,
   "metadata": {},
   "outputs": [
    {
     "name": "stdout",
     "output_type": "stream",
     "text": [
      "Unique Amenities:  2910\n"
     ]
    }
   ],
   "source": [
    "print('Unique Amenities: ',amenities_corpus.nunique())"
   ]
  },
  {
   "cell_type": "code",
   "execution_count": 30,
   "metadata": {},
   "outputs": [
    {
     "data": {
      "text/plain": [
       "Wifi                                                          23836\n",
       "Kitchen                                                       23760\n",
       "Long term stays allowed                                       23165\n",
       "Essentials                                                    20214\n",
       "Hangers                                                       17093\n",
       "                                                              ...  \n",
       "Alexa Amazon sound system                                         1\n",
       "Nivea hidratante body soap                                        1\n",
       "Lux Ledquido body soap                                            1\n",
       "Ne3o e9 um foge3o e9 um fogareiro ele9trico electric stove        1\n",
       "c0 de9finir shampoo                                               1\n",
       "Name: amenities, Length: 2910, dtype: int64"
      ]
     },
     "execution_count": 30,
     "metadata": {},
     "output_type": "execute_result"
    }
   ],
   "source": [
    "# Início do Pareto - Selecionar apenas amenities relevantes e mantelas como features\n",
    "amenities_corpus.value_counts()"
   ]
  },
  {
   "cell_type": "code",
   "execution_count": 37,
   "metadata": {},
   "outputs": [],
   "source": [
    "amenities_pareto = amenities_corpus.value_counts().to_frame()"
   ]
  },
  {
   "cell_type": "code",
   "execution_count": 39,
   "metadata": {},
   "outputs": [],
   "source": [
    "amenities_pareto.rename(columns = {'amenities':'count'}, inplace = True)"
   ]
  },
  {
   "cell_type": "code",
   "execution_count": 43,
   "metadata": {},
   "outputs": [],
   "source": [
    "amenities_pareto['proportion'] = amenities_pareto['count'] / amenities_pareto['count'].sum()"
   ]
  },
  {
   "cell_type": "code",
   "execution_count": 48,
   "metadata": {},
   "outputs": [],
   "source": [
    "amenities_pareto['cum_proportion'] = amenities_pareto['proportion'].cumsum()"
   ]
  },
  {
   "cell_type": "code",
   "execution_count": 49,
   "metadata": {},
   "outputs": [
    {
     "data": {
      "text/html": [
       "<div>\n",
       "<style scoped>\n",
       "    .dataframe tbody tr th:only-of-type {\n",
       "        vertical-align: middle;\n",
       "    }\n",
       "\n",
       "    .dataframe tbody tr th {\n",
       "        vertical-align: top;\n",
       "    }\n",
       "\n",
       "    .dataframe thead th {\n",
       "        text-align: right;\n",
       "    }\n",
       "</style>\n",
       "<table border=\"1\" class=\"dataframe\">\n",
       "  <thead>\n",
       "    <tr style=\"text-align: right;\">\n",
       "      <th></th>\n",
       "      <th>count</th>\n",
       "      <th>proportion</th>\n",
       "      <th>cum_proportion</th>\n",
       "    </tr>\n",
       "  </thead>\n",
       "  <tbody>\n",
       "    <tr>\n",
       "      <th>Wifi</th>\n",
       "      <td>23836</td>\n",
       "      <td>0.040812</td>\n",
       "      <td>0.040812</td>\n",
       "    </tr>\n",
       "    <tr>\n",
       "      <th>Kitchen</th>\n",
       "      <td>23760</td>\n",
       "      <td>0.040682</td>\n",
       "      <td>0.081493</td>\n",
       "    </tr>\n",
       "    <tr>\n",
       "      <th>Long term stays allowed</th>\n",
       "      <td>23165</td>\n",
       "      <td>0.039663</td>\n",
       "      <td>0.121156</td>\n",
       "    </tr>\n",
       "    <tr>\n",
       "      <th>Essentials</th>\n",
       "      <td>20214</td>\n",
       "      <td>0.034610</td>\n",
       "      <td>0.155767</td>\n",
       "    </tr>\n",
       "    <tr>\n",
       "      <th>Hangers</th>\n",
       "      <td>17093</td>\n",
       "      <td>0.029266</td>\n",
       "      <td>0.185033</td>\n",
       "    </tr>\n",
       "    <tr>\n",
       "      <th>...</th>\n",
       "      <td>...</td>\n",
       "      <td>...</td>\n",
       "      <td>...</td>\n",
       "    </tr>\n",
       "    <tr>\n",
       "      <th>Alexa Amazon sound system</th>\n",
       "      <td>1</td>\n",
       "      <td>0.000002</td>\n",
       "      <td>0.999993</td>\n",
       "    </tr>\n",
       "    <tr>\n",
       "      <th>Nivea hidratante body soap</th>\n",
       "      <td>1</td>\n",
       "      <td>0.000002</td>\n",
       "      <td>0.999995</td>\n",
       "    </tr>\n",
       "    <tr>\n",
       "      <th>Lux Ledquido body soap</th>\n",
       "      <td>1</td>\n",
       "      <td>0.000002</td>\n",
       "      <td>0.999997</td>\n",
       "    </tr>\n",
       "    <tr>\n",
       "      <th>Ne3o e9 um foge3o e9 um fogareiro ele9trico electric stove</th>\n",
       "      <td>1</td>\n",
       "      <td>0.000002</td>\n",
       "      <td>0.999998</td>\n",
       "    </tr>\n",
       "    <tr>\n",
       "      <th>c0 de9finir shampoo</th>\n",
       "      <td>1</td>\n",
       "      <td>0.000002</td>\n",
       "      <td>1.000000</td>\n",
       "    </tr>\n",
       "  </tbody>\n",
       "</table>\n",
       "<p>2910 rows × 3 columns</p>\n",
       "</div>"
      ],
      "text/plain": [
       "                                                    count  proportion  \\\n",
       "Wifi                                                23836    0.040812   \n",
       "Kitchen                                             23760    0.040682   \n",
       "Long term stays allowed                             23165    0.039663   \n",
       "Essentials                                          20214    0.034610   \n",
       "Hangers                                             17093    0.029266   \n",
       "...                                                   ...         ...   \n",
       "Alexa Amazon sound system                               1    0.000002   \n",
       "Nivea hidratante body soap                              1    0.000002   \n",
       "Lux Ledquido body soap                                  1    0.000002   \n",
       "Ne3o e9 um foge3o e9 um fogareiro ele9trico ele...      1    0.000002   \n",
       "c0 de9finir shampoo                                     1    0.000002   \n",
       "\n",
       "                                                    cum_proportion  \n",
       "Wifi                                                      0.040812  \n",
       "Kitchen                                                   0.081493  \n",
       "Long term stays allowed                                   0.121156  \n",
       "Essentials                                                0.155767  \n",
       "Hangers                                                   0.185033  \n",
       "...                                                            ...  \n",
       "Alexa Amazon sound system                                 0.999993  \n",
       "Nivea hidratante body soap                                0.999995  \n",
       "Lux Ledquido body soap                                    0.999997  \n",
       "Ne3o e9 um foge3o e9 um fogareiro ele9trico ele...        0.999998  \n",
       "c0 de9finir shampoo                                       1.000000  \n",
       "\n",
       "[2910 rows x 3 columns]"
      ]
     },
     "execution_count": 49,
     "metadata": {},
     "output_type": "execute_result"
    }
   ],
   "source": [
    "amenities_pareto"
   ]
  },
  {
   "cell_type": "markdown",
   "metadata": {},
   "source": []
  },
  {
   "cell_type": "code",
   "execution_count": null,
   "metadata": {},
   "outputs": [],
   "source": []
  },
  {
   "cell_type": "code",
   "execution_count": null,
   "metadata": {},
   "outputs": [],
   "source": []
  },
  {
   "cell_type": "code",
   "execution_count": 32,
   "metadata": {},
   "outputs": [
    {
     "data": {
      "text/plain": [
       "(26366, 75)"
      ]
     },
     "execution_count": 32,
     "metadata": {},
     "output_type": "execute_result"
    }
   ],
   "source": [
    "df.shape[0]"
   ]
  },
  {
   "cell_type": "code",
   "execution_count": null,
   "metadata": {},
   "outputs": [],
   "source": []
  },
  {
   "cell_type": "code",
   "execution_count": null,
   "metadata": {},
   "outputs": [],
   "source": []
  },
  {
   "cell_type": "code",
   "execution_count": null,
   "metadata": {},
   "outputs": [],
   "source": []
  },
  {
   "cell_type": "code",
   "execution_count": 148,
   "metadata": {},
   "outputs": [
    {
     "data": {
      "text/plain": [
       "<AxesSubplot:>"
      ]
     },
     "execution_count": 148,
     "metadata": {},
     "output_type": "execute_result"
    },
    {
     "data": {
      "image/png": "[encoded data removed]",
      "text/plain": [
       "<Figure size 432x288 with 1 Axes>"
      ]
     },
     "metadata": {
      "needs_background": "light"
     },
     "output_type": "display_data"
    }
   ],
   "source": [
    "amenities_corpus.value_counts()"
   ]
  },
  {
   "cell_type": "markdown",
   "metadata": {},
   "source": [
    "The type is correct. But it looks like some tokens have whitespaces"
   ]
  },
  {
   "cell_type": "code",
   "execution_count": null,
   "metadata": {},
   "outputs": [],
   "source": [
    "df_subset['ameni']"
   ]
  },
  {
   "cell_type": "code",
   "execution_count": null,
   "metadata": {},
   "outputs": [],
   "source": []
  },
  {
   "cell_type": "code",
   "execution_count": 86,
   "metadata": {},
   "outputs": [
    {
     "data": {
      "text/plain": [
       "0        [\n",
       "1        [\n",
       "2        [\n",
       "3        [\n",
       "4        [\n",
       "        ..\n",
       "26361    [\n",
       "26362    [\n",
       "26363    [\n",
       "26364    [\n",
       "26365    [\n",
       "Name: amenities, Length: 26366, dtype: object"
      ]
     },
     "execution_count": 86,
     "metadata": {},
     "output_type": "execute_result"
    }
   ],
   "source": [
    "df_subset['amenities'].str[0]"
   ]
  },
  {
   "cell_type": "code",
   "execution_count": null,
   "metadata": {},
   "outputs": [],
   "source": []
  },
  {
   "cell_type": "code",
   "execution_count": 79,
   "metadata": {},
   "outputs": [
    {
     "data": {
      "text/plain": [
       "0        [\"Air conditioning\", \"Washer\", \"Security camer...\n",
       "1        [\"Cable TV\", \"Air conditioning\", \"Fire extingu...\n",
       "2        [\"Cable TV\", \"Air conditioning\", \"Hair dryer\",...\n",
       "3        [\"Single level home\", \"Wifi \\u2013 30 Mbps\", \"...\n",
       "4        [\"Air conditioning\", \"First aid kit\", \"Iron\", ...\n",
       "                               ...                        \n",
       "26361    [\"Air conditioning\", \"Iron\", \"Microwave\", \"Din...\n",
       "26362    [\"Air conditioning\", \"Hangers\", \"Dedicated wor...\n",
       "26363    [\"Air conditioning\", \"Fire extinguisher\", \"Wif...\n",
       "26364    [\"Stainless steel oven\", \"Dedicated workspace\"...\n",
       "26365    [\"Dryer\", \"Free street parking\", \"Iron\", \"Esse...\n",
       "Name: amenities, Length: 26366, dtype: object"
      ]
     },
     "execution_count": 79,
     "metadata": {},
     "output_type": "execute_result"
    }
   ],
   "source": [
    "df_subset['amenities']"
   ]
  },
  {
   "cell_type": "code",
   "execution_count": null,
   "metadata": {},
   "outputs": [],
   "source": []
  },
  {
   "cell_type": "code",
   "execution_count": null,
   "metadata": {},
   "outputs": [],
   "source": []
  },
  {
   "cell_type": "code",
   "execution_count": null,
   "metadata": {},
   "outputs": [],
   "source": []
  }
 ],
 "metadata": {
  "kernelspec": {
   "display_name": "Python 3.9.7 ('base')",
   "language": "python",
   "name": "python3"
  },
  "language_info": {
   "codemirror_mode": {
    "name": "ipython",
    "version": 3
   },
   "file_extension": ".py",
   "mimetype": "text/x-python",
   "name": "python",
   "nbconvert_exporter": "python",
   "pygments_lexer": "ipython3",
   "version": "3.9.7"
  },
  "orig_nbformat": 4,
  "vscode": {
   "interpreter": {
    "hash": "7b78f899e070e48e38aa75d1493fbada7414d17ff77eb157a11c0b7b411187e8"
   }
  }
 },
 "nbformat": 4,
 "nbformat_minor": 2
}
