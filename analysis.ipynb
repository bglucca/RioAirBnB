{
 "cells": [
  {
   "cell_type": "markdown",
   "metadata": {},
   "source": [
    "- What Amenities show a bigger price difference?\n",
    "- Do \"better\" hosts charge more?\n",
    "- What are the city areas with the highest/ lower average prices? Is that related to different listing characteristics?"
   ]
  },
  {
   "cell_type": "code",
   "execution_count": 1,
   "metadata": {},
   "outputs": [],
   "source": [
    "import pandas as pd\n",
    "import numpy as np\n",
    "\n",
    "import re\n",
    "\n",
    "import os\n",
    "\n",
    "import matplotlib.pyplot as plt\n",
    "import seaborn as sns"
   ]
  },
  {
   "cell_type": "code",
   "execution_count": 2,
   "metadata": {},
   "outputs": [],
   "source": [
    "sns.set(rc={\"figure.figsize\":(15, 10)})"
   ]
  },
  {
   "cell_type": "code",
   "execution_count": 3,
   "metadata": {},
   "outputs": [],
   "source": [
    "df = pd.read_csv('data/listings.csv.gz', compression='gzip')"
   ]
  },
  {
   "cell_type": "code",
   "execution_count": 4,
   "metadata": {},
   "outputs": [
    {
     "data": {
      "text/html": [
       "<div>\n",
       "<style scoped>\n",
       "    .dataframe tbody tr th:only-of-type {\n",
       "        vertical-align: middle;\n",
       "    }\n",
       "\n",
       "    .dataframe tbody tr th {\n",
       "        vertical-align: top;\n",
       "    }\n",
       "\n",
       "    .dataframe thead th {\n",
       "        text-align: right;\n",
       "    }\n",
       "</style>\n",
       "<table border=\"1\" class=\"dataframe\">\n",
       "  <thead>\n",
       "    <tr style=\"text-align: right;\">\n",
       "      <th></th>\n",
       "      <th>id</th>\n",
       "      <th>listing_url</th>\n",
       "      <th>scrape_id</th>\n",
       "      <th>last_scraped</th>\n",
       "      <th>source</th>\n",
       "      <th>name</th>\n",
       "      <th>description</th>\n",
       "      <th>neighborhood_overview</th>\n",
       "      <th>picture_url</th>\n",
       "      <th>host_id</th>\n",
       "      <th>host_url</th>\n",
       "      <th>host_name</th>\n",
       "      <th>host_since</th>\n",
       "      <th>host_location</th>\n",
       "      <th>host_about</th>\n",
       "      <th>host_response_time</th>\n",
       "      <th>host_response_rate</th>\n",
       "      <th>host_acceptance_rate</th>\n",
       "      <th>host_is_superhost</th>\n",
       "      <th>host_thumbnail_url</th>\n",
       "      <th>host_picture_url</th>\n",
       "      <th>host_neighbourhood</th>\n",
       "      <th>host_listings_count</th>\n",
       "      <th>host_total_listings_count</th>\n",
       "      <th>host_verifications</th>\n",
       "      <th>host_has_profile_pic</th>\n",
       "      <th>host_identity_verified</th>\n",
       "      <th>neighbourhood</th>\n",
       "      <th>neighbourhood_cleansed</th>\n",
       "      <th>neighbourhood_group_cleansed</th>\n",
       "      <th>latitude</th>\n",
       "      <th>longitude</th>\n",
       "      <th>property_type</th>\n",
       "      <th>room_type</th>\n",
       "      <th>accommodates</th>\n",
       "      <th>bathrooms</th>\n",
       "      <th>bathrooms_text</th>\n",
       "      <th>bedrooms</th>\n",
       "      <th>beds</th>\n",
       "      <th>amenities</th>\n",
       "      <th>price</th>\n",
       "      <th>minimum_nights</th>\n",
       "      <th>maximum_nights</th>\n",
       "      <th>minimum_minimum_nights</th>\n",
       "      <th>maximum_minimum_nights</th>\n",
       "      <th>minimum_maximum_nights</th>\n",
       "      <th>maximum_maximum_nights</th>\n",
       "      <th>minimum_nights_avg_ntm</th>\n",
       "      <th>maximum_nights_avg_ntm</th>\n",
       "      <th>calendar_updated</th>\n",
       "      <th>has_availability</th>\n",
       "      <th>availability_30</th>\n",
       "      <th>availability_60</th>\n",
       "      <th>availability_90</th>\n",
       "      <th>availability_365</th>\n",
       "      <th>calendar_last_scraped</th>\n",
       "      <th>number_of_reviews</th>\n",
       "      <th>number_of_reviews_ltm</th>\n",
       "      <th>number_of_reviews_l30d</th>\n",
       "      <th>first_review</th>\n",
       "      <th>last_review</th>\n",
       "      <th>review_scores_rating</th>\n",
       "      <th>review_scores_accuracy</th>\n",
       "      <th>review_scores_cleanliness</th>\n",
       "      <th>review_scores_checkin</th>\n",
       "      <th>review_scores_communication</th>\n",
       "      <th>review_scores_location</th>\n",
       "      <th>review_scores_value</th>\n",
       "      <th>license</th>\n",
       "      <th>instant_bookable</th>\n",
       "      <th>calculated_host_listings_count</th>\n",
       "      <th>calculated_host_listings_count_entire_homes</th>\n",
       "      <th>calculated_host_listings_count_private_rooms</th>\n",
       "      <th>calculated_host_listings_count_shared_rooms</th>\n",
       "      <th>reviews_per_month</th>\n",
       "    </tr>\n",
       "  </thead>\n",
       "  <tbody>\n",
       "    <tr>\n",
       "      <th>0</th>\n",
       "      <td>53344884</td>\n",
       "      <td>https://www.airbnb.com/rooms/53344884</td>\n",
       "      <td>20220921172238</td>\n",
       "      <td>2022-09-22</td>\n",
       "      <td>city scrape</td>\n",
       "      <td>Suntuoso apartamento em Copacabana posto 6</td>\n",
       "      <td>suntuoso apartamento de frente para o mar &lt;br ...</td>\n",
       "      <td>NaN</td>\n",
       "      <td>https://a0.muscache.com/pictures/miso/Hosting-...</td>\n",
       "      <td>431412286</td>\n",
       "      <td>https://www.airbnb.com/users/show/431412286</td>\n",
       "      <td>Carlos Henrique</td>\n",
       "      <td>2021-11-11</td>\n",
       "      <td>NaN</td>\n",
       "      <td>NaN</td>\n",
       "      <td>within an hour</td>\n",
       "      <td>100%</td>\n",
       "      <td>100%</td>\n",
       "      <td>f</td>\n",
       "      <td>https://a0.muscache.com/im/pictures/user/f4bec...</td>\n",
       "      <td>https://a0.muscache.com/im/pictures/user/f4bec...</td>\n",
       "      <td>NaN</td>\n",
       "      <td>10.0</td>\n",
       "      <td>10.0</td>\n",
       "      <td>['email', 'phone']</td>\n",
       "      <td>t</td>\n",
       "      <td>t</td>\n",
       "      <td>NaN</td>\n",
       "      <td>Copacabana</td>\n",
       "      <td>NaN</td>\n",
       "      <td>-22.98299</td>\n",
       "      <td>-43.18904</td>\n",
       "      <td>Entire condo</td>\n",
       "      <td>Entire home/apt</td>\n",
       "      <td>6</td>\n",
       "      <td>NaN</td>\n",
       "      <td>4.5 baths</td>\n",
       "      <td>3.0</td>\n",
       "      <td>5.0</td>\n",
       "      <td>[\"Air conditioning\", \"Washer\", \"Security camer...</td>\n",
       "      <td>$3,500.00</td>\n",
       "      <td>3</td>\n",
       "      <td>365</td>\n",
       "      <td>3</td>\n",
       "      <td>3</td>\n",
       "      <td>365</td>\n",
       "      <td>365</td>\n",
       "      <td>3.0</td>\n",
       "      <td>365.0</td>\n",
       "      <td>NaN</td>\n",
       "      <td>t</td>\n",
       "      <td>30</td>\n",
       "      <td>60</td>\n",
       "      <td>90</td>\n",
       "      <td>365</td>\n",
       "      <td>2022-09-22</td>\n",
       "      <td>0</td>\n",
       "      <td>0</td>\n",
       "      <td>0</td>\n",
       "      <td>NaN</td>\n",
       "      <td>NaN</td>\n",
       "      <td>NaN</td>\n",
       "      <td>NaN</td>\n",
       "      <td>NaN</td>\n",
       "      <td>NaN</td>\n",
       "      <td>NaN</td>\n",
       "      <td>NaN</td>\n",
       "      <td>NaN</td>\n",
       "      <td>NaN</td>\n",
       "      <td>t</td>\n",
       "      <td>10</td>\n",
       "      <td>8</td>\n",
       "      <td>2</td>\n",
       "      <td>0</td>\n",
       "      <td>NaN</td>\n",
       "    </tr>\n",
       "    <tr>\n",
       "      <th>1</th>\n",
       "      <td>7801456</td>\n",
       "      <td>https://www.airbnb.com/rooms/7801456</td>\n",
       "      <td>20220921172238</td>\n",
       "      <td>2022-09-22</td>\n",
       "      <td>city scrape</td>\n",
       "      <td>Ipanema Vieira Souto - Linda Vista</td>\n",
       "      <td>Flat luxuoso com a melhor localização do Rio d...</td>\n",
       "      <td>Ipanema é considerado o berço do rio, cheio de...</td>\n",
       "      <td>https://a0.muscache.com/pictures/99276394/dc9c...</td>\n",
       "      <td>40650139</td>\n",
       "      <td>https://www.airbnb.com/users/show/40650139</td>\n",
       "      <td>Carlos Alberto</td>\n",
       "      <td>2015-08-05</td>\n",
       "      <td>Rio de Janeiro, Brazil</td>\n",
       "      <td>22 anos, Brasileiro, Solteiro, residencia fixa...</td>\n",
       "      <td>a few days or more</td>\n",
       "      <td>13%</td>\n",
       "      <td>100%</td>\n",
       "      <td>f</td>\n",
       "      <td>https://a0.muscache.com/im/users/40650139/prof...</td>\n",
       "      <td>https://a0.muscache.com/im/users/40650139/prof...</td>\n",
       "      <td>Ipanema</td>\n",
       "      <td>6.0</td>\n",
       "      <td>6.0</td>\n",
       "      <td>['email', 'phone']</td>\n",
       "      <td>t</td>\n",
       "      <td>t</td>\n",
       "      <td>Rio de Janeiro, Brazil</td>\n",
       "      <td>Ipanema</td>\n",
       "      <td>NaN</td>\n",
       "      <td>-22.98723</td>\n",
       "      <td>-43.20452</td>\n",
       "      <td>Entire serviced apartment</td>\n",
       "      <td>Entire home/apt</td>\n",
       "      <td>4</td>\n",
       "      <td>NaN</td>\n",
       "      <td>2 baths</td>\n",
       "      <td>2.0</td>\n",
       "      <td>3.0</td>\n",
       "      <td>[\"Cable TV\", \"Air conditioning\", \"Fire extingu...</td>\n",
       "      <td>$5,000.00</td>\n",
       "      <td>2</td>\n",
       "      <td>900</td>\n",
       "      <td>2</td>\n",
       "      <td>2</td>\n",
       "      <td>900</td>\n",
       "      <td>900</td>\n",
       "      <td>2.0</td>\n",
       "      <td>900.0</td>\n",
       "      <td>NaN</td>\n",
       "      <td>t</td>\n",
       "      <td>30</td>\n",
       "      <td>60</td>\n",
       "      <td>90</td>\n",
       "      <td>365</td>\n",
       "      <td>2022-09-22</td>\n",
       "      <td>0</td>\n",
       "      <td>0</td>\n",
       "      <td>0</td>\n",
       "      <td>NaN</td>\n",
       "      <td>NaN</td>\n",
       "      <td>NaN</td>\n",
       "      <td>NaN</td>\n",
       "      <td>NaN</td>\n",
       "      <td>NaN</td>\n",
       "      <td>NaN</td>\n",
       "      <td>NaN</td>\n",
       "      <td>NaN</td>\n",
       "      <td>NaN</td>\n",
       "      <td>t</td>\n",
       "      <td>5</td>\n",
       "      <td>5</td>\n",
       "      <td>0</td>\n",
       "      <td>0</td>\n",
       "      <td>NaN</td>\n",
       "    </tr>\n",
       "    <tr>\n",
       "      <th>2</th>\n",
       "      <td>14333905</td>\n",
       "      <td>https://www.airbnb.com/rooms/14333905</td>\n",
       "      <td>20220921172238</td>\n",
       "      <td>2022-09-22</td>\n",
       "      <td>city scrape</td>\n",
       "      <td>Casa compartilhada</td>\n",
       "      <td>A 15 min. do complexo esportivo de Deodoro, Ca...</td>\n",
       "      <td>NaN</td>\n",
       "      <td>https://a0.muscache.com/pictures/15235501-16c4...</td>\n",
       "      <td>87749071</td>\n",
       "      <td>https://www.airbnb.com/users/show/87749071</td>\n",
       "      <td>Lindenberg</td>\n",
       "      <td>2016-08-03</td>\n",
       "      <td>Rio de Janeiro, Brazil</td>\n",
       "      <td>NaN</td>\n",
       "      <td>NaN</td>\n",
       "      <td>NaN</td>\n",
       "      <td>NaN</td>\n",
       "      <td>f</td>\n",
       "      <td>https://a0.muscache.com/im/pictures/user/409ec...</td>\n",
       "      <td>https://a0.muscache.com/im/pictures/user/409ec...</td>\n",
       "      <td>NaN</td>\n",
       "      <td>1.0</td>\n",
       "      <td>1.0</td>\n",
       "      <td>['email', 'phone']</td>\n",
       "      <td>t</td>\n",
       "      <td>f</td>\n",
       "      <td>NaN</td>\n",
       "      <td>Pavuna</td>\n",
       "      <td>NaN</td>\n",
       "      <td>-22.80869</td>\n",
       "      <td>-43.38642</td>\n",
       "      <td>Entire home</td>\n",
       "      <td>Entire home/apt</td>\n",
       "      <td>12</td>\n",
       "      <td>NaN</td>\n",
       "      <td>1 bath</td>\n",
       "      <td>2.0</td>\n",
       "      <td>4.0</td>\n",
       "      <td>[\"Cable TV\", \"Air conditioning\", \"Hair dryer\",...</td>\n",
       "      <td>$681.00</td>\n",
       "      <td>1</td>\n",
       "      <td>1125</td>\n",
       "      <td>1</td>\n",
       "      <td>1</td>\n",
       "      <td>1125</td>\n",
       "      <td>1125</td>\n",
       "      <td>1.0</td>\n",
       "      <td>1125.0</td>\n",
       "      <td>NaN</td>\n",
       "      <td>t</td>\n",
       "      <td>30</td>\n",
       "      <td>60</td>\n",
       "      <td>90</td>\n",
       "      <td>365</td>\n",
       "      <td>2022-09-22</td>\n",
       "      <td>0</td>\n",
       "      <td>0</td>\n",
       "      <td>0</td>\n",
       "      <td>NaN</td>\n",
       "      <td>NaN</td>\n",
       "      <td>NaN</td>\n",
       "      <td>NaN</td>\n",
       "      <td>NaN</td>\n",
       "      <td>NaN</td>\n",
       "      <td>NaN</td>\n",
       "      <td>NaN</td>\n",
       "      <td>NaN</td>\n",
       "      <td>NaN</td>\n",
       "      <td>t</td>\n",
       "      <td>1</td>\n",
       "      <td>1</td>\n",
       "      <td>0</td>\n",
       "      <td>0</td>\n",
       "      <td>NaN</td>\n",
       "    </tr>\n",
       "    <tr>\n",
       "      <th>3</th>\n",
       "      <td>44708736</td>\n",
       "      <td>https://www.airbnb.com/rooms/44708736</td>\n",
       "      <td>20220921172238</td>\n",
       "      <td>2022-09-22</td>\n",
       "      <td>city scrape</td>\n",
       "      <td>Aluguel de Lancha no Rio de Janeiro</td>\n",
       "      <td>Iate Intermarine 440 Full Gold c/ Fly p/ até 1...</td>\n",
       "      <td>A Marina da Glória fica no bairro do Flamengo ...</td>\n",
       "      <td>https://a0.muscache.com/pictures/210e9877-2854...</td>\n",
       "      <td>97164727</td>\n",
       "      <td>https://www.airbnb.com/users/show/97164727</td>\n",
       "      <td>Jorge Quito</td>\n",
       "      <td>2016-09-28</td>\n",
       "      <td>Rio de Janeiro, Brazil</td>\n",
       "      <td>Olá, eu sou Jorge!\\nSou de Salvador e moro no ...</td>\n",
       "      <td>within an hour</td>\n",
       "      <td>100%</td>\n",
       "      <td>100%</td>\n",
       "      <td>f</td>\n",
       "      <td>https://a0.muscache.com/im/pictures/user/c3e6f...</td>\n",
       "      <td>https://a0.muscache.com/im/pictures/user/c3e6f...</td>\n",
       "      <td>NaN</td>\n",
       "      <td>4.0</td>\n",
       "      <td>4.0</td>\n",
       "      <td>['email', 'phone']</td>\n",
       "      <td>t</td>\n",
       "      <td>t</td>\n",
       "      <td>Flamengo, Rio de Janeiro, Brazil</td>\n",
       "      <td>Glória</td>\n",
       "      <td>NaN</td>\n",
       "      <td>-22.91988</td>\n",
       "      <td>-43.17034</td>\n",
       "      <td>Boat</td>\n",
       "      <td>Entire home/apt</td>\n",
       "      <td>12</td>\n",
       "      <td>NaN</td>\n",
       "      <td>2 baths</td>\n",
       "      <td>2.0</td>\n",
       "      <td>3.0</td>\n",
       "      <td>[\"Single level home\", \"Wifi \\u2013 30 Mbps\", \"...</td>\n",
       "      <td>$8,999.00</td>\n",
       "      <td>1</td>\n",
       "      <td>1</td>\n",
       "      <td>1</td>\n",
       "      <td>1</td>\n",
       "      <td>1</td>\n",
       "      <td>1</td>\n",
       "      <td>1.0</td>\n",
       "      <td>1.0</td>\n",
       "      <td>NaN</td>\n",
       "      <td>t</td>\n",
       "      <td>30</td>\n",
       "      <td>60</td>\n",
       "      <td>90</td>\n",
       "      <td>179</td>\n",
       "      <td>2022-09-22</td>\n",
       "      <td>2</td>\n",
       "      <td>0</td>\n",
       "      <td>0</td>\n",
       "      <td>2021-01-10</td>\n",
       "      <td>2021-08-02</td>\n",
       "      <td>5.0</td>\n",
       "      <td>5.0</td>\n",
       "      <td>5.0</td>\n",
       "      <td>5.0</td>\n",
       "      <td>5.0</td>\n",
       "      <td>5.0</td>\n",
       "      <td>5.0</td>\n",
       "      <td>NaN</td>\n",
       "      <td>f</td>\n",
       "      <td>2</td>\n",
       "      <td>2</td>\n",
       "      <td>0</td>\n",
       "      <td>0</td>\n",
       "      <td>0.1</td>\n",
       "    </tr>\n",
       "    <tr>\n",
       "      <th>4</th>\n",
       "      <td>35351763</td>\n",
       "      <td>https://www.airbnb.com/rooms/35351763</td>\n",
       "      <td>20220921172238</td>\n",
       "      <td>2022-09-22</td>\n",
       "      <td>city scrape</td>\n",
       "      <td>Uma grande família</td>\n",
       "      <td>Estou oferecendo minha casa ,minha família meu...</td>\n",
       "      <td>São Mateus</td>\n",
       "      <td>https://a0.muscache.com/pictures/44713611-925b...</td>\n",
       "      <td>249666532</td>\n",
       "      <td>https://www.airbnb.com/users/show/249666532</td>\n",
       "      <td>Jorgina</td>\n",
       "      <td>2019-03-18</td>\n",
       "      <td>State of Rio de Janeiro, Brazil</td>\n",
       "      <td>NaN</td>\n",
       "      <td>NaN</td>\n",
       "      <td>NaN</td>\n",
       "      <td>NaN</td>\n",
       "      <td>f</td>\n",
       "      <td>https://a0.muscache.com/im/pictures/user/57882...</td>\n",
       "      <td>https://a0.muscache.com/im/pictures/user/57882...</td>\n",
       "      <td>NaN</td>\n",
       "      <td>1.0</td>\n",
       "      <td>1.0</td>\n",
       "      <td>['email', 'phone']</td>\n",
       "      <td>t</td>\n",
       "      <td>f</td>\n",
       "      <td>Parque Sao Nicolau, Rio de Janeiro, Brazil</td>\n",
       "      <td>Pavuna</td>\n",
       "      <td>NaN</td>\n",
       "      <td>-22.81321</td>\n",
       "      <td>-43.38573</td>\n",
       "      <td>Earthen home</td>\n",
       "      <td>Entire home/apt</td>\n",
       "      <td>1</td>\n",
       "      <td>NaN</td>\n",
       "      <td>1 bath</td>\n",
       "      <td>2.0</td>\n",
       "      <td>3.0</td>\n",
       "      <td>[\"Air conditioning\", \"First aid kit\", \"Iron\", ...</td>\n",
       "      <td>$500.00</td>\n",
       "      <td>1</td>\n",
       "      <td>2</td>\n",
       "      <td>1</td>\n",
       "      <td>1</td>\n",
       "      <td>2</td>\n",
       "      <td>2</td>\n",
       "      <td>1.0</td>\n",
       "      <td>2.0</td>\n",
       "      <td>NaN</td>\n",
       "      <td>t</td>\n",
       "      <td>30</td>\n",
       "      <td>60</td>\n",
       "      <td>90</td>\n",
       "      <td>179</td>\n",
       "      <td>2022-09-22</td>\n",
       "      <td>0</td>\n",
       "      <td>0</td>\n",
       "      <td>0</td>\n",
       "      <td>NaN</td>\n",
       "      <td>NaN</td>\n",
       "      <td>NaN</td>\n",
       "      <td>NaN</td>\n",
       "      <td>NaN</td>\n",
       "      <td>NaN</td>\n",
       "      <td>NaN</td>\n",
       "      <td>NaN</td>\n",
       "      <td>NaN</td>\n",
       "      <td>NaN</td>\n",
       "      <td>t</td>\n",
       "      <td>1</td>\n",
       "      <td>1</td>\n",
       "      <td>0</td>\n",
       "      <td>0</td>\n",
       "      <td>NaN</td>\n",
       "    </tr>\n",
       "  </tbody>\n",
       "</table>\n",
       "</div>"
      ],
      "text/plain": [
       "         id                            listing_url       scrape_id  \\\n",
       "0  53344884  https://www.airbnb.com/rooms/53344884  20220921172238   \n",
       "1   7801456   https://www.airbnb.com/rooms/7801456  20220921172238   \n",
       "2  14333905  https://www.airbnb.com/rooms/14333905  20220921172238   \n",
       "3  44708736  https://www.airbnb.com/rooms/44708736  20220921172238   \n",
       "4  35351763  https://www.airbnb.com/rooms/35351763  20220921172238   \n",
       "\n",
       "  last_scraped       source                                        name  \\\n",
       "0   2022-09-22  city scrape  Suntuoso apartamento em Copacabana posto 6   \n",
       "1   2022-09-22  city scrape          Ipanema Vieira Souto - Linda Vista   \n",
       "2   2022-09-22  city scrape                          Casa compartilhada   \n",
       "3   2022-09-22  city scrape         Aluguel de Lancha no Rio de Janeiro   \n",
       "4   2022-09-22  city scrape                          Uma grande família   \n",
       "\n",
       "                                         description  \\\n",
       "0  suntuoso apartamento de frente para o mar <br ...   \n",
       "1  Flat luxuoso com a melhor localização do Rio d...   \n",
       "2  A 15 min. do complexo esportivo de Deodoro, Ca...   \n",
       "3  Iate Intermarine 440 Full Gold c/ Fly p/ até 1...   \n",
       "4  Estou oferecendo minha casa ,minha família meu...   \n",
       "\n",
       "                               neighborhood_overview  \\\n",
       "0                                                NaN   \n",
       "1  Ipanema é considerado o berço do rio, cheio de...   \n",
       "2                                                NaN   \n",
       "3  A Marina da Glória fica no bairro do Flamengo ...   \n",
       "4                                         São Mateus   \n",
       "\n",
       "                                         picture_url    host_id  \\\n",
       "0  https://a0.muscache.com/pictures/miso/Hosting-...  431412286   \n",
       "1  https://a0.muscache.com/pictures/99276394/dc9c...   40650139   \n",
       "2  https://a0.muscache.com/pictures/15235501-16c4...   87749071   \n",
       "3  https://a0.muscache.com/pictures/210e9877-2854...   97164727   \n",
       "4  https://a0.muscache.com/pictures/44713611-925b...  249666532   \n",
       "\n",
       "                                      host_url        host_name  host_since  \\\n",
       "0  https://www.airbnb.com/users/show/431412286  Carlos Henrique  2021-11-11   \n",
       "1   https://www.airbnb.com/users/show/40650139   Carlos Alberto  2015-08-05   \n",
       "2   https://www.airbnb.com/users/show/87749071       Lindenberg  2016-08-03   \n",
       "3   https://www.airbnb.com/users/show/97164727      Jorge Quito  2016-09-28   \n",
       "4  https://www.airbnb.com/users/show/249666532          Jorgina  2019-03-18   \n",
       "\n",
       "                     host_location  \\\n",
       "0                              NaN   \n",
       "1           Rio de Janeiro, Brazil   \n",
       "2           Rio de Janeiro, Brazil   \n",
       "3           Rio de Janeiro, Brazil   \n",
       "4  State of Rio de Janeiro, Brazil   \n",
       "\n",
       "                                          host_about  host_response_time  \\\n",
       "0                                                NaN      within an hour   \n",
       "1  22 anos, Brasileiro, Solteiro, residencia fixa...  a few days or more   \n",
       "2                                                NaN                 NaN   \n",
       "3  Olá, eu sou Jorge!\\nSou de Salvador e moro no ...      within an hour   \n",
       "4                                                NaN                 NaN   \n",
       "\n",
       "  host_response_rate host_acceptance_rate host_is_superhost  \\\n",
       "0               100%                 100%                 f   \n",
       "1                13%                 100%                 f   \n",
       "2                NaN                  NaN                 f   \n",
       "3               100%                 100%                 f   \n",
       "4                NaN                  NaN                 f   \n",
       "\n",
       "                                  host_thumbnail_url  \\\n",
       "0  https://a0.muscache.com/im/pictures/user/f4bec...   \n",
       "1  https://a0.muscache.com/im/users/40650139/prof...   \n",
       "2  https://a0.muscache.com/im/pictures/user/409ec...   \n",
       "3  https://a0.muscache.com/im/pictures/user/c3e6f...   \n",
       "4  https://a0.muscache.com/im/pictures/user/57882...   \n",
       "\n",
       "                                    host_picture_url host_neighbourhood  \\\n",
       "0  https://a0.muscache.com/im/pictures/user/f4bec...                NaN   \n",
       "1  https://a0.muscache.com/im/users/40650139/prof...            Ipanema   \n",
       "2  https://a0.muscache.com/im/pictures/user/409ec...                NaN   \n",
       "3  https://a0.muscache.com/im/pictures/user/c3e6f...                NaN   \n",
       "4  https://a0.muscache.com/im/pictures/user/57882...                NaN   \n",
       "\n",
       "   host_listings_count  host_total_listings_count  host_verifications  \\\n",
       "0                 10.0                       10.0  ['email', 'phone']   \n",
       "1                  6.0                        6.0  ['email', 'phone']   \n",
       "2                  1.0                        1.0  ['email', 'phone']   \n",
       "3                  4.0                        4.0  ['email', 'phone']   \n",
       "4                  1.0                        1.0  ['email', 'phone']   \n",
       "\n",
       "  host_has_profile_pic host_identity_verified  \\\n",
       "0                    t                      t   \n",
       "1                    t                      t   \n",
       "2                    t                      f   \n",
       "3                    t                      t   \n",
       "4                    t                      f   \n",
       "\n",
       "                                neighbourhood neighbourhood_cleansed  \\\n",
       "0                                         NaN             Copacabana   \n",
       "1                      Rio de Janeiro, Brazil                Ipanema   \n",
       "2                                         NaN                 Pavuna   \n",
       "3            Flamengo, Rio de Janeiro, Brazil                 Glória   \n",
       "4  Parque Sao Nicolau, Rio de Janeiro, Brazil                 Pavuna   \n",
       "\n",
       "   neighbourhood_group_cleansed  latitude  longitude  \\\n",
       "0                           NaN -22.98299  -43.18904   \n",
       "1                           NaN -22.98723  -43.20452   \n",
       "2                           NaN -22.80869  -43.38642   \n",
       "3                           NaN -22.91988  -43.17034   \n",
       "4                           NaN -22.81321  -43.38573   \n",
       "\n",
       "               property_type        room_type  accommodates  bathrooms  \\\n",
       "0               Entire condo  Entire home/apt             6        NaN   \n",
       "1  Entire serviced apartment  Entire home/apt             4        NaN   \n",
       "2                Entire home  Entire home/apt            12        NaN   \n",
       "3                       Boat  Entire home/apt            12        NaN   \n",
       "4               Earthen home  Entire home/apt             1        NaN   \n",
       "\n",
       "  bathrooms_text  bedrooms  beds  \\\n",
       "0      4.5 baths       3.0   5.0   \n",
       "1        2 baths       2.0   3.0   \n",
       "2         1 bath       2.0   4.0   \n",
       "3        2 baths       2.0   3.0   \n",
       "4         1 bath       2.0   3.0   \n",
       "\n",
       "                                           amenities      price  \\\n",
       "0  [\"Air conditioning\", \"Washer\", \"Security camer...  $3,500.00   \n",
       "1  [\"Cable TV\", \"Air conditioning\", \"Fire extingu...  $5,000.00   \n",
       "2  [\"Cable TV\", \"Air conditioning\", \"Hair dryer\",...    $681.00   \n",
       "3  [\"Single level home\", \"Wifi \\u2013 30 Mbps\", \"...  $8,999.00   \n",
       "4  [\"Air conditioning\", \"First aid kit\", \"Iron\", ...    $500.00   \n",
       "\n",
       "   minimum_nights  maximum_nights  minimum_minimum_nights  \\\n",
       "0               3             365                       3   \n",
       "1               2             900                       2   \n",
       "2               1            1125                       1   \n",
       "3               1               1                       1   \n",
       "4               1               2                       1   \n",
       "\n",
       "   maximum_minimum_nights  minimum_maximum_nights  maximum_maximum_nights  \\\n",
       "0                       3                     365                     365   \n",
       "1                       2                     900                     900   \n",
       "2                       1                    1125                    1125   \n",
       "3                       1                       1                       1   \n",
       "4                       1                       2                       2   \n",
       "\n",
       "   minimum_nights_avg_ntm  maximum_nights_avg_ntm  calendar_updated  \\\n",
       "0                     3.0                   365.0               NaN   \n",
       "1                     2.0                   900.0               NaN   \n",
       "2                     1.0                  1125.0               NaN   \n",
       "3                     1.0                     1.0               NaN   \n",
       "4                     1.0                     2.0               NaN   \n",
       "\n",
       "  has_availability  availability_30  availability_60  availability_90  \\\n",
       "0                t               30               60               90   \n",
       "1                t               30               60               90   \n",
       "2                t               30               60               90   \n",
       "3                t               30               60               90   \n",
       "4                t               30               60               90   \n",
       "\n",
       "   availability_365 calendar_last_scraped  number_of_reviews  \\\n",
       "0               365            2022-09-22                  0   \n",
       "1               365            2022-09-22                  0   \n",
       "2               365            2022-09-22                  0   \n",
       "3               179            2022-09-22                  2   \n",
       "4               179            2022-09-22                  0   \n",
       "\n",
       "   number_of_reviews_ltm  number_of_reviews_l30d first_review last_review  \\\n",
       "0                      0                       0          NaN         NaN   \n",
       "1                      0                       0          NaN         NaN   \n",
       "2                      0                       0          NaN         NaN   \n",
       "3                      0                       0   2021-01-10  2021-08-02   \n",
       "4                      0                       0          NaN         NaN   \n",
       "\n",
       "   review_scores_rating  review_scores_accuracy  review_scores_cleanliness  \\\n",
       "0                   NaN                     NaN                        NaN   \n",
       "1                   NaN                     NaN                        NaN   \n",
       "2                   NaN                     NaN                        NaN   \n",
       "3                   5.0                     5.0                        5.0   \n",
       "4                   NaN                     NaN                        NaN   \n",
       "\n",
       "   review_scores_checkin  review_scores_communication  review_scores_location  \\\n",
       "0                    NaN                          NaN                     NaN   \n",
       "1                    NaN                          NaN                     NaN   \n",
       "2                    NaN                          NaN                     NaN   \n",
       "3                    5.0                          5.0                     5.0   \n",
       "4                    NaN                          NaN                     NaN   \n",
       "\n",
       "   review_scores_value  license instant_bookable  \\\n",
       "0                  NaN      NaN                t   \n",
       "1                  NaN      NaN                t   \n",
       "2                  NaN      NaN                t   \n",
       "3                  5.0      NaN                f   \n",
       "4                  NaN      NaN                t   \n",
       "\n",
       "   calculated_host_listings_count  \\\n",
       "0                              10   \n",
       "1                               5   \n",
       "2                               1   \n",
       "3                               2   \n",
       "4                               1   \n",
       "\n",
       "   calculated_host_listings_count_entire_homes  \\\n",
       "0                                            8   \n",
       "1                                            5   \n",
       "2                                            1   \n",
       "3                                            2   \n",
       "4                                            1   \n",
       "\n",
       "   calculated_host_listings_count_private_rooms  \\\n",
       "0                                             2   \n",
       "1                                             0   \n",
       "2                                             0   \n",
       "3                                             0   \n",
       "4                                             0   \n",
       "\n",
       "   calculated_host_listings_count_shared_rooms  reviews_per_month  \n",
       "0                                            0                NaN  \n",
       "1                                            0                NaN  \n",
       "2                                            0                NaN  \n",
       "3                                            0                0.1  \n",
       "4                                            0                NaN  "
      ]
     },
     "metadata": {},
     "output_type": "display_data"
    }
   ],
   "source": [
    "with pd.option_context('display.max_columns',None):\n",
    "    display(df.head())"
   ]
  },
  {
   "cell_type": "markdown",
   "metadata": {},
   "source": [
    "# Sanity Checks"
   ]
  },
  {
   "cell_type": "markdown",
   "metadata": {},
   "source": [
    "## Empty Values"
   ]
  },
  {
   "cell_type": "code",
   "execution_count": 5,
   "metadata": {},
   "outputs": [],
   "source": [
    "col_na_proportion = df.isna().mean()"
   ]
  },
  {
   "cell_type": "code",
   "execution_count": 6,
   "metadata": {},
   "outputs": [
    {
     "data": {
      "text/plain": [
       "neighborhood_overview           0.473\n",
       "host_location                   0.182\n",
       "host_about                      0.515\n",
       "host_response_time              0.133\n",
       "host_response_rate              0.133\n",
       "host_acceptance_rate            0.134\n",
       "host_neighbourhood              0.407\n",
       "neighbourhood                   0.473\n",
       "neighbourhood_group_cleansed    1.000\n",
       "bathrooms                       1.000\n",
       "calendar_updated                1.000\n",
       "first_review                    0.266\n",
       "last_review                     0.266\n",
       "review_scores_rating            0.266\n",
       "review_scores_accuracy          0.274\n",
       "review_scores_cleanliness       0.274\n",
       "review_scores_checkin           0.274\n",
       "review_scores_communication     0.274\n",
       "review_scores_location          0.274\n",
       "review_scores_value             0.274\n",
       "license                         1.000\n",
       "reviews_per_month               0.266\n",
       "dtype: float64"
      ]
     },
     "execution_count": 6,
     "metadata": {},
     "output_type": "execute_result"
    }
   ],
   "source": [
    "col_na_proportion[col_na_proportion > 0.1].round(3) # Arbitrary minimum NA boundary of 10% of rows"
   ]
  },
  {
   "cell_type": "markdown",
   "metadata": {},
   "source": [
    "- Some columns are complely empty\n",
    "- About half of the listings don't have any description about the host\n",
    "- Approx. 1 out of 4 listings don't have a review\n",
    "\n",
    "- Bathrooms columns was actually replaced with bathrooms_text"
   ]
  },
  {
   "cell_type": "markdown",
   "metadata": {},
   "source": [
    "## Subsetting to relevant features"
   ]
  },
  {
   "cell_type": "code",
   "execution_count": 7,
   "metadata": {},
   "outputs": [],
   "source": [
    "# Subsetting to columns that might be relevant for us to work with\n",
    "# Ignoring relevant columns that are completely empty (ex: bathrooms)\n",
    "subset_cols = ['id',\n",
    "                'listing_url',\n",
    "                'last_scraped',\n",
    "                'source',\n",
    "                'name',\n",
    "                'description',\n",
    "                'host_about',\n",
    "                'host_response_time',\n",
    "                'host_response_rate',\n",
    "                'host_is_superhost',\n",
    "                'host_has_profile_pic',\n",
    "                'host_identity_verified',\n",
    "                'neighbourhood_cleansed',\n",
    "                'property_type',\n",
    "                'room_type',\n",
    "                'accommodates',\n",
    "                'bathrooms_text',\n",
    "                'bedrooms',\n",
    "                'beds',\n",
    "                'amenities',\n",
    "                'price',\n",
    "                'minimum_nights',\n",
    "                'maximum_nights']"
   ]
  },
  {
   "cell_type": "code",
   "execution_count": 8,
   "metadata": {},
   "outputs": [],
   "source": [
    "df_subset = df[subset_cols].copy() # Generating a copy to avoid object reference problems when creating new cols"
   ]
  },
  {
   "cell_type": "code",
   "execution_count": 9,
   "metadata": {},
   "outputs": [
    {
     "data": {
      "text/plain": [
       "id                        0.000000\n",
       "listing_url               0.000000\n",
       "last_scraped              0.000000\n",
       "source                    0.000000\n",
       "name                      0.000721\n",
       "description               0.031366\n",
       "host_about                0.515019\n",
       "host_response_time        0.133088\n",
       "host_response_rate        0.133088\n",
       "host_is_superhost         0.000265\n",
       "host_has_profile_pic      0.000190\n",
       "host_identity_verified    0.000190\n",
       "neighbourhood_cleansed    0.000000\n",
       "property_type             0.000000\n",
       "room_type                 0.000000\n",
       "accommodates              0.000000\n",
       "bathrooms_text            0.001896\n",
       "bedrooms                  0.049723\n",
       "beds                      0.008951\n",
       "amenities                 0.000000\n",
       "price                     0.000000\n",
       "minimum_nights            0.000000\n",
       "maximum_nights            0.000000\n",
       "dtype: float64"
      ]
     },
     "execution_count": 9,
     "metadata": {},
     "output_type": "execute_result"
    }
   ],
   "source": [
    "df_subset.isna().mean()"
   ]
  },
  {
   "cell_type": "markdown",
   "metadata": {},
   "source": [
    "## Subset - Type handling"
   ]
  },
  {
   "cell_type": "code",
   "execution_count": 10,
   "metadata": {},
   "outputs": [
    {
     "data": {
      "text/plain": [
       "id                          int64\n",
       "listing_url                object\n",
       "last_scraped               object\n",
       "source                     object\n",
       "name                       object\n",
       "description                object\n",
       "host_about                 object\n",
       "host_response_time         object\n",
       "host_response_rate         object\n",
       "host_is_superhost          object\n",
       "host_has_profile_pic       object\n",
       "host_identity_verified     object\n",
       "neighbourhood_cleansed     object\n",
       "property_type              object\n",
       "room_type                  object\n",
       "accommodates                int64\n",
       "bathrooms_text             object\n",
       "bedrooms                  float64\n",
       "beds                      float64\n",
       "amenities                  object\n",
       "price                      object\n",
       "minimum_nights              int64\n",
       "maximum_nights              int64\n",
       "dtype: object"
      ]
     },
     "execution_count": 10,
     "metadata": {},
     "output_type": "execute_result"
    }
   ],
   "source": [
    "df_subset.dtypes"
   ]
  },
  {
   "cell_type": "markdown",
   "metadata": {},
   "source": [
    "### Dates"
   ]
  },
  {
   "cell_type": "code",
   "execution_count": 11,
   "metadata": {},
   "outputs": [],
   "source": [
    "# Handling scraped date\n",
    "df_subset['last_scraped'] = pd.to_datetime(df_subset['last_scraped'], yearfirst=True)"
   ]
  },
  {
   "cell_type": "code",
   "execution_count": 12,
   "metadata": {},
   "outputs": [
    {
     "data": {
      "text/plain": [
       "2022-09-22    20849\n",
       "2022-09-21     5462\n",
       "2022-09-23       54\n",
       "2022-10-02        1\n",
       "Name: last_scraped, dtype: int64"
      ]
     },
     "execution_count": 12,
     "metadata": {},
     "output_type": "execute_result"
    }
   ],
   "source": [
    "# Check if dataset contains old entries - They might not be relevant\n",
    "df_subset['last_scraped'].value_counts()"
   ]
  },
  {
   "cell_type": "markdown",
   "metadata": {},
   "source": [
    "### Prices"
   ]
  },
  {
   "cell_type": "code",
   "execution_count": 13,
   "metadata": {},
   "outputs": [
    {
     "name": "stdout",
     "output_type": "stream",
     "text": [
      "True\n"
     ]
    }
   ],
   "source": [
    "# Price\n",
    "\n",
    "# Do all prices start with '$'?\n",
    "print(df_subset['price'].shape[0] == df_subset['price'].str.startswith('$').sum())"
   ]
  },
  {
   "cell_type": "code",
   "execution_count": 14,
   "metadata": {},
   "outputs": [],
   "source": [
    "df_subset['price'] = df_subset['price'].str[1:]\n",
    "\n",
    "df_subset['price'] = df_subset['price'].str.replace(',','', regex=True)\n",
    "\n",
    "df_subset['price'] = df_subset['price'].astype(float)"
   ]
  },
  {
   "cell_type": "markdown",
   "metadata": {},
   "source": [
    "### Amenities"
   ]
  },
  {
   "cell_type": "code",
   "execution_count": 15,
   "metadata": {},
   "outputs": [
    {
     "data": {
      "text/plain": [
       "0    [\"Air conditioning\", \"Washer\", \"Security camer...\n",
       "1    [\"Cable TV\", \"Air conditioning\", \"Fire extingu...\n",
       "2    [\"Cable TV\", \"Air conditioning\", \"Hair dryer\",...\n",
       "3    [\"Single level home\", \"Wifi \\u2013 30 Mbps\", \"...\n",
       "4    [\"Air conditioning\", \"First aid kit\", \"Iron\", ...\n",
       "Name: amenities, dtype: object"
      ]
     },
     "execution_count": 15,
     "metadata": {},
     "output_type": "execute_result"
    }
   ],
   "source": [
    "df_subset['amenities'].head()"
   ]
  },
  {
   "cell_type": "code",
   "execution_count": 16,
   "metadata": {},
   "outputs": [
    {
     "data": {
      "text/plain": [
       "True"
      ]
     },
     "execution_count": 16,
     "metadata": {},
     "output_type": "execute_result"
    }
   ],
   "source": [
    "# Are amenities strings?\n",
    "(df_subset['amenities'].apply(type) == str).all()"
   ]
  },
  {
   "cell_type": "markdown",
   "metadata": {},
   "source": [
    "Amenities are actually strings instead of lists. This needs fixing.\\\n",
    "Also, since it is a whole string, the whitespaces before the quotes will stay there. They need to be fixed too.\\\n",
    "To fix the whitespaces I will be using a function, but it could be done via RegEx as well.\\\n",
    "Also, some not parsed unidecode characters get into the dataset. They will be removed since they probably won't be word characters"
   ]
  },
  {
   "cell_type": "code",
   "execution_count": 17,
   "metadata": {},
   "outputs": [],
   "source": [
    "def strip_tokens(token_list):\n",
    "\n",
    "    return [token.strip() for token in token_list]\n",
    "\n",
    "def replace_unidecode(token_list):\n",
    "\n",
    "    ''' Replaces non-parsed unidecode chars with single Whitespace.\n",
    "        If simply replaced by empty strings, will generate a double whitespace\n",
    "        '''\n",
    "\n",
    "    return [re.sub(r'\\s+', ' ', re.sub(r'\\\\u\\d+','', token)) for token in token_list]"
   ]
  },
  {
   "cell_type": "code",
   "execution_count": 18,
   "metadata": {},
   "outputs": [],
   "source": [
    "# The Brackets and quotes will break a simple split function. They need to be treated beforehand.\n",
    "df_subset['amenities'] = df_subset['amenities'].str.replace('\\[|\\]|\\\"','', regex = True)\\\n",
    "                                                .str.split(',')\\\n",
    "                                                .apply(strip_tokens)\\\n",
    "                                                .apply(replace_unidecode)"
   ]
  },
  {
   "cell_type": "code",
   "execution_count": 19,
   "metadata": {},
   "outputs": [
    {
     "data": {
      "text/plain": [
       "0    [Air conditioning, Washer, Security cameras on...\n",
       "1    [Cable TV, Air conditioning, Fire extinguisher...\n",
       "2    [Cable TV, Air conditioning, Hair dryer, Iron,...\n",
       "3    [Single level home, Wifi 30 Mbps, Dedicated wo...\n",
       "4    [Air conditioning, First aid kit, Iron, Essent...\n",
       "Name: amenities, dtype: object"
      ]
     },
     "metadata": {},
     "output_type": "display_data"
    },
    {
     "data": {
      "text/plain": [
       "['Air conditioning',\n",
       " 'Washer',\n",
       " 'Security cameras on property',\n",
       " 'Wifi',\n",
       " 'Long term stays allowed',\n",
       " 'Kitchen',\n",
       " 'TV']"
      ]
     },
     "metadata": {},
     "output_type": "display_data"
    }
   ],
   "source": [
    "display(df_subset['amenities'].head())\n",
    "\n",
    "display(df_subset['amenities'][0]) # Example"
   ]
  },
  {
   "cell_type": "markdown",
   "metadata": {},
   "source": [
    "## Bathrooms"
   ]
  },
  {
   "cell_type": "code",
   "execution_count": 20,
   "metadata": {},
   "outputs": [
    {
     "data": {
      "text/plain": [
       "0            4.5 baths\n",
       "1              2 baths\n",
       "2               1 bath\n",
       "3              2 baths\n",
       "4               1 bath\n",
       "             ...      \n",
       "26361    1 shared bath\n",
       "26362           1 bath\n",
       "26363           1 bath\n",
       "26364           1 bath\n",
       "26365           1 bath\n",
       "Name: bathrooms_text, Length: 26366, dtype: object"
      ]
     },
     "execution_count": 20,
     "metadata": {},
     "output_type": "execute_result"
    }
   ],
   "source": [
    "df_subset.bathrooms_text"
   ]
  },
  {
   "cell_type": "code",
   "execution_count": 21,
   "metadata": {},
   "outputs": [
    {
     "name": "stdout",
     "output_type": "stream",
     "text": [
      "Entries that contain \"bath\": 26316\n",
      "Total Entries: 26366\n"
     ]
    }
   ],
   "source": [
    "print('Entries that contain \"bath\":',df_subset[df_subset['bathrooms_text'].str.contains(r'bath[s]?', na = False)].shape[0])\n",
    "\n",
    "print('Total Entries:',df_subset.shape[0])"
   ]
  },
  {
   "cell_type": "markdown",
   "metadata": {},
   "source": [
    "There are 50 entries that don't contain the any word with 'bath' in it"
   ]
  },
  {
   "cell_type": "code",
   "execution_count": 22,
   "metadata": {},
   "outputs": [
    {
     "data": {
      "text/plain": [
       "50"
      ]
     },
     "execution_count": 22,
     "metadata": {},
     "output_type": "execute_result"
    }
   ],
   "source": [
    "df_subset[~df_subset['bathrooms_text'].str.contains(r'bath[s]?', na = False)]['bathrooms_text'].isna().sum()"
   ]
  },
  {
   "cell_type": "markdown",
   "metadata": {},
   "source": [
    "The different entries are empty are because they are NaN values"
   ]
  },
  {
   "cell_type": "code",
   "execution_count": 23,
   "metadata": {},
   "outputs": [
    {
     "data": {
      "text/html": [
       "<div>\n",
       "<style scoped>\n",
       "    .dataframe tbody tr th:only-of-type {\n",
       "        vertical-align: middle;\n",
       "    }\n",
       "\n",
       "    .dataframe tbody tr th {\n",
       "        vertical-align: top;\n",
       "    }\n",
       "\n",
       "    .dataframe thead th {\n",
       "        text-align: right;\n",
       "    }\n",
       "</style>\n",
       "<table border=\"1\" class=\"dataframe\">\n",
       "  <thead>\n",
       "    <tr style=\"text-align: right;\">\n",
       "      <th></th>\n",
       "      <th>name</th>\n",
       "      <th>description</th>\n",
       "    </tr>\n",
       "  </thead>\n",
       "  <tbody>\n",
       "    <tr>\n",
       "      <th>479</th>\n",
       "      <td>Praia da Macumba Recreio</td>\n",
       "      <td>&lt;b&gt;The space&lt;/b&gt;&lt;br /&gt;Apartameno pequeno,1 Qto...</td>\n",
       "    </tr>\n",
       "    <tr>\n",
       "      <th>603</th>\n",
       "      <td>Cozy room @ Copacabana - Posto 06</td>\n",
       "      <td>&lt;b&gt;The space&lt;/b&gt;&lt;br /&gt;Excellent apartment near...</td>\n",
       "    </tr>\n",
       "    <tr>\n",
       "      <th>2056</th>\n",
       "      <td>Maracana - apartamento a 200 metros</td>\n",
       "      <td>Excelente apartamento a 200 metros do MARACANÃ...</td>\n",
       "    </tr>\n",
       "    <tr>\n",
       "      <th>19656</th>\n",
       "      <td>Mansão INCRÍVEL no meio da natureza para EVENTOS</td>\n",
       "      <td>NaN</td>\n",
       "    </tr>\n",
       "    <tr>\n",
       "      <th>661</th>\n",
       "      <td>ótimo Quarto em Santa Teresa - RJ</td>\n",
       "      <td>&lt;b&gt;The space&lt;/b&gt;&lt;br /&gt;Casa ampla em Santa Tere...</td>\n",
       "    </tr>\n",
       "    <tr>\n",
       "      <th>89</th>\n",
       "      <td>Apartamento Moderno e confortavel</td>\n",
       "      <td>Seja bem vindo a esse apartamento moderno, con...</td>\n",
       "    </tr>\n",
       "    <tr>\n",
       "      <th>14651</th>\n",
       "      <td>Américas Copacabana Hotel</td>\n",
       "      <td>NaN</td>\n",
       "    </tr>\n",
       "    <tr>\n",
       "      <th>600</th>\n",
       "      <td>Vinicius</td>\n",
       "      <td>tarifa baixa temporada, mínimo 5 noites&lt;br /&gt;&lt;...</td>\n",
       "    </tr>\n",
       "    <tr>\n",
       "      <th>869</th>\n",
       "      <td>Ipanema  602</td>\n",
       "      <td>&lt;b&gt;The space&lt;/b&gt;&lt;br /&gt;linen not included, on r...</td>\n",
       "    </tr>\n",
       "    <tr>\n",
       "      <th>348</th>\n",
       "      <td>BAND NEW APT COPACABANA</td>\n",
       "      <td>&lt;b&gt;The space&lt;/b&gt;&lt;br /&gt;APT JUST RENOVATED! ALL ...</td>\n",
       "    </tr>\n",
       "  </tbody>\n",
       "</table>\n",
       "</div>"
      ],
      "text/plain": [
       "                                                   name  \\\n",
       "479                            Praia da Macumba Recreio   \n",
       "603                   Cozy room @ Copacabana - Posto 06   \n",
       "2056                Maracana - apartamento a 200 metros   \n",
       "19656  Mansão INCRÍVEL no meio da natureza para EVENTOS   \n",
       "661                   ótimo Quarto em Santa Teresa - RJ   \n",
       "89                    Apartamento Moderno e confortavel   \n",
       "14651                         Américas Copacabana Hotel   \n",
       "600                                            Vinicius   \n",
       "869                                        Ipanema  602   \n",
       "348                             BAND NEW APT COPACABANA   \n",
       "\n",
       "                                             description  \n",
       "479    <b>The space</b><br />Apartameno pequeno,1 Qto...  \n",
       "603    <b>The space</b><br />Excellent apartment near...  \n",
       "2056   Excelente apartamento a 200 metros do MARACANÃ...  \n",
       "19656                                                NaN  \n",
       "661    <b>The space</b><br />Casa ampla em Santa Tere...  \n",
       "89     Seja bem vindo a esse apartamento moderno, con...  \n",
       "14651                                                NaN  \n",
       "600    tarifa baixa temporada, mínimo 5 noites<br /><...  \n",
       "869    <b>The space</b><br />linen not included, on r...  \n",
       "348    <b>The space</b><br />APT JUST RENOVATED! ALL ...  "
      ]
     },
     "execution_count": 23,
     "metadata": {},
     "output_type": "execute_result"
    }
   ],
   "source": [
    "df_subset[~df_subset['bathrooms_text'].str.contains(r'bath[s]?', na = False)][['name','description']].sample(10, random_state=123)"
   ]
  },
  {
   "cell_type": "markdown",
   "metadata": {},
   "source": [
    "From the descriptions, it doesn't look like these are listings that don't have bathrooms. Imputing with some value might be more realistic.\\\n",
    "Also, there are not many listings without the number of bathrooms. It shouldn't impact us much"
   ]
  },
  {
   "cell_type": "markdown",
   "metadata": {},
   "source": [
    "After some inspections there are some key tokens that will be removed, for simplicity:\n",
    "\n",
    "- Bath(s)\n",
    "- Shared\n",
    "- Private"
   ]
  },
  {
   "cell_type": "code",
   "execution_count": 24,
   "metadata": {},
   "outputs": [
    {
     "data": {
      "text/plain": [
       "3156"
      ]
     },
     "execution_count": 24,
     "metadata": {},
     "output_type": "execute_result"
    }
   ],
   "source": [
    "df_subset['bathrooms_text'].str.contains('shared').sum()"
   ]
  },
  {
   "cell_type": "code",
   "execution_count": 25,
   "metadata": {},
   "outputs": [
    {
     "data": {
      "text/plain": [
       "1727"
      ]
     },
     "execution_count": 25,
     "metadata": {},
     "output_type": "execute_result"
    }
   ],
   "source": [
    "df_subset['bathrooms_text'].str.contains('private').sum()"
   ]
  },
  {
   "cell_type": "code",
   "execution_count": 26,
   "metadata": {},
   "outputs": [],
   "source": [
    "df_subset['bathrooms_text'] = df_subset['bathrooms_text'].str.replace(r'bath[s]?|shared|private','',case = False,regex = True)\\\n",
    "                                                            .str.strip()"
   ]
  },
  {
   "cell_type": "code",
   "execution_count": 27,
   "metadata": {},
   "outputs": [
    {
     "data": {
      "text/plain": [
       "array(['half-', 'Half-'], dtype=object)"
      ]
     },
     "execution_count": 27,
     "metadata": {},
     "output_type": "execute_result"
    }
   ],
   "source": [
    "df_subset[(df_subset['bathrooms_text'].notnull()) & (df_subset['bathrooms_text'].str.contains(r'[A-Za-z]+', regex = True))]['bathrooms_text'].unique()"
   ]
  },
  {
   "cell_type": "code",
   "execution_count": 28,
   "metadata": {},
   "outputs": [],
   "source": [
    "df_subset['bathrooms_text'] = df_subset['bathrooms_text'].str.replace(r'half-','0.5',case = False,regex = True)\\\n",
    "                                                            .str.strip()"
   ]
  },
  {
   "cell_type": "code",
   "execution_count": 29,
   "metadata": {},
   "outputs": [
    {
     "data": {
      "text/plain": [
       "array([], dtype=object)"
      ]
     },
     "execution_count": 29,
     "metadata": {},
     "output_type": "execute_result"
    }
   ],
   "source": [
    "df_subset[(df_subset['bathrooms_text'].notnull()) & (df_subset['bathrooms_text'].str.contains(r'[A-Za-z]+', regex = True))]['bathrooms_text'].unique()"
   ]
  },
  {
   "cell_type": "code",
   "execution_count": 30,
   "metadata": {},
   "outputs": [],
   "source": [
    "df_subset['bathrooms_text'] = df_subset['bathrooms_text'].astype(float)"
   ]
  },
  {
   "cell_type": "markdown",
   "metadata": {},
   "source": [
    "# Analysis"
   ]
  },
  {
   "cell_type": "markdown",
   "metadata": {},
   "source": [
    "## Amenities analysis\n",
    "\n",
    "- What are the Amenities that might have the biggest price differences"
   ]
  },
  {
   "cell_type": "markdown",
   "metadata": {},
   "source": [
    "Let's create a quick corpus for our data and see if we can keep only some key amenities or come up with other fixes.\\\n",
    "I'm specially interested in the Wifi amenity that contains internet speed. Wifi available or not should be counted regardless of speed. This, of course, excluding specific cases such as well-equipped, remote-work ready AirBnBs"
   ]
  },
  {
   "cell_type": "code",
   "execution_count": 31,
   "metadata": {},
   "outputs": [],
   "source": [
    "amenities_corpus = df_subset['amenities'].explode()"
   ]
  },
  {
   "cell_type": "code",
   "execution_count": 32,
   "metadata": {},
   "outputs": [
    {
     "name": "stdout",
     "output_type": "stream",
     "text": [
      "Unique Amenities:  3260\n"
     ]
    }
   ],
   "source": [
    "print('Unique Amenities: ',amenities_corpus.nunique())"
   ]
  },
  {
   "cell_type": "code",
   "execution_count": 33,
   "metadata": {},
   "outputs": [
    {
     "data": {
      "text/plain": [
       "401"
      ]
     },
     "execution_count": 33,
     "metadata": {},
     "output_type": "execute_result"
    }
   ],
   "source": [
    "# Looking specifically into wifi\n",
    "len(amenities_corpus[amenities_corpus.str.contains('wifi', case = False)].unique())"
   ]
  },
  {
   "cell_type": "code",
   "execution_count": 34,
   "metadata": {},
   "outputs": [
    {
     "data": {
      "text/plain": [
       "array(['Wifi', 'Wifi 30 Mbps', 'Pocket wifi', 'Wifi 28 Mbps',\n",
       "       'Fast wifi 101 Mbps', 'Fast wifi 663 Mbps', 'Fast wifi 55 Mbps',\n",
       "       'Fast wifi 157 Mbps', 'Fast wifi 66 Mbps', 'Fast wifi 542 Mbps'],\n",
       "      dtype=object)"
      ]
     },
     "execution_count": 34,
     "metadata": {},
     "output_type": "execute_result"
    }
   ],
   "source": [
    "# Samples\n",
    "amenities_corpus[amenities_corpus.str.contains('wifi', case = False)].unique()[0:10]"
   ]
  },
  {
   "cell_type": "markdown",
   "metadata": {},
   "source": [
    "There are a lot of possible entries for wifi, we'll replace them all for simplicity.\\\n",
    "Will do it in two categories: Fast and Regular Wifi"
   ]
  },
  {
   "cell_type": "code",
   "execution_count": 35,
   "metadata": {},
   "outputs": [],
   "source": [
    "reg_wifi_pat = r'(?<!Fast\\s)wifi'\n",
    "\n",
    "fast_wifi_pat = r'(?<=Fast\\s)wifi'"
   ]
  },
  {
   "cell_type": "code",
   "execution_count": 36,
   "metadata": {},
   "outputs": [],
   "source": [
    "reg_wifi_repl_str = '|'.join(amenities_corpus[amenities_corpus.str.contains(reg_wifi_pat, case = False)].unique())\n",
    "\n",
    "fast_wifi_repl_str = '|'.join(amenities_corpus[amenities_corpus.str.contains(fast_wifi_pat, case = False)].unique())"
   ]
  },
  {
   "cell_type": "code",
   "execution_count": 37,
   "metadata": {},
   "outputs": [],
   "source": [
    "amenities_corpus = amenities_corpus.str.replace(reg_wifi_repl_str,'Wifi', regex = True)\\\n",
    "                                    .str.replace(fast_wifi_repl_str,'Fast Wifi', regex = True)"
   ]
  },
  {
   "cell_type": "code",
   "execution_count": 38,
   "metadata": {},
   "outputs": [
    {
     "name": "stdout",
     "output_type": "stream",
     "text": [
      "Unique Amenities:  2910\n"
     ]
    }
   ],
   "source": [
    "print('Unique Amenities: ',amenities_corpus.nunique())"
   ]
  },
  {
   "cell_type": "markdown",
   "metadata": {},
   "source": [
    "## Obtaining the most usual amenities\n",
    "\n",
    "The most frequent amenities are those that are present in a big part of the listings. The total count of an amenity means the amount of appearances of that amenity on listings"
   ]
  },
  {
   "cell_type": "code",
   "execution_count": 39,
   "metadata": {},
   "outputs": [],
   "source": [
    "amenities_pareto = amenities_corpus.value_counts().to_frame()"
   ]
  },
  {
   "cell_type": "code",
   "execution_count": 40,
   "metadata": {},
   "outputs": [],
   "source": [
    "amenities_pareto.rename(columns = {'amenities':'listings_count'}, inplace = True)"
   ]
  },
  {
   "cell_type": "code",
   "execution_count": 41,
   "metadata": {},
   "outputs": [],
   "source": [
    "# Getting proportion of amenities in listings\n",
    "amenities_pareto['listings_proportion'] = amenities_pareto['listings_count'] / df_subset.shape[0]"
   ]
  },
  {
   "cell_type": "code",
   "execution_count": 42,
   "metadata": {},
   "outputs": [
    {
     "data": {
      "image/png": "[encoded data removed]",
      "text/plain": [
       "<Figure size 1080x720 with 1 Axes>"
      ]
     },
     "metadata": {},
     "output_type": "display_data"
    }
   ],
   "source": [
    "sns.histplot(data = amenities_pareto, x = 'listings_proportion', bins = 100)\n",
    "\n",
    "plt.title('Count of Amenities by proportion of listings they appear in')\n",
    "\n",
    "plt.xlabel('Proportion of Listings')\n",
    "\n",
    "plt.show()"
   ]
  },
  {
   "cell_type": "code",
   "execution_count": 43,
   "metadata": {},
   "outputs": [
    {
     "name": "stdout",
     "output_type": "stream",
     "text": [
      "Amount of amenities that occur in at least 0.00% of all listings: 2910\n",
      "Amount of amenities that occur in at least 10.00% of all listings: 56\n",
      "Amount of amenities that occur in at least 20.00% of all listings: 34\n",
      "Amount of amenities that occur in at least 30.00% of all listings: 23\n",
      "Amount of amenities that occur in at least 40.00% of all listings: 18\n",
      "Amount of amenities that occur in at least 50.00% of all listings: 13\n",
      "Amount of amenities that occur in at least 60.00% of all listings: 9\n",
      "Amount of amenities that occur in at least 70.00% of all listings: 4\n",
      "Amount of amenities that occur in at least 80.00% of all listings: 3\n",
      "Amount of amenities that occur in at least 90.00% of all listings: 2\n",
      "Amount of amenities that occur in at least 100.00% of all listings: 0\n"
     ]
    }
   ],
   "source": [
    "for proportion in np.arange(0,1.1,.1):\n",
    "\n",
    "    print(f'Amount of amenities that occur in at least {proportion:.2%} of all listings:',amenities_pareto[amenities_pareto['listings_proportion'] >= proportion].shape[0])\n",
    "    "
   ]
  },
  {
   "cell_type": "markdown",
   "metadata": {},
   "source": [
    "1. There might be a lot of unique values because of an open format of the field. \n",
    "2. Of all the possible amenities, only 13 appear on more than half of the listings. If we make a cut as small as 10% we can already indetify a relevant subset of amenities"
   ]
  },
  {
   "cell_type": "markdown",
   "metadata": {},
   "source": [
    "## Analyzing the top amenities\n",
    "\n",
    "Making the 10% cut, we are going to evaluate the price difference for the presence or absence of the amenities"
   ]
  },
  {
   "cell_type": "code",
   "execution_count": 93,
   "metadata": {},
   "outputs": [],
   "source": [
    "list_key_amenities = amenities_pareto[amenities_pareto['listings_proportion'] >= 0.5].index.values"
   ]
  },
  {
   "cell_type": "code",
   "execution_count": 94,
   "metadata": {},
   "outputs": [],
   "source": [
    "df_amenities = df_subset[['id','price','amenities']].copy()"
   ]
  },
  {
   "cell_type": "code",
   "execution_count": 95,
   "metadata": {},
   "outputs": [],
   "source": [
    "for amenity in list_key_amenities:\n",
    "\n",
    "    amen_func = lambda am_list: amenity in am_list\n",
    "\n",
    "    df_amenities[f'am_{amenity}'] = df_amenities['amenities'].apply(amen_func)"
   ]
  },
  {
   "cell_type": "code",
   "execution_count": 96,
   "metadata": {},
   "outputs": [
    {
     "data": {
      "text/html": [
       "<div>\n",
       "<style scoped>\n",
       "    .dataframe tbody tr th:only-of-type {\n",
       "        vertical-align: middle;\n",
       "    }\n",
       "\n",
       "    .dataframe tbody tr th {\n",
       "        vertical-align: top;\n",
       "    }\n",
       "\n",
       "    .dataframe thead th {\n",
       "        text-align: right;\n",
       "    }\n",
       "</style>\n",
       "<table border=\"1\" class=\"dataframe\">\n",
       "  <thead>\n",
       "    <tr style=\"text-align: right;\">\n",
       "      <th></th>\n",
       "      <th>id</th>\n",
       "      <th>price</th>\n",
       "      <th>amenities</th>\n",
       "      <th>am_Wifi</th>\n",
       "      <th>am_Kitchen</th>\n",
       "      <th>am_Long term stays allowed</th>\n",
       "      <th>am_Essentials</th>\n",
       "      <th>am_Hangers</th>\n",
       "      <th>am_Iron</th>\n",
       "      <th>am_Hot water</th>\n",
       "      <th>am_Air conditioning</th>\n",
       "      <th>am_Dishes and silverware</th>\n",
       "      <th>am_Elevator</th>\n",
       "      <th>am_Cooking basics</th>\n",
       "      <th>am_Refrigerator</th>\n",
       "      <th>am_Bed linens</th>\n",
       "    </tr>\n",
       "  </thead>\n",
       "  <tbody>\n",
       "    <tr>\n",
       "      <th>0</th>\n",
       "      <td>53344884</td>\n",
       "      <td>3500.0</td>\n",
       "      <td>[Air conditioning, Washer, Security cameras on...</td>\n",
       "      <td>True</td>\n",
       "      <td>True</td>\n",
       "      <td>True</td>\n",
       "      <td>False</td>\n",
       "      <td>False</td>\n",
       "      <td>False</td>\n",
       "      <td>False</td>\n",
       "      <td>True</td>\n",
       "      <td>False</td>\n",
       "      <td>False</td>\n",
       "      <td>False</td>\n",
       "      <td>False</td>\n",
       "      <td>False</td>\n",
       "    </tr>\n",
       "    <tr>\n",
       "      <th>1</th>\n",
       "      <td>7801456</td>\n",
       "      <td>5000.0</td>\n",
       "      <td>[Cable TV, Air conditioning, Fire extinguisher...</td>\n",
       "      <td>True</td>\n",
       "      <td>True</td>\n",
       "      <td>True</td>\n",
       "      <td>True</td>\n",
       "      <td>False</td>\n",
       "      <td>False</td>\n",
       "      <td>True</td>\n",
       "      <td>True</td>\n",
       "      <td>False</td>\n",
       "      <td>True</td>\n",
       "      <td>False</td>\n",
       "      <td>False</td>\n",
       "      <td>False</td>\n",
       "    </tr>\n",
       "    <tr>\n",
       "      <th>2</th>\n",
       "      <td>14333905</td>\n",
       "      <td>681.0</td>\n",
       "      <td>[Cable TV, Air conditioning, Hair dryer, Iron,...</td>\n",
       "      <td>True</td>\n",
       "      <td>True</td>\n",
       "      <td>True</td>\n",
       "      <td>False</td>\n",
       "      <td>False</td>\n",
       "      <td>True</td>\n",
       "      <td>False</td>\n",
       "      <td>True</td>\n",
       "      <td>False</td>\n",
       "      <td>False</td>\n",
       "      <td>False</td>\n",
       "      <td>False</td>\n",
       "      <td>False</td>\n",
       "    </tr>\n",
       "    <tr>\n",
       "      <th>3</th>\n",
       "      <td>44708736</td>\n",
       "      <td>8999.0</td>\n",
       "      <td>[Single level home, Wifi 30 Mbps, Dedicated wo...</td>\n",
       "      <td>False</td>\n",
       "      <td>True</td>\n",
       "      <td>False</td>\n",
       "      <td>True</td>\n",
       "      <td>True</td>\n",
       "      <td>False</td>\n",
       "      <td>True</td>\n",
       "      <td>False</td>\n",
       "      <td>True</td>\n",
       "      <td>False</td>\n",
       "      <td>True</td>\n",
       "      <td>False</td>\n",
       "      <td>True</td>\n",
       "    </tr>\n",
       "    <tr>\n",
       "      <th>4</th>\n",
       "      <td>35351763</td>\n",
       "      <td>500.0</td>\n",
       "      <td>[Air conditioning, First aid kit, Iron, Essent...</td>\n",
       "      <td>True</td>\n",
       "      <td>True</td>\n",
       "      <td>False</td>\n",
       "      <td>True</td>\n",
       "      <td>False</td>\n",
       "      <td>True</td>\n",
       "      <td>False</td>\n",
       "      <td>True</td>\n",
       "      <td>False</td>\n",
       "      <td>False</td>\n",
       "      <td>False</td>\n",
       "      <td>False</td>\n",
       "      <td>False</td>\n",
       "    </tr>\n",
       "  </tbody>\n",
       "</table>\n",
       "</div>"
      ],
      "text/plain": [
       "         id   price                                          amenities  \\\n",
       "0  53344884  3500.0  [Air conditioning, Washer, Security cameras on...   \n",
       "1   7801456  5000.0  [Cable TV, Air conditioning, Fire extinguisher...   \n",
       "2  14333905   681.0  [Cable TV, Air conditioning, Hair dryer, Iron,...   \n",
       "3  44708736  8999.0  [Single level home, Wifi 30 Mbps, Dedicated wo...   \n",
       "4  35351763   500.0  [Air conditioning, First aid kit, Iron, Essent...   \n",
       "\n",
       "   am_Wifi  am_Kitchen  am_Long term stays allowed  am_Essentials  am_Hangers  \\\n",
       "0     True        True                        True          False       False   \n",
       "1     True        True                        True           True       False   \n",
       "2     True        True                        True          False       False   \n",
       "3    False        True                       False           True        True   \n",
       "4     True        True                       False           True       False   \n",
       "\n",
       "   am_Iron  am_Hot water  am_Air conditioning  am_Dishes and silverware  \\\n",
       "0    False         False                 True                     False   \n",
       "1    False          True                 True                     False   \n",
       "2     True         False                 True                     False   \n",
       "3    False          True                False                      True   \n",
       "4     True         False                 True                     False   \n",
       "\n",
       "   am_Elevator  am_Cooking basics  am_Refrigerator  am_Bed linens  \n",
       "0        False              False            False          False  \n",
       "1         True              False            False          False  \n",
       "2        False              False            False          False  \n",
       "3        False               True            False           True  \n",
       "4        False              False            False          False  "
      ]
     },
     "execution_count": 96,
     "metadata": {},
     "output_type": "execute_result"
    }
   ],
   "source": [
    "df_amenities.head()"
   ]
  },
  {
   "cell_type": "code",
   "execution_count": 97,
   "metadata": {},
   "outputs": [],
   "source": [
    "am_cols = [col for col in df_amenities.columns if col.startswith('am_')]"
   ]
  },
  {
   "cell_type": "code",
   "execution_count": 98,
   "metadata": {},
   "outputs": [],
   "source": [
    "dict_am_prices = {}\n",
    "\n",
    "dict_am_prices['am_Wifi'] = df_amenities.groupby('am_Wifi')['price'].mean().to_dict()"
   ]
  },
  {
   "cell_type": "code",
   "execution_count": 99,
   "metadata": {},
   "outputs": [
    {
     "data": {
      "text/plain": [
       "{'am_Wifi': {False: 773.156005788712, True: 783.938763039588}}"
      ]
     },
     "execution_count": 99,
     "metadata": {},
     "output_type": "execute_result"
    }
   ],
   "source": [
    "dict_am_prices"
   ]
  },
  {
   "cell_type": "code",
   "execution_count": 100,
   "metadata": {},
   "outputs": [
    {
     "data": {
      "text/plain": [
       "'Wifi'"
      ]
     },
     "execution_count": 100,
     "metadata": {},
     "output_type": "execute_result"
    }
   ],
   "source": [
    "re.sub('am_','','am_Wifi')"
   ]
  },
  {
   "cell_type": "code",
   "execution_count": 101,
   "metadata": {},
   "outputs": [],
   "source": [
    "dict_am_prices = {}\n",
    "\n",
    "for col in am_cols:\n",
    "\n",
    "    name = re.sub('am_','',col)\n",
    "\n",
    "    dict_am_prices[name] = df_amenities.groupby(col)['price'].agg(['mean','count'])\\\n",
    "                                                                .to_dict()\n"
   ]
  },
  {
   "cell_type": "code",
   "execution_count": 102,
   "metadata": {},
   "outputs": [
    {
     "data": {
      "text/plain": [
       "{'Wifi': {'mean': {False: 773.156005788712, True: 783.938763039588},\n",
       "  'count': {False: 3455, True: 22911}},\n",
       " 'Kitchen': {'mean': {False: 904.3426707597852, True: 769.164898989899},\n",
       "  'count': {False: 2606, True: 23760}},\n",
       " 'Long term stays allowed': {'mean': {False: 950.6460481099656,\n",
       "   True: 759.294496006907},\n",
       "  'count': {False: 3201, True: 23165}},\n",
       " 'Essentials': {'mean': {False: 1197.444245773732, True: 656.2480459087761},\n",
       "  'count': {False: 6152, True: 20214}},\n",
       " 'Hangers': {'mean': {False: 921.8906502749919, True: 706.9199672380506},\n",
       "  'count': {False: 9273, True: 17093}},\n",
       " 'Iron': {'mean': {False: 967.8883622428399, True: 670.7899088145897},\n",
       "  'count': {False: 9916, True: 16450}},\n",
       " 'Hot water': {'mean': {False: 1149.7749551703528, True: 556.7512248897599},\n",
       "  'count': {False: 10038, True: 16328}},\n",
       " 'Air conditioning': {'mean': {False: 560.839902200489,\n",
       "   True: 922.9593581562481},\n",
       "  'count': {False: 10225, True: 16141}},\n",
       " 'Dishes and silverware': {'mean': {False: 1127.5567261730562,\n",
       "   True: 563.0462922742786},\n",
       "  'count': {False: 10251, True: 16115}},\n",
       " 'Elevator': {'mean': {False: 790.8175812560556, True: 776.2554452807567},\n",
       "  'count': {False: 11353, True: 15013}},\n",
       " 'Cooking basics': {'mean': {False: 1038.2156157095917,\n",
       "   True: 541.9319051825677},\n",
       "  'count': {False: 12782, True: 13584}},\n",
       " 'Refrigerator': {'mean': {False: 959.8762991326092, True: 615.26553172673},\n",
       "  'count': {False: 12797, True: 13569}},\n",
       " 'Bed linens': {'mean': {False: 1005.0689020179544, True: 564.9900247506188},\n",
       "  'count': {False: 13033, True: 13333}}}"
      ]
     },
     "execution_count": 102,
     "metadata": {},
     "output_type": "execute_result"
    }
   ],
   "source": [
    "dict_am_prices"
   ]
  },
  {
   "cell_type": "code",
   "execution_count": null,
   "metadata": {},
   "outputs": [],
   "source": []
  }
 ],
 "metadata": {
  "kernelspec": {
   "display_name": "Python 3.9.7 ('base')",
   "language": "python",
   "name": "python3"
  },
  "language_info": {
   "codemirror_mode": {
    "name": "ipython",
    "version": 3
   },
   "file_extension": ".py",
   "mimetype": "text/x-python",
   "name": "python",
   "nbconvert_exporter": "python",
   "pygments_lexer": "ipython3",
   "version": "3.9.7"
  },
  "orig_nbformat": 4,
  "vscode": {
   "interpreter": {
    "hash": "7b78f899e070e48e38aa75d1493fbada7414d17ff77eb157a11c0b7b411187e8"
   }
  }
 },
 "nbformat": 4,
 "nbformat_minor": 2
}
